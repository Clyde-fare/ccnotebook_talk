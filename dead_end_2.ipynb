{
 "metadata": {
  "name": ""
 },
 "nbformat": 3,
 "nbformat_minor": 0,
 "worksheets": [
  {
   "cells": [
    {
     "cell_type": "markdown",
     "metadata": {},
     "source": [
      "another dead end continuation of [the initial set of calculations](localhost:8888/calculations.ipynb)"
     ]
    },
    {
     "cell_type": "code",
     "collapsed": false,
     "input": [
      "from ase.io import read\n",
      "from pygauss import Gaussian\n",
      "import cc_notebook_utils"
     ],
     "language": "python",
     "metadata": {},
     "outputs": []
    },
    {
     "cell_type": "code",
     "collapsed": false,
     "input": [
      "init_structure = 'my_guess_structure.xyz'\n",
      "\n",
      "optimisations = []\n",
      "\n",
      "for method in ['B3lYP', 'PBE', 'HF', 'MP2', 'CAS(4,4)']:\n",
      "    for basis in ['STO-3G', '4-21G', '6-21G', '6-31Gd']:\n",
      "        for multi in [1,3]:\n",
      "            opt_calc = read(init_structure)\n",
      "            opt_calc.set_calculator(Gaussian(label = method +'_' + basis + '_' + str(mult)\n",
      "                                             method=method\n",
      "                                             basis=basis\n",
      "                                             opt='opt'))\n",
      "            opt_calc.calc.set_job(nodes=8, memory=8*1400, time=5, queue='pqmb', version='g09')\n",
      "            #opt_calc.calc.start()\n",
      "            optimisations.append(opt_calc)"
     ],
     "language": "python",
     "metadata": {},
     "outputs": []
    },
    {
     "cell_type": "code",
     "collapsed": false,
     "input": [
      "check_calcs(optimisations)\n",
      "mols_html(optimisations)"
     ],
     "language": "python",
     "metadata": {},
     "outputs": []
    }
   ],
   "metadata": {}
  }
 ]
}