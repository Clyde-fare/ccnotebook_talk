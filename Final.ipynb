{
 "metadata": {
  "name": ""
 },
 "nbformat": 3,
 "nbformat_minor": 0,
 "worksheets": [
  {
   "cells": [
    {
     "cell_type": "markdown",
     "metadata": {},
     "source": [
      "last notebook building on [analysis](localhost:8888/analysis.ipynb)"
     ]
    }
   ],
   "metadata": {}
  }
 ]
}