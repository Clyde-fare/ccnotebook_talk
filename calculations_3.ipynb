{
 "metadata": {
  "name": ""
 },
 "nbformat": 3,
 "nbformat_minor": 0,
 "worksheets": [
  {
   "cells": [
    {
     "cell_type": "markdown",
     "metadata": {},
     "source": [
      "analysis done from [earlier_calcs](localhost://8888:calculcations_3.ipynb)"
     ]
    }
   ],
   "metadata": {}
  }
 ]
}