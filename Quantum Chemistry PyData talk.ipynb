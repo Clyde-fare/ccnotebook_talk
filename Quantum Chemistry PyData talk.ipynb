{
 "metadata": {
  "celltoolbar": "Slideshow",
  "name": ""
 },
 "nbformat": 3,
 "nbformat_minor": 0,
 "worksheets": [
  {
   "cells": [
    {
     "cell_type": "heading",
     "level": 1,
     "metadata": {
      "slideshow": {
       "slide_type": "slide"
      }
     },
     "source": [
      "A Quantum Chemical Notebook"
     ]
    },
    {
     "cell_type": "markdown",
     "metadata": {
      "slideshow": {
       "slide_type": "subslide"
      }
     },
     "source": [
      "Talk overview:\n",
      "    \n",
      "*    Introduction - what is quantum chemistry, history, current status, future prospects, Gaussian\n",
      "\n",
      "\n",
      "*    Methods      - what tools and technologies do quantum chemists use\n",
      "\n",
      "\n",
      "*    Python       - what can Python bring to the table - ASE, cclib, pygauss\n",
      "\n",
      "\n",
      "*    IPython notebook - what does the IPython notebook bring to the table, building a quantum chemical Notebook, Pygauss example\n",
      "\n",
      "\n",
      "*    Conclusions  - change is a foot, future work"
     ]
    },
    {
     "cell_type": "markdown",
     "metadata": {
      "slideshow": {
       "slide_type": "notes"
      }
     },
     "source": [
      "History\n",
      "Current status\n",
      "Future prospects"
     ]
    },
    {
     "cell_type": "markdown",
     "metadata": {
      "slideshow": {
       "slide_type": "slide"
      }
     },
     "source": [
      "What is quantum chemistry?\n",
      "--------------------------\n",
      "\n",
      "\"Quantum chemistry is a branch of chemistry whose primary focus is the application of quantum mechanics in physical models and experiments of chemical systems. It involves heavy interplay of experimental and theoretical methods.\" Wikipedia 2014\n",
      "\n",
      "<img src=files/chemistry.jpg width=200></img> <img src=files/mechanism.png width=450></img> <img src=files/spectra.gif width=250></img>"
     ]
    },
    {
     "cell_type": "markdown",
     "metadata": {
      "slideshow": {
       "slide_type": "notes"
      }
     },
     "source": [
      "Used for many things including computing rates, analysing spectra, determining mechanisms, and generally peering into natures beating heart."
     ]
    },
    {
     "cell_type": "markdown",
     "metadata": {
      "slideshow": {
       "slide_type": "subslide"
      }
     },
     "source": [
      "\"The fundamental laws necessary for the mathematical treatment of a large part of physics and the whole of chemistry are thus completely known, and the difficulty lies only in the fact that application of these laws leads to equations that are too complex to be solved.\" P.M. Dirac 1929\n",
      "\n",
      "When we are 'applying quantum mechanics' what equations are we trying to solve?\n",
      "\n",
      "In classical mechanics we have Hamilton's equations which defines the allowed states of macroscopic systems and their dynamics far from the speed of light: \n",
      "\n",
      "$\\frac{d\\boldsymbol{p}}{dt} = -\\frac{\\partial \\mathcal{H}}{\\partial \\boldsymbol{q}}$ and $\\frac{d\\boldsymbol{q}}{dt} = +\\frac{\\partial \\mathcal{H}}{\\partial \\boldsymbol{p}}$ \n",
      "\n",
      "$\\mathcal{H} = \\frac{p^2}{2m} + V(q).$\n",
      "\n",
      "<img src='files/planets.jpg' width=300></img>\n",
      "\n",
      "And in quantum mechanics we have the Schrodinger equation which defines the allowed states and their dynamics of microscopic systems far from the speed of light:\n",
      "\n",
      "$i\\hbar\\frac{\\partial}{\\partial t} \\Psi(\\mathbf{r},t) = \\hat{H} \\Psi(\\mathbf{r},t)$ \n",
      "\n",
      "$\\hat{H} = -\\frac{-\\hbar^2}{2m}\\nabla^2 + V(\\mathbf{r},t)$   \n",
      "\n",
      "<img src='files/debroglie_atom.jpg' height=350></img>"
     ]
    },
    {
     "cell_type": "markdown",
     "metadata": {
      "slideshow": {
       "slide_type": "notes"
      }
     },
     "source": [
      "This electronic time independent Schrodinger equation takes an input parameters the position and charges of the relevent nuclei and the number of electrons and gives us back the stationary states the electrons can occur in. This is roughly equivalent to specifying the the location and mass of a number of suns and specifying a number of planets and getting back the possible stable orbits around the suns that the planets could take.\n",
      "\n",
      "From these electronic stationary states we can compute all the properties of the system, but usually we care most about the energy and derivatives of the energy (with respect to changes in nuclear geometry) at different nuclear positions."
     ]
    },
    {
     "cell_type": "markdown",
     "metadata": {
      "slideshow": {
       "slide_type": "slide"
      }
     },
     "source": [
      "<img src='files/Hydrogen_Plots.png' width=700 height=400></img>"
     ]
    },
    {
     "cell_type": "markdown",
     "metadata": {},
     "source": [
      "-http://commons.wikimedia.org/wiki/File:Hydrogen_Density_Plots.png"
     ]
    },
    {
     "cell_type": "markdown",
     "metadata": {
      "slideshow": {
       "slide_type": "slide"
      }
     },
     "source": [
      "\"The fundamental laws necessary for the mathematical treatment of a large part of physics and the whole of chemistry are thus completely known, and the difficulty lies only in the fact that application of these laws leads to equations that are too complex to be solved. It therefore becomes desirable that approximate practical methods of applying quantum mechanics should be developed, which can lead to an explanation of the main features of complex atomic systems without too much computation.\" P. M. Dirac 1929."
     ]
    },
    {
     "cell_type": "markdown",
     "metadata": {
      "slideshow": {
       "slide_type": "fragment"
      }
     },
     "source": [
      "From 1929 onwards great efforts expended to find these practical methods, many methods have been developed that trade off accuracy for decreased computational cost.\n",
      "\n",
      "With advances in both computer power and more intelligent methods we have gone from being able to perform calculations on diatomic molecules to being able to perform calculations of macromolecular ensembles spanning millions atoms."
     ]
    },
    {
     "cell_type": "markdown",
     "metadata": {
      "slideshow": {
       "slide_type": "fragment"
      }
     },
     "source": [
      "<img src=files/diatomic.jpg width=505 height=500></img>"
     ]
    },
    {
     "cell_type": "markdown",
     "metadata": {
      "slideshow": {
       "slide_type": "fragment"
      }
     },
     "source": [
      "<iframe src=http://www.youtube.com/embed/B32p2pho-HY? width=500 height=500></iframe>"
     ]
    },
    {
     "cell_type": "markdown",
     "metadata": {
      "slideshow": {
       "slide_type": "notes"
      }
     },
     "source": [
      "A diatomic molecule is about 2 angstroms, this chromaphore is ~100 nm, that's three orders of magnitude greater. So if in the 1920s we were performing calculations on objects with a diameter about equal to a football now we can perform calculcations on objects with a diameter about equal to the O2 arean (i.e. the millenium dome). "
     ]
    },
    {
     "cell_type": "heading",
     "level": 3,
     "metadata": {
      "slideshow": {
       "slide_type": "slide"
      }
     },
     "source": [
      "Technology"
     ]
    },
    {
     "cell_type": "markdown",
     "metadata": {
      "slideshow": {
       "slide_type": "fragment"
      }
     },
     "source": [
      "We now have numerous different methods each one corresponding to a different degree of approximation:\n",
      "\n",
      "* RHF, ROHF, UHF\n",
      "* MP2, MP3, MP4...\n",
      "* CIS, CISD, CISDT, CISDQ...\n",
      "* CCSD, CCSD(t), CCSDT, CCSDTQ...\n",
      "* CASSCF, RASSCF\n",
      "* MRCIS, MRCISD, MRCISDT...\n",
      "* MRCCSD, MRCCSDT...\n",
      "* NEVPT2, NEVPT3...\n",
      "* CASPT2, CASPT3...\n",
      "* SUMR-CC\n",
      "* PBE, LDA, BP86, HSE, BLYP\n",
      "* B3LYP, revPBE, wB97X-D,CAM-B3LYP \n",
      "* and many more\n",
      "\n",
      "Some of the above are infact families of methods and further parameters need to be specified. After choosing a method we must also choose the degree of numerical accuracy we will use, which gives rise to another large number of possibilities.\n",
      "\n",
      "* STO-3G, 3-21G, 6-21G, 4-31G, 6-31G, 6-311G, \n",
      "* D95V, D95, SHC, \n",
      "* CEP-4G, CEP-31G, CEP-121G, \n",
      "* SV, SVP, TZV, TZVP, \n",
      "* cc-pVDZ, cc-pVTZ, cc-pVQZ, cc-pV5Z, cc-pV6\n",
      "* and many more\n",
      "\n",
      "All in all a lot of choice!"
     ]
    },
    {
     "cell_type": "markdown",
     "metadata": {
      "slideshow": {
       "slide_type": "notes"
      }
     },
     "source": [
      "The choice of method is akin to choosing how to simplfiy the equations and the choice of basis set is akin to choosing how accurately to solve the new simplified equations."
     ]
    },
    {
     "cell_type": "markdown",
     "metadata": {
      "slideshow": {
       "slide_type": "slide"
      }
     },
     "source": [
      "Many man years of development has resulted in a vast amount of choice. Implemented in numerous code bases some of which began life in the 1960s and have expanded since then.\n",
      "\n",
      "New codes are always starting but the biggest have a significant head start and dominate academic and industrial usage. The most developed and popular is Gaussian.\n",
      "\n",
      "\n",
      "<p></p>\n",
      "<div>\n",
      "<a class=\"reference external\" href=\"ase/calculators/abinit.html\"><img alt=\"abinit\" class=\"align-middle\" src=\"files/abinit.png\"></a> \n",
      "<a class=\"reference external\" href=\"http://wiki.fysik.dtu.dk/asap\"><img alt=\"Asap\" class=\"align-middle\" src=\"files/asap.png\"></a> \n",
      "<a class=\"reference external\" href=\"ase/calculators/castep.html\"><img alt=\"CASTEP\" class=\"align-middle\" src=\"files/castep.png\"></a> \n",
      "<a class=\"reference external\" href=\"ase/calculators/dftb.html\"><img alt=\"dftb\" class=\"align-middle\" src=\"files/dftb.png\"></a> \n",
      "<a class=\"reference external\" href=\"http://elk.sourceforge.net/\"><img alt=\"elk\" class=\"align-middle\" src=\"files/elk.png\"></a> \n",
      "<a class=\"reference external\" href=\"ase/calculators/exciting.html\"><img alt=\"exciting\" class=\"align-middle\" src=\"files/exciting1.png\"></a>\n",
      "<a class=\"reference external\" href=\"ase/calculators/emt.html\"><img alt=\"EMT\" class=\"align-middle\" src=\"files/emt.png\"></a> \n",
      "<a class=\"reference external\" href=\"ase/calculators/FHI-aims.html\"><img alt=\"fhi-aims\" class=\"align-middle\" src=\"files/fhi-aims.png\"></a>\n",
      "<a class=\"reference external\" href=\"ase/calculators/fleur.html\"><img alt=\"fleur\" class=\"align-middle\" src=\"files/fleur.png\"></a> \n",
      "\n",
      "<a class=\"reference external\" href=\"http://www.gaussian.com/\"><img alt=\"Gaussian\" class=\"align-middle\" src=\"files/gaussian_small.jpg\" width=75></a> \n",
      "\n",
      "<a class=\"reference external\" href=\"http://wiki.fysik.dtu.dk/gpaw\"><img alt=\"gpaw\" class=\"align-middle\" src=\"files/gpaw.png\"></a>\n",
      "<a class=\"reference external\" href=\"https://trac.cc.jyu.fi/projects/hotbit\"><img alt=\"hotbit\" class=\"align-middle\" src=\"files/hotbit.png\"></a>\n",
      "<a class=\"reference external\" href=\"ase/calculators/jacapo.html\"><img alt=\"jacapo\" class=\"align-middle\" src=\"files/jacapo.png\"></a>\n",
      "<a class=\"reference external\" href=\"http://sourceforge.net/p/jdftx/wiki/ASE%20Interface\"><img alt=\"jdftx\" class=\"align-middle\" src=\"files/jdftx.png\"></a>\n",
      "<a class=\"reference external\" href=\"ase/calculators/lammps.html\"><img alt=\"lammps\" class=\"align-middle\" src=\"files/lammps.png\"></a> \n",
      "<a class=\"reference external\" href=\"http://openmopac.net/\">Mopac</a>\n",
      "<a class=\"reference external\" href=\"http://www.nwchem-sw.org\"><img alt=\"nwchem\" class=\"align-middle\" src=\"files/nwchem.png\"></a>\n",
      "<a class=\"reference external\" href=\"ase/calculators/siesta.html\"><img alt=\"siesta\" class=\"align-middle\" src=\"files/siesta.png\"></a> \n",
      "<a class=\"reference external\" href=\"ase/calculators/turbomole.html\"><img alt=\"turbomole\" class=\"align-middle\" src=\"files/tm_logo_l.png\"></a>\n",
      "<a class=\"reference external\" href=\"ase/calculators/vasp.html\"><img alt=\"vasp\" class=\"align-middle\" src=\"files/vasp.png\"></a></div>"
     ]
    },
    {
     "cell_type": "markdown",
     "metadata": {
      "slideshow": {
       "slide_type": "subslide"
      }
     },
     "source": [
      "The maturity of quantum chemistry and the big quantum chemistry codes comes with some downsides. Program design and workflows follow designs from another era.\n",
      "\n",
      "<img src='files/old_comps.jpg' width=350></img>"
     ]
    },
    {
     "cell_type": "markdown",
     "metadata": {
      "slideshow": {
       "slide_type": "subslide"
      }
     },
     "source": [
      "Gaussian source code still written as if it's being run on punch cards, 'GOTO statements' still used:\n",
      "\n",
      "          IMPLICIT DOUBLE PRECISION(A-H,O-Z)\n",
      "          COMMON/MATRIX/S(2,2),X(2,2),XT(2,2),H(2,2),F(2,2),G(2,2),C(2,2),\n",
      "         $ FPRIME(2,2),CPRIME(2,2),P(2,2),OLDP(2,2),TT(2,2,2,2),E(2,2)\n",
      "          DATA PI/3.1415926535898D0/\n",
      "    C     CONVERGENCE CRITERION FOR DENSITY MATRIX\n",
      "          DATA CRIT/1.0D-4/\n",
      "    C     MAXIMUM NUMBER OF ITERATIONS\n",
      "          DATA MAXIT/25/\n",
      "    C     ITERATION NUMBER\n",
      "          ITER=0\n",
      "    C     USE CORE-HAMILTONIAN FOR INITIAL GUESS AT F, I.E. (P=0)\n",
      "          DO 10 I=1,2\n",
      "          DO 10 J=1,2\n",
      "       10 P(I,J)=0.0D0\n",
      "          IF (IOP.LT.2) GO TO 20\n",
      "          CALL MATOUT(P,2,2,2,2,4HP   )\n",
      "    C     START OF ITERATION LOOP\n",
      "       20 ITER=ITER+1\n",
      "          IF (IOP.LT.2) GO TO 40\n",
      "          PRINT 30, ITER\n",
      "       ... \n",
      "\n",
      "\n",
      "<img src='files/goto.png' width=700 height=350></img>"
     ]
    },
    {
     "cell_type": "markdown",
     "metadata": {
      "slideshow": {
       "slide_type": "slide"
      }
     },
     "source": [
      "Calculations are controlled by specifying text based input files, which can be fairly simple:"
     ]
    },
    {
     "cell_type": "raw",
     "metadata": {
      "slideshow": {
       "slide_type": "fragment"
      }
     },
     "source": [
      "%mem=8000MB\n",
      "%chk=/scratch/Kr_mp2_dimer_9.chk\n",
      "%nproc=8\n",
      "#p gfprint MP2/6-31G*\n",
      "\n",
      "Gaussian input prepared by ASE\n",
      "\n",
      "0 1\n",
      "Kr                0.0000000000        0.0000000000        0.0000000000\n",
      "Kr                0.0000000000        0.0000000000        2.7500000000"
     ]
    },
    {
     "cell_type": "markdown",
     "metadata": {
      "slideshow": {
       "slide_type": "subslide"
      }
     },
     "source": [
      "Or horrendous:"
     ]
    },
    {
     "cell_type": "raw",
     "metadata": {
      "slideshow": {
       "slide_type": "fragment"
      }
     },
     "source": [
      "%mem=120GB\n",
      "%chk=/scratch/1W7SAw_S0_FREQ_oniom_b3lyp_631gd1_amber_pt1\n",
      "%nprocshared=16\n",
      "#p freq=(intmodes,hpmodes) oniom(b3lyp/6-31+g(d):amber=hardfirst) nosymm geom=connectivity\n",
      "IOp(1/52=5, 1/53=1, 1/66=12, 4/119=10, 2/15=3)\n",
      "\n",
      "Mechanically embedded ONIOM GFP frequency small partition\n",
      "\n",
      "-6 1\n",
      "N-N3-0.184900(PDBName=N,ResName=SER,ResNum=1_0) -22.55849   4.98178   0.09116  M \n",
      "H-H-0.189800(PDBName=H1,ResName=SER,ResNum=1_0) -21.88048   5.60949  -0.33459  M \n",
      "H-H-0.189800(PDBName=H2,ResName=SER,ResNum=1_0) -23.36976   5.55472   0.28662  M \n",
      "H-H-0.189800(PDBName=H3,ResName=SER,ResNum=1_0) -22.80656   4.25772  -0.57072  M \n",
      "C-CT-0.056700(PDBName=CA,ResName=SER,ResNum=1_0) -22.03207   4.42959   1.35821  M \n",
      "...\n",
      "and on for 1000+ more lines\n",
      "...\n",
      "\n",
      "1 2 1.0 3 1.0 4 1.0 5 1.0\n",
      " 2\n",
      " 3\n",
      " 4\n",
      " 5 6 1.0 7 1.0 12 1.0\n",
      " 6\n",
      " 7 8 1.0 9 1.0 10 1.0\n",
      " 8\n",
      " 9\n",
      "...\n",
      "and on for 1000+ more lines\n",
      "...\n",
      " HrmStr1 CM HC 344.30   1.087\n",
      " HrmStr1 CC N* 411.10   1.391\n",
      " HrmStr1 CC O  546.20   1.261\n",
      " HrmStr1 CC CM 418.30   1.429\n",
      " HrmStr1 CC CC 418.30   1.429\n",
      " HrmBnd1 CM C  OH 72.543     113.670\n",
      " HrmBnd1 CA C  CM 67.200     116.780\n",
      " HrmBnd1 HC CM CA 50.300     119.700\n",
      "...\n",
      "and on for 100+ more lines"
     ]
    },
    {
     "cell_type": "markdown",
     "metadata": {
      "slideshow": {
       "slide_type": "slide"
      }
     },
     "source": [
      "Some GUI based tools available which have significantly reduced the technical barrier to entering the field and without which certain calculations would be impractical:"
     ]
    },
    {
     "cell_type": "markdown",
     "metadata": {
      "slideshow": {
       "slide_type": "fragment"
      }
     },
     "source": [
      "<img src='files/Gaussview.png'></img>"
     ]
    },
    {
     "cell_type": "markdown",
     "metadata": {
      "slideshow": {
       "slide_type": "fragment"
      }
     },
     "source": [
      "**But** incomplete, buggy, closed source, not extendable, and not scriptable and expensive."
     ]
    },
    {
     "cell_type": "markdown",
     "metadata": {
      "slideshow": {
       "slide_type": "slide"
      }
     },
     "source": [
      "Reasonable documentation for keywords:"
     ]
    },
    {
     "cell_type": "markdown",
     "metadata": {
      "slideshow": {
       "slide_type": "fragment"
      }
     },
     "source": [
      "<iframe src=http://www.gaussian.com/g_tech/g_ur/l_keywords09.htm width=750 height=350 seamless align=\"center\"></iframe>"
     ]
    },
    {
     "cell_type": "markdown",
     "metadata": {
      "slideshow": {
       "slide_type": "slide"
      }
     },
     "source": [
      "But full control of the program involves use of special machine codes known as IOPS which requires what amounts to an apprentership with one of the old masters who have the requisit knowledge."
     ]
    },
    {
     "cell_type": "markdown",
     "metadata": {
      "slideshow": {
       "slide_type": "fragment"
      }
     },
     "source": [
      "Where you attempt to please  the master by performing suitable tasks in the hope you will be rewarded by the secret knowledge."
     ]
    },
    {
     "cell_type": "markdown",
     "metadata": {
      "slideshow": {
       "slide_type": "fragment"
      }
     },
     "source": [
      "<img src='files/apprentices.jpg' width=500 height=500></img>"
     ]
    },
    {
     "cell_type": "markdown",
     "metadata": {
      "slideshow": {
       "slide_type": "slide"
      }
     },
     "source": [
      "Even with suitable training in extreme yet still popular cases e.g. calculations involving many atoms that involve combining parameterised forcefields with a quantum core, requires a complicated workflow encompassing several different programs both both gui and console based, and additional hand editing files.\n",
      "\n",
      "Prepartion a single calculation can take days or even weeks.\n",
      "\n",
      "<img src='files/oniom_flow_chart_.jpg'></img>"
     ]
    },
    {
     "cell_type": "markdown",
     "metadata": {},
     "source": [
      "Primary output in the form of text based log files. Started out simple but progressively added to, resulting in a meaning unsuitable for neither man nor machine.\n",
      "\n",
      "Machine readable output available, albeit in a non-standard format. But in some information only available in log files."
     ]
    },
    {
     "cell_type": "heading",
     "level": 3,
     "metadata": {
      "slideshow": {
       "slide_type": "slide"
      }
     },
     "source": [
      "Culture"
     ]
    },
    {
     "cell_type": "code",
     "collapsed": false,
     "input": [
      "Broad description of calculations if you are lucky some text files of the geometries\n",
      "Repeating calculations can be easy or it can be a nightmare due to hidden gotchas."
     ],
     "language": "python",
     "metadata": {
      "slideshow": {
       "slide_type": "fragment"
      }
     },
     "outputs": []
    },
    {
     "cell_type": "heading",
     "level": 3,
     "metadata": {
      "slideshow": {
       "slide_type": "slide"
      }
     },
     "source": [
      "Summary of Problems"
     ]
    },
    {
     "cell_type": "markdown",
     "metadata": {
      "slideshow": {
       "slide_type": "fragment"
      }
     },
     "source": [
      "Legacy quantum chemistry codes dominate quantum cehmical research due to large amount research and development poured into them and hence the wide range of methods they have available. \n",
      "\n",
      "However individual research workflows using them are less efficient than they might be.\n",
      "\n",
      "Despite progress there is still an unnecessary technical barrier to performing calculations.\n",
      "\n",
      "Exchange of information in the scientific literature is limited by both the culture and the toolset commonly used.\n",
      "\n",
      "Involvement of quantum chemistry in interdisciplionary fields is slowed by the lack of a quantum chemical api."
     ]
    },
    {
     "cell_type": "heading",
     "level": 2,
     "metadata": {
      "slideshow": {
       "slide_type": "slide"
      }
     },
     "source": [
      "So how can Python Help?"
     ]
    },
    {
     "cell_type": "markdown",
     "metadata": {
      "slideshow": {
       "slide_type": "subslide"
      }
     },
     "source": [
      "Replace medieval practices of writing elaborate text files and aneurism inducing output files by wrapping both input file creation and output file parsing in Python.\n",
      "\n",
      "Use of such apis coud:\n",
      "\n",
      "* make individual researchers much more efficient \n",
      "* allow computational chemistry to be more effectively in an interdiscplinary context \n",
      "* with the notebook offer a curated store of research data"
     ]
    },
    {
     "cell_type": "markdown",
     "metadata": {
      "slideshow": {
       "slide_type": "notes"
      }
     },
     "source": [
      "If you're going to have a black box make it a pretty black box."
     ]
    },
    {
     "cell_type": "heading",
     "level": 2,
     "metadata": {
      "slideshow": {
       "slide_type": "slide"
      }
     },
     "source": [
      "APIs out there:"
     ]
    },
    {
     "cell_type": "markdown",
     "metadata": {
      "slideshow": {
       "slide_type": "fragment"
      }
     },
     "source": [
      "**ASE**\n",
      "\n",
      "ASE is an Atomistic Simulation Environment written in the Python programming language with the aim of setting up, steering, and analyzing atomistic simulations.\n",
      "\n",
      "S. R. Bahn and K. W. Jacobsen An object-oriented scripting interface to a legacy electronic structure code, Comput. Sci. Eng., Vol. 4, 56-66, 2002"
     ]
    },
    {
     "cell_type": "code",
     "collapsed": false,
     "input": [
      "from ase import Atoms\n",
      "d = 1.10\n",
      "molecule = Atoms('2N', positions=[(0., 0., 0.), (0., 0., d)])"
     ],
     "language": "python",
     "metadata": {},
     "outputs": []
    },
    {
     "cell_type": "code",
     "collapsed": false,
     "input": [
      "from ase.calculators.emt import EMT\n",
      "slab.set_calculator(EMT())\n",
      "molecule.set_calculator(EMT())"
     ],
     "language": "python",
     "metadata": {},
     "outputs": []
    },
    {
     "cell_type": "code",
     "collapsed": false,
     "input": [
      "from ase import Atoms\n",
      "from ase.visualize import view\n",
      "from ase.calculators.emt import EMT\n",
      "from ase.constraints import FixAtoms\n",
      "from ase.optimize import QuasiNewton\n",
      "from ase.lattice.surface import fcc111,add_adsorbate\n",
      "\n",
      "h = 1.85\n",
      "d = 1.10\n",
      "\n",
      "slab = fcc111('Cu', size=(4,4,2), vacuum=10.0)\n",
      "\n",
      "slab.set_calculator(EMT())\n",
      "e_slab = slab.get_potential_energy()\n",
      "\n",
      "molecule = Atoms('2N', positions=[(0., 0., 0.), (0., 0., d)])\n",
      "molecule.set_calculator(EMT())\n",
      "e_N2 = molecule.get_potential_energy()\n",
      "\n",
      "add_adsorbate(slab, molecule, h, 'ontop')\n",
      "constraint = FixAtoms(mask=[a.symbol != 'N' for a in slab])\n",
      "slab.set_constraint(constraint)\n",
      "dyn = QuasiNewton(slab, trajectory='N2Cu.traj')\n",
      "dyn.run(fmax=0.05)\n",
      "\n",
      "print('Adsorption energy:', e_slab + e_N2 - slab.get_potential_energy())\n",
      "\n",
      "#view(slab)"
     ],
     "language": "python",
     "metadata": {
      "slideshow": {
       "slide_type": "fragment"
      }
     },
     "outputs": [
      {
       "output_type": "stream",
       "stream": "stdout",
       "text": [
        "BFGSLineSearch:   0[  0]  17:19:55       11.689925       1.0797\n"
       ]
      },
      {
       "output_type": "stream",
       "stream": "stdout",
       "text": [
        "BFGSLineSearch:   1[  2]  17:19:55       11.670813       0.4090\n"
       ]
      },
      {
       "output_type": "stream",
       "stream": "stdout",
       "text": [
        "BFGSLineSearch:   2[  4]  17:19:55       11.625878       0.0409\n"
       ]
      },
      {
       "output_type": "stream",
       "stream": "stdout",
       "text": [
        "('Adsorption energy:', 0.32351907872451413)\n"
       ]
      }
     ],
     "prompt_number": 38
    },
    {
     "cell_type": "markdown",
     "metadata": {
      "slideshow": {
       "slide_type": "subslide"
      }
     },
     "source": [
      "ASE offers partial wrapping of the input of ab initio quantum chemical packages. Philosophy is to allow multiple distinct packages to be used to compute energies, and gradients, and some other basic properties often used in conjunction with ASE's optimisation routines.\n",
      "\n",
      "Workflow is production of a script making use of ASE's machinary. Script is either run locally or submitted to a computing cluster."
     ]
    },
    {
     "cell_type": "markdown",
     "metadata": {
      "slideshow": {
       "slide_type": "slide"
      }
     },
     "source": [
      "**cclib**\n",
      "\n",
      "A parsing library for quantum chemical output files by Noel O'Boyle, Adam Tenderholt, Karol Langner and others.\n",
      "\n",
      "N. M. O'Boyle, A. L. Tenderholt, K. M. Langner, cclib: a library for package-independent computational chemistry algorithms, J. Comp. Chem. 29 (5), pp. 839-845, 2008 (DOI)."
     ]
    },
    {
     "cell_type": "code",
     "collapsed": false,
     "input": [
      "from cclib.parser import ADF, GAMESS, GAMESSUK, Gaussian, Molpro, Jaguar\n",
      "myfile = Gaussian(\"triang_graphene.log\")\n",
      "raw_data = myfile.parse()\n",
      "data = raw_data.getattributes()\n",
      "data.keys()"
     ],
     "language": "python",
     "metadata": {
      "slideshow": {
       "slide_type": "subslide"
      }
     },
     "outputs": [
      {
       "output_type": "stream",
       "stream": "stdout",
       "text": [
        "[Gaussian triang_graphene.log INFO] Creating attribute charge: 0\n"
       ]
      },
      {
       "output_type": "stream",
       "stream": "stdout",
       "text": [
        "[Gaussian triang_graphene.log INFO] Creating attribute mult: 1\n"
       ]
      },
      {
       "output_type": "stream",
       "stream": "stdout",
       "text": [
        "[Gaussian triang_graphene.log INFO] Creating attribute natom: 34\n"
       ]
      },
      {
       "output_type": "stream",
       "stream": "stdout",
       "text": [
        "[Gaussian triang_graphene.log INFO] Creating attribute atommasses[]\n"
       ]
      },
      {
       "output_type": "stream",
       "stream": "stdout",
       "text": [
        "[Gaussian triang_graphene.log INFO] Creating attribute atomnos[]\n"
       ]
      },
      {
       "output_type": "stream",
       "stream": "stdout",
       "text": [
        "[Gaussian triang_graphene.log INFO] Creating attribute atomcoords[]\n"
       ]
      },
      {
       "output_type": "stream",
       "stream": "stdout",
       "text": [
        "[Gaussian triang_graphene.log INFO] Creating attribute nbasis: 354\n"
       ]
      },
      {
       "output_type": "stream",
       "stream": "stdout",
       "text": [
        "[Gaussian triang_graphene.log INFO] Creating attribute nmo: 354\n"
       ]
      },
      {
       "output_type": "stream",
       "stream": "stdout",
       "text": [
        "[Gaussian triang_graphene.log INFO] Creating attribute scftargets[]\n"
       ]
      },
      {
       "output_type": "stream",
       "stream": "stdout",
       "text": [
        "[Gaussian triang_graphene.log INFO] Creating attribute scfvalues[]\n"
       ]
      },
      {
       "output_type": "stream",
       "stream": "stdout",
       "text": [
        "[Gaussian triang_graphene.log INFO] Creating attribute scfenergies[]\n"
       ]
      },
      {
       "output_type": "stream",
       "stream": "stdout",
       "text": [
        "[Gaussian triang_graphene.log INFO] Creating attribute coreelectrons[]\n"
       ]
      },
      {
       "metadata": {},
       "output_type": "pyout",
       "prompt_number": 47,
       "text": [
        "['coreelectrons',\n",
        " 'atomnos',\n",
        " 'atomcoords',\n",
        " 'atommasses',\n",
        " 'charge',\n",
        " 'scfenergies',\n",
        " 'scftargets',\n",
        " 'nbasis',\n",
        " 'natom',\n",
        " 'nmo',\n",
        " 'scfvalues',\n",
        " 'mult']"
       ]
      }
     ],
     "prompt_number": 47
    },
    {
     "cell_type": "code",
     "collapsed": false,
     "input": [
      "data['scfvalues']"
     ],
     "language": "python",
     "metadata": {
      "slideshow": {
       "slide_type": "subslide"
      }
     },
     "outputs": [
      {
       "metadata": {},
       "output_type": "pyout",
       "prompt_number": 50,
       "text": [
        "[array([[  6.90000000e-03,   1.80000000e-01,   1.00000000e+00],\n",
        "       [  4.06000000e-03,   1.22000000e-01,  -1.37000000e-01],\n",
        "       [  3.90000000e-03,   1.79000000e-01,   5.51000000e-02],\n",
        "       [  1.88000000e-03,   5.51000000e-02,   3.03000000e-01],\n",
        "       [  2.94000000e-03,   1.15000000e-01,  -5.27000000e-01],\n",
        "       [  2.90000000e-03,   9.66000000e-02,  -5.38000000e-03],\n",
        "       [  2.13000000e-03,   6.95000000e-02,  -5.40000000e-02],\n",
        "       [  2.80000000e-03,   9.27000000e-02,   1.75000000e-02],\n",
        "       [  2.21000000e-03,   7.05000000e-02,   6.87000000e-03],\n",
        "       [  3.47000000e-03,   2.01000000e-01,   1.99000000e-04],\n",
        "       [  2.16000000e-03,   6.48000000e-02,  -2.22000000e-02],\n",
        "       [  2.02000000e-03,   6.90000000e-02,   5.59000000e-02],\n",
        "       [  2.55000000e-03,   8.08000000e-02,  -7.20000000e-03],\n",
        "       [  1.97000000e-03,   7.25000000e-02,  -4.37000000e-02],\n",
        "       [  1.96000000e-04,   8.05000000e-03,   1.41000000e-02],\n",
        "       [  2.20000000e-03,   7.16000000e-02,  -5.66000000e-03],\n",
        "       [  5.22000000e-04,   1.94000000e-02,  -2.24000000e-02],\n",
        "       [  2.37000000e-03,   8.03000000e-02,   3.76000000e-04],\n",
        "       [  2.50000000e-04,   8.08000000e-03,   1.53000000e-02],\n",
        "       [  5.93000000e-05,   1.88000000e-03,   4.13000000e-03],\n",
        "       [  5.69000000e-05,   2.01000000e-03,  -8.60000000e-04],\n",
        "       [  2.52000000e-03,   9.31000000e-02,   1.27000000e-03],\n",
        "       [  3.23000000e-04,   9.89000000e-03,   8.24000000e-02],\n",
        "       [  3.98000000e-04,   1.39000000e-02,  -5.45000000e-02],\n",
        "       [  2.41000000e-04,   7.75000000e-03,  -1.16000000e-02],\n",
        "       [  2.70000000e-03,   8.55000000e-02,  -2.72000000e-03],\n",
        "       [  2.51000000e-03,   7.81000000e-02,  -3.64000000e-02],\n",
        "       [  2.42000000e-03,   7.66000000e-02,   3.69000000e-02],\n",
        "       [  2.11000000e-03,   7.07000000e-02,  -3.83000000e-02],\n",
        "       [  2.88000000e-03,   9.15000000e-02,   1.94000000e-02],\n",
        "       [  7.24000000e-04,   2.28000000e-02,   9.40000000e-03],\n",
        "       [  2.84000000e-03,   9.52000000e-02,   9.94000000e-03],\n",
        "       [  2.39000000e-03,   7.84000000e-02,  -2.20000000e-02],\n",
        "       [  2.85000000e-03,   8.97000000e-02,  -1.46000000e-02],\n",
        "       [  2.20000000e-04,   7.06000000e-03,   4.77000000e-02],\n",
        "       [  3.94000000e-05,   1.26000000e-03,  -1.41000000e-03],\n",
        "       [  2.37000000e-03,   7.40000000e-02,   1.62000000e-04],\n",
        "       [  2.14000000e-03,   6.95000000e-02,  -3.98000000e-02],\n",
        "       [  4.40000000e-04,   1.47000000e-02,   3.87000000e-02],\n",
        "       [  6.02000000e-04,   2.02000000e-02,   2.35000000e-03],\n",
        "       [  6.09000000e-04,   2.04000000e-02,  -3.50000000e-03],\n",
        "       [  6.00000000e-04,   2.01000000e-02,   3.53000000e-03],\n",
        "       [  5.98000000e-04,   2.01000000e-02,  -3.44000000e-03],\n",
        "       [  5.14000000e-04,   1.72000000e-02,   3.44000000e-03],\n",
        "       [  5.13000000e-04,   1.72000000e-02,  -2.78000000e-03],\n",
        "       [  4.93000000e-04,   1.65000000e-02,   2.78000000e-03],\n",
        "       [  4.93000000e-04,   1.65000000e-02,  -2.63000000e-03],\n",
        "       [  4.95000000e-04,   1.66000000e-02,   2.63000000e-03],\n",
        "       [  4.95000000e-04,   1.66000000e-02,  -2.64000000e-03],\n",
        "       [  4.95000000e-04,   1.66000000e-02,   2.64000000e-03],\n",
        "       [  4.95000000e-04,   1.66000000e-02,  -2.64000000e-03],\n",
        "       [  4.95000000e-04,   1.66000000e-02,   2.64000000e-03],\n",
        "       [  9.26000000e-05,   3.11000000e-03,  -2.64000000e-03],\n",
        "       [  2.12000000e-04,   7.09000000e-03,   7.79000000e-04],\n",
        "       [  2.15000000e-04,   7.20000000e-03,  -1.68000000e-03],\n",
        "       [  2.14000000e-04,   7.17000000e-03,   1.70000000e-03],\n",
        "       [  2.14000000e-04,   7.17000000e-03,  -1.70000000e-03],\n",
        "       [  2.14000000e-04,   7.17000000e-03,   1.70000000e-03],\n",
        "       [  2.14000000e-04,   7.17000000e-03,  -1.70000000e-03],\n",
        "       [  2.14000000e-04,   7.17000000e-03,   1.70000000e-03],\n",
        "       [  2.14000000e-04,   7.17000000e-03,  -1.70000000e-03],\n",
        "       [  2.14000000e-04,   7.17000000e-03,   1.70000000e-03],\n",
        "       [  2.14000000e-04,   7.17000000e-03,  -1.70000000e-03],\n",
        "       [  2.14000000e-04,   7.17000000e-03,   1.70000000e-03],\n",
        "       [  2.14000000e-04,   7.17000000e-03,  -1.70000000e-03],\n",
        "       [  2.14000000e-04,   7.17000000e-03,   1.70000000e-03],\n",
        "       [  2.14000000e-04,   7.17000000e-03,  -1.70000000e-03],\n",
        "       [  2.14000000e-04,   7.17000000e-03,   1.70000000e-03],\n",
        "       [  2.14000000e-04,   7.17000000e-03,  -1.70000000e-03],\n",
        "       [  2.14000000e-04,   7.17000000e-03,   1.70000000e-03],\n",
        "       [  2.14000000e-04,   7.17000000e-03,  -1.70000000e-03],\n",
        "       [  2.14000000e-04,   7.17000000e-03,   1.70000000e-03],\n",
        "       [  2.14000000e-04,   7.17000000e-03,  -1.70000000e-03],\n",
        "       [  2.14000000e-04,   7.17000000e-03,   1.70000000e-03],\n",
        "       [  2.14000000e-04,   7.17000000e-03,  -1.70000000e-03],\n",
        "       [  2.14000000e-04,   7.17000000e-03,   1.70000000e-03],\n",
        "       [  2.14000000e-04,   7.17000000e-03,  -1.70000000e-03],\n",
        "       [  2.14000000e-04,   7.17000000e-03,   1.70000000e-03],\n",
        "       [  2.14000000e-04,   7.17000000e-03,  -1.70000000e-03],\n",
        "       [  2.14000000e-04,   7.17000000e-03,   1.70000000e-03],\n",
        "       [  2.14000000e-04,   7.17000000e-03,  -1.70000000e-03],\n",
        "       [  2.14000000e-04,   7.17000000e-03,   1.70000000e-03],\n",
        "       [  2.14000000e-04,   7.17000000e-03,  -1.70000000e-03],\n",
        "       [  2.14000000e-04,   7.17000000e-03,   1.70000000e-03],\n",
        "       [  2.14000000e-04,   7.17000000e-03,  -1.70000000e-03],\n",
        "       [  2.14000000e-04,   7.17000000e-03,   1.70000000e-03],\n",
        "       [  2.14000000e-04,   7.17000000e-03,  -1.70000000e-03],\n",
        "       [  2.14000000e-04,   7.17000000e-03,   1.70000000e-03],\n",
        "       [  2.14000000e-04,   7.17000000e-03,  -1.70000000e-03],\n",
        "       [  2.14000000e-04,   7.17000000e-03,   1.70000000e-03],\n",
        "       [  2.14000000e-04,   7.17000000e-03,  -1.70000000e-03],\n",
        "       [  2.14000000e-04,   7.17000000e-03,   1.70000000e-03],\n",
        "       [  2.14000000e-04,   7.17000000e-03,  -1.70000000e-03],\n",
        "       [  2.14000000e-04,   7.17000000e-03,   1.70000000e-03],\n",
        "       [  2.14000000e-04,   7.17000000e-03,  -1.70000000e-03],\n",
        "       [  2.14000000e-04,   7.17000000e-03,   1.70000000e-03],\n",
        "       [  2.14000000e-04,   7.17000000e-03,  -1.70000000e-03],\n",
        "       [  2.14000000e-04,   7.17000000e-03,   1.70000000e-03],\n",
        "       [  2.14000000e-04,   7.17000000e-03,  -1.70000000e-03],\n",
        "       [  2.14000000e-04,   7.17000000e-03,   1.70000000e-03],\n",
        "       [  2.14000000e-04,   7.17000000e-03,  -1.70000000e-03],\n",
        "       [  2.14000000e-04,   7.17000000e-03,   1.70000000e-03],\n",
        "       [  2.14000000e-04,   7.17000000e-03,  -1.70000000e-03],\n",
        "       [  2.14000000e-04,   7.17000000e-03,   1.70000000e-03],\n",
        "       [  2.14000000e-04,   7.17000000e-03,  -1.70000000e-03],\n",
        "       [  2.14000000e-04,   7.17000000e-03,   1.70000000e-03],\n",
        "       [  2.14000000e-04,   7.17000000e-03,  -1.70000000e-03],\n",
        "       [  2.14000000e-04,   7.17000000e-03,   1.70000000e-03],\n",
        "       [  2.14000000e-04,   7.17000000e-03,  -1.70000000e-03],\n",
        "       [  2.14000000e-04,   7.17000000e-03,   1.70000000e-03],\n",
        "       [  2.14000000e-04,   7.17000000e-03,  -1.70000000e-03],\n",
        "       [  2.14000000e-04,   7.17000000e-03,   1.70000000e-03],\n",
        "       [  2.14000000e-04,   7.17000000e-03,  -1.70000000e-03],\n",
        "       [  2.14000000e-04,   7.17000000e-03,   1.70000000e-03],\n",
        "       [  2.14000000e-04,   7.17000000e-03,  -1.70000000e-03],\n",
        "       [  2.14000000e-04,   7.17000000e-03,   1.70000000e-03],\n",
        "       [  2.14000000e-04,   7.17000000e-03,  -1.70000000e-03],\n",
        "       [  2.14000000e-04,   7.17000000e-03,   1.70000000e-03],\n",
        "       [  2.14000000e-04,   7.17000000e-03,  -1.70000000e-03],\n",
        "       [  2.14000000e-04,   7.17000000e-03,   1.70000000e-03],\n",
        "       [  2.14000000e-04,   7.17000000e-03,  -1.70000000e-03],\n",
        "       [  2.14000000e-04,   7.17000000e-03,   1.70000000e-03],\n",
        "       [  2.14000000e-04,   7.17000000e-03,  -1.70000000e-03],\n",
        "       [  2.14000000e-04,   7.17000000e-03,   1.70000000e-03],\n",
        "       [  2.14000000e-04,   7.17000000e-03,  -1.70000000e-03],\n",
        "       [  2.14000000e-04,   7.17000000e-03,   1.70000000e-03],\n",
        "       [  2.14000000e-04,   7.17000000e-03,  -1.70000000e-03],\n",
        "       [  2.14000000e-04,   7.17000000e-03,   1.70000000e-03]])]"
       ]
      }
     ],
     "prompt_number": 50
    },
    {
     "cell_type": "code",
     "collapsed": false,
     "input": [
      "Molmod\n",
      "\n",
      "Molecular modelling toolkit offering topological analysis of molecules"
     ],
     "language": "python",
     "metadata": {},
     "outputs": []
    },
    {
     "cell_type": "code",
     "collapsed": false,
     "input": [
      "PYbel\n",
      "\n",
      "Openbabel's python bindings offering conversion between different chemical formats and some molecular preprocessing."
     ],
     "language": "python",
     "metadata": {},
     "outputs": []
    },
    {
     "cell_type": "code",
     "collapsed": false,
     "input": [
      "pbs_util + a little bit of hacking\n",
      "\n",
      "PBS based execution of jobs"
     ],
     "language": "python",
     "metadata": {},
     "outputs": []
    },
    {
     "cell_type": "code",
     "collapsed": false,
     "input": [
      "JMol\n",
      "\n",
      "Java app/javascript based molecular visualisation."
     ],
     "language": "python",
     "metadata": {},
     "outputs": []
    },
    {
     "cell_type": "code",
     "collapsed": false,
     "input": [
      "IPython Notebook\n",
      "\n",
      "Python + HTML + Javascript"
     ],
     "language": "python",
     "metadata": {},
     "outputs": []
    },
    {
     "cell_type": "code",
     "collapsed": false,
     "input": [
      "Several other relevant python packages covering molecular dynamics, chemoinformatics. Lots of possibilities."
     ],
     "language": "python",
     "metadata": {},
     "outputs": []
    },
    {
     "cell_type": "heading",
     "level": 3,
     "metadata": {
      "slideshow": {
       "slide_type": "slide"
      }
     },
     "source": [
      "IPython Notebook!"
     ]
    },
    {
     "cell_type": "markdown",
     "metadata": {
      "slideshow": {
       "slide_type": "fragment"
      }
     },
     "source": [
      "Aim to put the ingredients together to create a quantum chemical api (initially with Gaussian) that means all calculations can be run inside a notebook and analysed inside a notebook."
     ]
    },
    {
     "cell_type": "code",
     "collapsed": false,
     "input": [
      "Once we can generate the data and we can access the data we can leverage the entire python scientific stack for analysis and visualisation."
     ],
     "language": "python",
     "metadata": {
      "slideshow": {
       "slide_type": "subslide"
      }
     },
     "outputs": []
    },
    {
     "cell_type": "heading",
     "level": 3,
     "metadata": {
      "slideshow": {
       "slide_type": "slide"
      }
     },
     "source": [
      "Notebooks in action."
     ]
    },
    {
     "cell_type": "code",
     "collapsed": false,
     "input": [
      "from cc_notebook_utils import *"
     ],
     "language": "python",
     "metadata": {
      "slideshow": {
       "slide_type": "subslide"
      }
     },
     "outputs": [],
     "prompt_number": 2
    },
    {
     "cell_type": "code",
     "collapsed": false,
     "input": [
      "tri_graph_init, tri_graph_small_init = 'triang_graphene.xyz', 'triang_graphene_small.xyz'\n",
      "view_ipython_jmol([tri_graph_small_init,tri_graph_init], width=550, height=550)"
     ],
     "language": "python",
     "metadata": {
      "slideshow": {
       "slide_type": "-"
      }
     },
     "outputs": [],
     "prompt_number": 5
    },
    {
     "cell_type": "markdown",
     "metadata": {},
     "source": [
      "The small graphene unit has 13 carbons hence an odd number of p electrons so we will focus on the larger fragment (which was the one causing us problems in the first place). As we expect this to fail we will also try using the scf='xqc' keyword:"
     ]
    },
    {
     "cell_type": "markdown",
     "metadata": {
      "slideshow": {
       "slide_type": "subslide"
      }
     },
     "source": [
      "Try the normal a single point calculation at the geometry given by avogadro's forcefield optimisation:"
     ]
    },
    {
     "cell_type": "code",
     "collapsed": false,
     "input": [
      "b3lyp_tri = read(tri_graph_init)\n",
      "b3lyp_tri.set_calculator(Gaussian(label='triang_graphene', method='B3LYP', basis='6-31G(d)'))\n",
      "b3lyp_tri.calc.set_job(nodes=16, memory=16*2000, time=5, queue='pqmb')\n",
      "#b3lyp_tri.calc.start()"
     ],
     "language": "python",
     "metadata": {},
     "outputs": [],
     "prompt_number": 6
    },
    {
     "cell_type": "code",
     "collapsed": false,
     "input": [
      "b3lyp_tri_xqc = read(tri_graph_init)\n",
      "b3lyp_tri_xqc.set_calculator(Gaussian(label='triang_graphene_xqc', method='B3LYP', basis='6-31G(d)', scf='xqc'))\n",
      "b3lyp_tri_xqc.calc.set_job(nodes=16, memory=16*2000, time=5, queue='pqmb')\n",
      "b3lyp_tri_xqc.calc.description = 'RB3LYP'\n",
      "#b3lyp_tri_xqc.calc.start()"
     ],
     "language": "python",
     "metadata": {},
     "outputs": [],
     "prompt_number": 7
    },
    {
     "cell_type": "code",
     "collapsed": false,
     "input": [
      "check_calcs([b3lyp_tri, b3lyp_tri_xqc])\n",
      "mols_to_html([b3lyp_tri, b3lyp_tri_xqc])"
     ],
     "language": "python",
     "metadata": {},
     "outputs": [
      {
       "html": [
        "\n",
        "           <script type=\"text/javascript\">\n",
        "           function view_function (event, file_n) {\n",
        "               if (event.ctrlKey && event.shiftKey){\n",
        "                   IPython.notebook.kernel.execute(\"cc_notebook_utils.pygview('\" + file_n + \".log')\");\n",
        "               }\n",
        "               else if (event.ctrlKey){\n",
        "                   IPython.notebook.kernel.execute(\"cc_notebook_utils.pygausssum('\" + file_n + \".log')\");\n",
        "               }\n",
        "               else if (event.shiftKey){\n",
        "                   IPython.notebook.kernel.execute(\"cc_notebook_utils.pyvogadro('\" + file_n + \".log')\");\n",
        "               }\n",
        "               else {\n",
        "                   IPython.notebook.kernel.execute(\"cc_notebook_utils.pyvim('\" + file_n + \".log')\");\n",
        "                   IPython.notebook.kernel.execute(\"print(file_n)\");\n",
        "               }\n",
        "           }\n",
        "           </script>\n",
        "    <style>\n",
        "    table\n",
        "    {\n",
        "        border-collapse:collapse;\n",
        "    }\n",
        "    td\n",
        "    {\n",
        "        padding:15px;\n",
        "    }\n",
        "    </style>\n",
        "    <body>\n",
        "    <table bgcolor=\"white\">\n",
        "    <col/><tr><td>triang_graphene</td><td><a href = \"files/triang_graph/triang_graphene.com\" target = \"_blank\">com</a></td><td><input type=\"button\" value=\"Smart Log\" id=\"triang_graphene\" onclick=\"view_function(event, this.id)\" /></td><td>Error: Convergence failure -- run terminated.</td></tr><tr><td>triang_graphene_xqc</td><td><a href = \"files/triang_graph/triang_graphene_xqc.com\" target = \"_blank\">com</a></td><td><input type=\"button\" value=\"Smart Log\" id=\"triang_graphene_xqc\" onclick=\"view_function(event, this.id)\" /></td><td>Success</td></tr>\n",
        "    </table>\n",
        "    </body>"
       ],
       "metadata": {},
       "output_type": "pyout",
       "prompt_number": 8,
       "text": [
        "<IPython.core.display.HTML at 0x3c97a90>"
       ]
      }
     ],
     "prompt_number": 8
    },
    {
     "cell_type": "markdown",
     "metadata": {
      "slideshow": {
       "slide_type": "subslide"
      }
     },
     "source": [
      "As before the xqc option allows the scf to converge whereas it fails without it. But is it stable?"
     ]
    },
    {
     "cell_type": "code",
     "collapsed": false,
     "input": [
      "b3lyp_tri_stable = copy.deepcopy(b3lyp_tri_xqc)\n",
      "b3lyp_tri_stable.calc.restart(add_label='stable', stable='opt')\n",
      "b3lyp_tri_stable.calc.description = 'RB3LYP, stable=opt'\n",
      "#b3lyp_tri_xqc.calc.start()"
     ],
     "language": "python",
     "metadata": {},
     "outputs": [],
     "prompt_number": 9
    },
    {
     "cell_type": "code",
     "collapsed": false,
     "input": [
      "check_calcs([b3lyp_tri_stable])\n",
      "mols_to_html([b3lyp_tri_stable])"
     ],
     "language": "python",
     "metadata": {},
     "outputs": [
      {
       "html": [
        "\n",
        "           <script type=\"text/javascript\">\n",
        "           function view_function (event, file_n) {\n",
        "               if (event.ctrlKey && event.shiftKey){\n",
        "                   IPython.notebook.kernel.execute(\"cc_notebook_utils.pygview('\" + file_n + \".log')\");\n",
        "               }\n",
        "               else if (event.ctrlKey){\n",
        "                   IPython.notebook.kernel.execute(\"cc_notebook_utils.pygausssum('\" + file_n + \".log')\");\n",
        "               }\n",
        "               else if (event.shiftKey){\n",
        "                   IPython.notebook.kernel.execute(\"cc_notebook_utils.pyvogadro('\" + file_n + \".log')\");\n",
        "               }\n",
        "               else {\n",
        "                   IPython.notebook.kernel.execute(\"cc_notebook_utils.pyvim('\" + file_n + \".log')\");\n",
        "                   IPython.notebook.kernel.execute(\"print(file_n)\");\n",
        "               }\n",
        "           }\n",
        "           </script>\n",
        "    <style>\n",
        "    table\n",
        "    {\n",
        "        border-collapse:collapse;\n",
        "    }\n",
        "    td\n",
        "    {\n",
        "        padding:15px;\n",
        "    }\n",
        "    </style>\n",
        "    <body>\n",
        "    <table bgcolor=\"white\">\n",
        "    <col/><tr><td>triang_graphene_xqc_stable_restart_1</td><td><a href = \"files/triang_graph/triang_graphene_xqc_stable_restart_1.com\" target = \"_blank\">com</a></td><td><input type=\"button\" value=\"Smart Log\" id=\"triang_graphene_xqc_stable_restart_1\" onclick=\"view_function(event, this.id)\" /></td><td>Success</td></tr>\n",
        "    </table>\n",
        "    </body>"
       ],
       "metadata": {},
       "output_type": "pyout",
       "prompt_number": 10,
       "text": [
        "<IPython.core.display.HTML at 0x3c97d50>"
       ]
      }
     ],
     "prompt_number": 10
    },
    {
     "cell_type": "markdown",
     "metadata": {},
     "source": [
      "<font size=3 color=red>RHF -> UHF instability</font>"
     ]
    },
    {
     "cell_type": "code",
     "collapsed": false,
     "input": [
      "b3lyp_tri_stable.calc.max_data['S2A'], b3lyp_tri_stable.calc.energy_zero - b3lyp_tri_xqc.calc.energy_zero"
     ],
     "language": "python",
     "metadata": {},
     "outputs": [
      {
       "metadata": {},
       "output_type": "pyout",
       "prompt_number": 11,
       "text": [
        "(0.317148, -0.7297606509673642)"
       ]
      }
     ],
     "prompt_number": 11
    },
    {
     "cell_type": "markdown",
     "metadata": {
      "slideshow": {
       "slide_type": "subslide"
      }
     },
     "source": [
      "But 22 carbons therefore 22 p electrons = 4n+2 so we would have expected paired electrons? No [Huckel's rule](http://en.wikipedia.org/wiki/H%C3%BCckel's_rule) only applies to single ring systems in fact the symmetric geometry is at a conical intersection see: [Mike's paper on this system](http://www.sciencedirect.com/science/article/pii/S1010603007002390)"
     ]
    },
    {
     "cell_type": "markdown",
     "metadata": {},
     "source": [
      "Let's try unrestricted calculations:"
     ]
    },
    {
     "cell_type": "code",
     "collapsed": false,
     "input": [
      "b3lyp_tri_v2 = read(tri_graph_init)\n",
      "b3lyp_tri_v2.set_calculator(Gaussian(label='triang_graphene_v2', method='UB3LYP', basis='6-31G(d)'))\n",
      "b3lyp_tri_v2.calc.set_job(nodes=16, memory=16*2000, time=5)\n",
      "b3lyp_tri_v2.calc.description = 'UB3LYP, mult=1'\n",
      "#b3lyp_tri_v2.calc.start()"
     ],
     "language": "python",
     "metadata": {},
     "outputs": [],
     "prompt_number": 12
    },
    {
     "cell_type": "code",
     "collapsed": false,
     "input": [
      "b3lyp_tri_xqc_v2 = read(tri_graph_init)\n",
      "b3lyp_tri_xqc_v2.set_calculator(Gaussian(label='triang_graphene_xqc_v2', method='UB3LYP', basis='6-31G(d)', scf='xqc'))\n",
      "b3lyp_tri_xqc_v2.calc.set_job(nodes=16, memory=16*2000, time=5)\n",
      "#b3lyp_tri_xqc_v2.calc.start()"
     ],
     "language": "python",
     "metadata": {},
     "outputs": [],
     "prompt_number": 13
    },
    {
     "cell_type": "code",
     "collapsed": false,
     "input": [
      "check_calcs([b3lyp_tri_v2, b3lyp_tri_xqc_v2])\n",
      "mols_to_html([b3lyp_tri_v2, b3lyp_tri_xqc_v2])"
     ],
     "language": "python",
     "metadata": {},
     "outputs": [
      {
       "html": [
        "\n",
        "           <script type=\"text/javascript\">\n",
        "           function view_function (event, file_n) {\n",
        "               if (event.ctrlKey && event.shiftKey){\n",
        "                   IPython.notebook.kernel.execute(\"cc_notebook_utils.pygview('\" + file_n + \".log')\");\n",
        "               }\n",
        "               else if (event.ctrlKey){\n",
        "                   IPython.notebook.kernel.execute(\"cc_notebook_utils.pygausssum('\" + file_n + \".log')\");\n",
        "               }\n",
        "               else if (event.shiftKey){\n",
        "                   IPython.notebook.kernel.execute(\"cc_notebook_utils.pyvogadro('\" + file_n + \".log')\");\n",
        "               }\n",
        "               else {\n",
        "                   IPython.notebook.kernel.execute(\"cc_notebook_utils.pyvim('\" + file_n + \".log')\");\n",
        "                   IPython.notebook.kernel.execute(\"print(file_n)\");\n",
        "               }\n",
        "           }\n",
        "           </script>\n",
        "    <style>\n",
        "    table\n",
        "    {\n",
        "        border-collapse:collapse;\n",
        "    }\n",
        "    td\n",
        "    {\n",
        "        padding:15px;\n",
        "    }\n",
        "    </style>\n",
        "    <body>\n",
        "    <table bgcolor=\"white\">\n",
        "    <col/><tr><td>triang_graphene_v2</td><td><a href = \"files/triang_graph/triang_graphene_v2.com\" target = \"_blank\">com</a></td><td><input type=\"button\" value=\"Smart Log\" id=\"triang_graphene_v2\" onclick=\"view_function(event, this.id)\" /></td><td>Success</td></tr><tr><td>triang_graphene_xqc_v2</td><td><a href = \"files/triang_graph/triang_graphene_xqc_v2.com\" target = \"_blank\">com</a></td><td><input type=\"button\" value=\"Smart Log\" id=\"triang_graphene_xqc_v2\" onclick=\"view_function(event, this.id)\" /></td><td>Success</td></tr>\n",
        "    </table>\n",
        "    </body>"
       ],
       "metadata": {},
       "output_type": "pyout",
       "prompt_number": 14,
       "text": [
        "<IPython.core.display.HTML at 0x3c97c50>"
       ]
      }
     ],
     "prompt_number": 14
    },
    {
     "cell_type": "code",
     "collapsed": false,
     "input": [
      "b3lyp_tri_v2.calc.max_data['S2A'], b3lyp_tri_v2.calc.energy_zero - b3lyp_tri_xqc.calc.energy_zero"
     ],
     "language": "python",
     "metadata": {},
     "outputs": [
      {
       "metadata": {},
       "output_type": "pyout",
       "prompt_number": 15,
       "text": [
        "(0.288534, -0.6896456114918692)"
       ]
      }
     ],
     "prompt_number": 15
    },
    {
     "cell_type": "markdown",
     "metadata": {
      "slideshow": {
       "slide_type": "subslide"
      }
     },
     "source": [
      "Is this stable?"
     ]
    },
    {
     "cell_type": "code",
     "collapsed": false,
     "input": [
      "b3lyp_tri_v2_stable = copy.deepcopy(b3lyp_tri_v2)\n",
      "b3lyp_tri_v2_stable.calc.restart(stable='opt')\n",
      "b3lyp_tri_v2_stable.calc.set_job(nodes=8, memory=8*1600, time=5)\n",
      "b3lyp_tri_v2_stable.calc.description = 'UB3LYP, mult=1, stable=opt'\n",
      "#b3lyp_tri_v2_stable.calc.start()\n",
      "check_calcs([b3lyp_tri_v2_stable])\n",
      "mols_to_html([b3lyp_tri_v2_stable])"
     ],
     "language": "python",
     "metadata": {},
     "outputs": [
      {
       "html": [
        "\n",
        "           <script type=\"text/javascript\">\n",
        "           function view_function (event, file_n) {\n",
        "               if (event.ctrlKey && event.shiftKey){\n",
        "                   IPython.notebook.kernel.execute(\"cc_notebook_utils.pygview('\" + file_n + \".log')\");\n",
        "               }\n",
        "               else if (event.ctrlKey){\n",
        "                   IPython.notebook.kernel.execute(\"cc_notebook_utils.pygausssum('\" + file_n + \".log')\");\n",
        "               }\n",
        "               else if (event.shiftKey){\n",
        "                   IPython.notebook.kernel.execute(\"cc_notebook_utils.pyvogadro('\" + file_n + \".log')\");\n",
        "               }\n",
        "               else {\n",
        "                   IPython.notebook.kernel.execute(\"cc_notebook_utils.pyvim('\" + file_n + \".log')\");\n",
        "                   IPython.notebook.kernel.execute(\"print(file_n)\");\n",
        "               }\n",
        "           }\n",
        "           </script>\n",
        "    <style>\n",
        "    table\n",
        "    {\n",
        "        border-collapse:collapse;\n",
        "    }\n",
        "    td\n",
        "    {\n",
        "        padding:15px;\n",
        "    }\n",
        "    </style>\n",
        "    <body>\n",
        "    <table bgcolor=\"white\">\n",
        "    <col/><tr><td>triang_graphene_v2_restart_1</td><td><a href = \"files/triang_graph/triang_graphene_v2_restart_1.com\" target = \"_blank\">com</a></td><td><input type=\"button\" value=\"Smart Log\" id=\"triang_graphene_v2_restart_1\" onclick=\"view_function(event, this.id)\" /></td><td>Success</td></tr>\n",
        "    </table>\n",
        "    </body>"
       ],
       "metadata": {},
       "output_type": "pyout",
       "prompt_number": 16,
       "text": [
        "<IPython.core.display.HTML at 0x40df6d0>"
       ]
      }
     ],
     "prompt_number": 16
    },
    {
     "cell_type": "markdown",
     "metadata": {},
     "source": [
      "No there was an 'internal instability'"
     ]
    },
    {
     "cell_type": "markdown",
     "metadata": {
      "slideshow": {
       "slide_type": "subslide"
      }
     },
     "source": [
      "We've been setting multiplicity to 1 but in this case the stability calculations reveal some net spin. Let's try running the calculation with mult=3:"
     ]
    },
    {
     "cell_type": "code",
     "collapsed": false,
     "input": [
      "b3lyp_tri_v3 = read(tri_graph_init)\n",
      "b3lyp_tri_v3.set_calculator(Gaussian(label='triang_graphene_v3', method='UB3LYP', basis='6-31G(d)', multiplicity=3))\n",
      "b3lyp_tri_v3.calc.set_job(nodes=12, memory=12*1600, time=5)\n",
      "b3lyp_tri_v3.calc.description = 'UB3LYP, mult=3'\n",
      "#b3lyp_tri_v3.calc.start()"
     ],
     "language": "python",
     "metadata": {},
     "outputs": [],
     "prompt_number": 17
    },
    {
     "cell_type": "code",
     "collapsed": false,
     "input": [
      "check_calcs([b3lyp_tri_v3])\n",
      "mols_to_html([b3lyp_tri_v3])"
     ],
     "language": "python",
     "metadata": {},
     "outputs": [
      {
       "html": [
        "\n",
        "           <script type=\"text/javascript\">\n",
        "           function view_function (event, file_n) {\n",
        "               if (event.ctrlKey && event.shiftKey){\n",
        "                   IPython.notebook.kernel.execute(\"cc_notebook_utils.pygview('\" + file_n + \".log')\");\n",
        "               }\n",
        "               else if (event.ctrlKey){\n",
        "                   IPython.notebook.kernel.execute(\"cc_notebook_utils.pygausssum('\" + file_n + \".log')\");\n",
        "               }\n",
        "               else if (event.shiftKey){\n",
        "                   IPython.notebook.kernel.execute(\"cc_notebook_utils.pyvogadro('\" + file_n + \".log')\");\n",
        "               }\n",
        "               else {\n",
        "                   IPython.notebook.kernel.execute(\"cc_notebook_utils.pyvim('\" + file_n + \".log')\");\n",
        "                   IPython.notebook.kernel.execute(\"print(file_n)\");\n",
        "               }\n",
        "           }\n",
        "           </script>\n",
        "    <style>\n",
        "    table\n",
        "    {\n",
        "        border-collapse:collapse;\n",
        "    }\n",
        "    td\n",
        "    {\n",
        "        padding:15px;\n",
        "    }\n",
        "    </style>\n",
        "    <body>\n",
        "    <table bgcolor=\"white\">\n",
        "    <col/><tr><td>triang_graphene_v3</td><td><a href = \"files/triang_graph/triang_graphene_v3.com\" target = \"_blank\">com</a></td><td><input type=\"button\" value=\"Smart Log\" id=\"triang_graphene_v3\" onclick=\"view_function(event, this.id)\" /></td><td>Success</td></tr>\n",
        "    </table>\n",
        "    </body>"
       ],
       "metadata": {},
       "output_type": "pyout",
       "prompt_number": 18,
       "text": [
        "<IPython.core.display.HTML at 0x2974490>"
       ]
      }
     ],
     "prompt_number": 18
    },
    {
     "cell_type": "code",
     "collapsed": false,
     "input": [
      "b3lyp_tri_v3.calc.max_data['S2A'], b3lyp_tri_v3.calc.energy_zero - b3lyp_tri_xqc.calc.energy_zero"
     ],
     "language": "python",
     "metadata": {},
     "outputs": [
      {
       "metadata": {},
       "output_type": "pyout",
       "prompt_number": 19,
       "text": [
        "(2.00843, -1.032277899888868)"
       ]
      }
     ],
     "prompt_number": 19
    },
    {
     "cell_type": "markdown",
     "metadata": {
      "slideshow": {
       "slide_type": "subslide"
      }
     },
     "source": [
      "Is this stable?"
     ]
    },
    {
     "cell_type": "code",
     "collapsed": false,
     "input": [
      "b3lyp_tri_v3_stable = copy.deepcopy(b3lyp_tri_v3)\n",
      "b3lyp_tri_v3_stable.calc.restart(stable='opt')\n",
      "b3lyp_tri_v3_stable.calc.description = 'UB3LYP, mult=3, stable=opt'\n",
      "#b3lyp_tri_v3.calc.start()\n",
      "check_calcs([b3lyp_tri_v3_stable])\n",
      "mols_to_html([b3lyp_tri_v3_stable])"
     ],
     "language": "python",
     "metadata": {},
     "outputs": [
      {
       "html": [
        "\n",
        "           <script type=\"text/javascript\">\n",
        "           function view_function (event, file_n) {\n",
        "               if (event.ctrlKey && event.shiftKey){\n",
        "                   IPython.notebook.kernel.execute(\"cc_notebook_utils.pygview('\" + file_n + \".log')\");\n",
        "               }\n",
        "               else if (event.ctrlKey){\n",
        "                   IPython.notebook.kernel.execute(\"cc_notebook_utils.pygausssum('\" + file_n + \".log')\");\n",
        "               }\n",
        "               else if (event.shiftKey){\n",
        "                   IPython.notebook.kernel.execute(\"cc_notebook_utils.pyvogadro('\" + file_n + \".log')\");\n",
        "               }\n",
        "               else {\n",
        "                   IPython.notebook.kernel.execute(\"cc_notebook_utils.pyvim('\" + file_n + \".log')\");\n",
        "                   IPython.notebook.kernel.execute(\"print(file_n)\");\n",
        "               }\n",
        "           }\n",
        "           </script>\n",
        "    <style>\n",
        "    table\n",
        "    {\n",
        "        border-collapse:collapse;\n",
        "    }\n",
        "    td\n",
        "    {\n",
        "        padding:15px;\n",
        "    }\n",
        "    </style>\n",
        "    <body>\n",
        "    <table bgcolor=\"white\">\n",
        "    <col/><tr><td>triang_graphene_v3_restart_1</td><td><a href = \"files/triang_graph/triang_graphene_v3_restart_1.com\" target = \"_blank\">com</a></td><td><input type=\"button\" value=\"Smart Log\" id=\"triang_graphene_v3_restart_1\" onclick=\"view_function(event, this.id)\" /></td><td>Success</td></tr>\n",
        "    </table>\n",
        "    </body>"
       ],
       "metadata": {},
       "output_type": "pyout",
       "prompt_number": 20,
       "text": [
        "<IPython.core.display.HTML at 0x40dfed0>"
       ]
      }
     ],
     "prompt_number": 20
    },
    {
     "cell_type": "markdown",
     "metadata": {},
     "source": [
      "Yes wavefunction is stable."
     ]
    },
    {
     "cell_type": "code",
     "collapsed": false,
     "input": [
      "b3lyp_tri_v3.calc.max_data['S2A'], b3lyp_tri_v3.calc.energy_zero - b3lyp_tri_xqc.calc.energy_zero"
     ],
     "language": "python",
     "metadata": {},
     "outputs": [
      {
       "metadata": {},
       "output_type": "pyout",
       "prompt_number": 21,
       "text": [
        "(2.00843, -1.032277899888868)"
       ]
      }
     ],
     "prompt_number": 21
    },
    {
     "cell_type": "markdown",
     "metadata": {
      "slideshow": {
       "slide_type": "subslide"
      }
     },
     "source": [
      "Just to be sure let's completely remove symmetry:"
     ]
    },
    {
     "cell_type": "code",
     "collapsed": false,
     "input": [
      "b3lyp_tri_v4 = read(tri_graph_init)\n",
      "b3lyp_tri_v4.set_calculator(Gaussian(label='triang_graphene_v4', method='UB3LYP', basis='6-31G(d)', multiplicity=3, nosymmetry='nosymmetry'))\n",
      "b3lyp_tri_v4.calc.set_job(nodes=12, memory=12*1600, time=5)\n",
      "b3lyp_tri_v4.calc.description = 'UB3LYP, mult=3, nosymm'\n",
      "#b3lyp_tri_v4.calc.start()"
     ],
     "language": "python",
     "metadata": {},
     "outputs": [],
     "prompt_number": 22
    },
    {
     "cell_type": "code",
     "collapsed": false,
     "input": [
      "check_calcs([b3lyp_tri_v4])\n",
      "mols_to_html([b3lyp_tri_v4])"
     ],
     "language": "python",
     "metadata": {},
     "outputs": [
      {
       "html": [
        "\n",
        "           <script type=\"text/javascript\">\n",
        "           function view_function (event, file_n) {\n",
        "               if (event.ctrlKey && event.shiftKey){\n",
        "                   IPython.notebook.kernel.execute(\"cc_notebook_utils.pygview('\" + file_n + \".log')\");\n",
        "               }\n",
        "               else if (event.ctrlKey){\n",
        "                   IPython.notebook.kernel.execute(\"cc_notebook_utils.pygausssum('\" + file_n + \".log')\");\n",
        "               }\n",
        "               else if (event.shiftKey){\n",
        "                   IPython.notebook.kernel.execute(\"cc_notebook_utils.pyvogadro('\" + file_n + \".log')\");\n",
        "               }\n",
        "               else {\n",
        "                   IPython.notebook.kernel.execute(\"cc_notebook_utils.pyvim('\" + file_n + \".log')\");\n",
        "                   IPython.notebook.kernel.execute(\"print(file_n)\");\n",
        "               }\n",
        "           }\n",
        "           </script>\n",
        "    <style>\n",
        "    table\n",
        "    {\n",
        "        border-collapse:collapse;\n",
        "    }\n",
        "    td\n",
        "    {\n",
        "        padding:15px;\n",
        "    }\n",
        "    </style>\n",
        "    <body>\n",
        "    <table bgcolor=\"white\">\n",
        "    <col/><tr><td>triang_graphene_v4</td><td><a href = \"files/triang_graph/triang_graphene_v4.com\" target = \"_blank\">com</a></td><td><input type=\"button\" value=\"Smart Log\" id=\"triang_graphene_v4\" onclick=\"view_function(event, this.id)\" /></td><td>Success</td></tr>\n",
        "    </table>\n",
        "    </body>"
       ],
       "metadata": {},
       "output_type": "pyout",
       "prompt_number": 23,
       "text": [
        "<IPython.core.display.HTML at 0x40d6b90>"
       ]
      }
     ],
     "prompt_number": 23
    },
    {
     "cell_type": "code",
     "collapsed": false,
     "input": [
      "b3lyp_tri_v4_stable = copy.deepcopy(b3lyp_tri_v4)\n",
      "b3lyp_tri_v4_stable.calc.restart(stable='opt')\n",
      "b3lyp_tri_v4_stable.calc.description = 'UB3LYP, mult=3, nosymm, stable=opt'\n",
      "#b3lyp_tri_v4_stable.calc.start()"
     ],
     "language": "python",
     "metadata": {
      "slideshow": {
       "slide_type": "subslide"
      }
     },
     "outputs": [],
     "prompt_number": 24
    },
    {
     "cell_type": "code",
     "collapsed": false,
     "input": [
      "check_calcs([b3lyp_tri_v4_stable])\n",
      "mols_to_html([b3lyp_tri_v4_stable])"
     ],
     "language": "python",
     "metadata": {},
     "outputs": [
      {
       "html": [
        "\n",
        "           <script type=\"text/javascript\">\n",
        "           function view_function (event, file_n) {\n",
        "               if (event.ctrlKey && event.shiftKey){\n",
        "                   IPython.notebook.kernel.execute(\"cc_notebook_utils.pygview('\" + file_n + \".log')\");\n",
        "               }\n",
        "               else if (event.ctrlKey){\n",
        "                   IPython.notebook.kernel.execute(\"cc_notebook_utils.pygausssum('\" + file_n + \".log')\");\n",
        "               }\n",
        "               else if (event.shiftKey){\n",
        "                   IPython.notebook.kernel.execute(\"cc_notebook_utils.pyvogadro('\" + file_n + \".log')\");\n",
        "               }\n",
        "               else {\n",
        "                   IPython.notebook.kernel.execute(\"cc_notebook_utils.pyvim('\" + file_n + \".log')\");\n",
        "                   IPython.notebook.kernel.execute(\"print(file_n)\");\n",
        "               }\n",
        "           }\n",
        "           </script>\n",
        "    <style>\n",
        "    table\n",
        "    {\n",
        "        border-collapse:collapse;\n",
        "    }\n",
        "    td\n",
        "    {\n",
        "        padding:15px;\n",
        "    }\n",
        "    </style>\n",
        "    <body>\n",
        "    <table bgcolor=\"white\">\n",
        "    <col/><tr><td>triang_graphene_v4_restart_1</td><td><a href = \"files/triang_graph/triang_graphene_v4_restart_1.com\" target = \"_blank\">com</a></td><td><input type=\"button\" value=\"Smart Log\" id=\"triang_graphene_v4_restart_1\" onclick=\"view_function(event, this.id)\" /></td><td>Success</td></tr>\n",
        "    </table>\n",
        "    </body>"
       ],
       "metadata": {},
       "output_type": "pyout",
       "prompt_number": 25,
       "text": [
        "<IPython.core.display.HTML at 0x40d6890>"
       ]
      }
     ],
     "prompt_number": 25
    },
    {
     "cell_type": "markdown",
     "metadata": {
      "slideshow": {
       "slide_type": "subslide"
      }
     },
     "source": [
      "And for completeness let's try an unreasonabl high multiplicity:"
     ]
    },
    {
     "cell_type": "code",
     "collapsed": false,
     "input": [
      "b3lyp_tri_v5 = read(tri_graph_init)\n",
      "b3lyp_tri_v5.set_calculator(Gaussian(label='triang_graphene_v5', method='UB3LYP', basis='6-31G(d)', multiplicity=5, nosymmetry='nosymmetry'))\n",
      "b3lyp_tri_v5.calc.set_job(nodes=12, memory=12*1600, time=5)\n",
      "b3lyp_tri_v5.calc.description = 'UB3LYP, mult=5, nosymm'\n",
      "#b3lyp_tri_v5.calc.start()"
     ],
     "language": "python",
     "metadata": {},
     "outputs": [],
     "prompt_number": 26
    },
    {
     "cell_type": "code",
     "collapsed": false,
     "input": [
      "check_calcs([b3lyp_tri_v5])\n",
      "mols_to_html([b3lyp_tri_v5])"
     ],
     "language": "python",
     "metadata": {},
     "outputs": [
      {
       "html": [
        "\n",
        "           <script type=\"text/javascript\">\n",
        "           function view_function (event, file_n) {\n",
        "               if (event.ctrlKey && event.shiftKey){\n",
        "                   IPython.notebook.kernel.execute(\"cc_notebook_utils.pygview('\" + file_n + \".log')\");\n",
        "               }\n",
        "               else if (event.ctrlKey){\n",
        "                   IPython.notebook.kernel.execute(\"cc_notebook_utils.pygausssum('\" + file_n + \".log')\");\n",
        "               }\n",
        "               else if (event.shiftKey){\n",
        "                   IPython.notebook.kernel.execute(\"cc_notebook_utils.pyvogadro('\" + file_n + \".log')\");\n",
        "               }\n",
        "               else {\n",
        "                   IPython.notebook.kernel.execute(\"cc_notebook_utils.pyvim('\" + file_n + \".log')\");\n",
        "                   IPython.notebook.kernel.execute(\"print(file_n)\");\n",
        "               }\n",
        "           }\n",
        "           </script>\n",
        "    <style>\n",
        "    table\n",
        "    {\n",
        "        border-collapse:collapse;\n",
        "    }\n",
        "    td\n",
        "    {\n",
        "        padding:15px;\n",
        "    }\n",
        "    </style>\n",
        "    <body>\n",
        "    <table bgcolor=\"white\">\n",
        "    <col/><tr><td>triang_graphene_v5</td><td><a href = \"files/triang_graph/triang_graphene_v5.com\" target = \"_blank\">com</a></td><td><input type=\"button\" value=\"Smart Log\" id=\"triang_graphene_v5\" onclick=\"view_function(event, this.id)\" /></td><td>Success</td></tr>\n",
        "    </table>\n",
        "    </body>"
       ],
       "metadata": {},
       "output_type": "pyout",
       "prompt_number": 27,
       "text": [
        "<IPython.core.display.HTML at 0x3ca1610>"
       ]
      }
     ],
     "prompt_number": 27
    },
    {
     "cell_type": "code",
     "collapsed": false,
     "input": [
      "b3lyp_tri_v5_stable = copy.deepcopy(b3lyp_tri_v5)\n",
      "b3lyp_tri_v5_stable.calc.restart(stable='opt')\n",
      "b3lyp_tri_v5_stable.calc.description = 'UB3LYP, mult=5, nosymm, stable=opt'\n",
      "#b3lyp_tri_v5_stable.calc.start()"
     ],
     "language": "python",
     "metadata": {
      "slideshow": {
       "slide_type": "subslide"
      }
     },
     "outputs": [],
     "prompt_number": 28
    },
    {
     "cell_type": "code",
     "collapsed": false,
     "input": [
      "check_calcs([b3lyp_tri_v5_stable])\n",
      "mols_to_html([b3lyp_tri_v5_stable])"
     ],
     "language": "python",
     "metadata": {},
     "outputs": [
      {
       "html": [
        "\n",
        "           <script type=\"text/javascript\">\n",
        "           function view_function (event, file_n) {\n",
        "               if (event.ctrlKey && event.shiftKey){\n",
        "                   IPython.notebook.kernel.execute(\"cc_notebook_utils.pygview('\" + file_n + \".log')\");\n",
        "               }\n",
        "               else if (event.ctrlKey){\n",
        "                   IPython.notebook.kernel.execute(\"cc_notebook_utils.pygausssum('\" + file_n + \".log')\");\n",
        "               }\n",
        "               else if (event.shiftKey){\n",
        "                   IPython.notebook.kernel.execute(\"cc_notebook_utils.pyvogadro('\" + file_n + \".log')\");\n",
        "               }\n",
        "               else {\n",
        "                   IPython.notebook.kernel.execute(\"cc_notebook_utils.pyvim('\" + file_n + \".log')\");\n",
        "                   IPython.notebook.kernel.execute(\"print(file_n)\");\n",
        "               }\n",
        "           }\n",
        "           </script>\n",
        "    <style>\n",
        "    table\n",
        "    {\n",
        "        border-collapse:collapse;\n",
        "    }\n",
        "    td\n",
        "    {\n",
        "        padding:15px;\n",
        "    }\n",
        "    </style>\n",
        "    <body>\n",
        "    <table bgcolor=\"white\">\n",
        "    <col/><tr><td>triang_graphene_v5_restart_1</td><td><a href = \"files/triang_graph/triang_graphene_v5_restart_1.com\" target = \"_blank\">com</a></td><td><input type=\"button\" value=\"Smart Log\" id=\"triang_graphene_v5_restart_1\" onclick=\"view_function(event, this.id)\" /></td><td>Success</td></tr>\n",
        "    </table>\n",
        "    </body>"
       ],
       "metadata": {},
       "output_type": "pyout",
       "prompt_number": 29,
       "text": [
        "<IPython.core.display.HTML at 0x2dab490>"
       ]
      }
     ],
     "prompt_number": 29
    },
    {
     "cell_type": "code",
     "collapsed": false,
     "input": [
      "from collections import OrderedDict as OD\n",
      "\n",
      "datify = lambda m: OD([['Calc', m.calc.description],\n",
      "                       ['Energy', m.calc.energy_zero], \n",
      "                       ['Spin', m.calc.max_data.get('S2A')], \n",
      "                       ['Energy_delta', m.calc.energy_zero - b3lyp_tri_xqc.calc.energy_zero]])\n",
      "\n",
      "data = map(datify, [b3lyp_tri_xqc, \n",
      "                    b3lyp_tri_stable, \n",
      "                    b3lyp_tri_v2, \n",
      "                    b3lyp_tri_v2_stable, \n",
      "                    b3lyp_tri_v3, \n",
      "                    b3lyp_tri_v3_stable, \n",
      "                    b3lyp_tri_v4, \n",
      "                    b3lyp_tri_v4_stable, \n",
      "                    b3lyp_tri_v5, \n",
      "                    b3lyp_tri_v5_stable])\n",
      "\n",
      "ad_disp.html_multi_dict(data)"
     ],
     "language": "python",
     "metadata": {
      "slideshow": {
       "slide_type": "subslide"
      }
     },
     "outputs": [
      {
       "html": [
        "<table class=\"nowrap\"><tr>\n",
        "<th>\n",
        "Calc\n",
        "</th>\n",
        "<th>\n",
        "Energy\n",
        "</th>\n",
        "<th>\n",
        "Spin\n",
        "</th>\n",
        "<th>\n",
        "Energy_delta\n",
        "</th>\n",
        "<tr>\n",
        "<td><pre>\n",
        "'RB3LYP'\n",
        "</pre></td>\n",
        "<td><pre>\n",
        "-23008.773526396573\n",
        "</pre></td>\n",
        "<td><pre>\n",
        "None\n",
        "</pre></td>\n",
        "<td><pre>\n",
        "0.0\n",
        "</pre></td>\n",
        "</tr>\n",
        "<tr>\n",
        "<td><pre>\n",
        "'RB3LYP, stable=opt'\n",
        "</pre></td>\n",
        "<td><pre>\n",
        "-23009.50328704754\n",
        "</pre></td>\n",
        "<td><pre>\n",
        "0.317148\n",
        "</pre></td>\n",
        "<td><pre>\n",
        "-0.7297606509673642\n",
        "</pre></td>\n",
        "</tr>\n",
        "<tr>\n",
        "<td><pre>\n",
        "'UB3LYP, mult=1'\n",
        "</pre></td>\n",
        "<td><pre>\n",
        "-23009.463172008065\n",
        "</pre></td>\n",
        "<td><pre>\n",
        "0.288534\n",
        "</pre></td>\n",
        "<td><pre>\n",
        "-0.6896456114918692\n",
        "</pre></td>\n",
        "</tr>\n",
        "<tr>\n",
        "<td><pre>\n",
        "'UB3LYP, mult=1, stable=opt'\n",
        "</pre></td>\n",
        "<td><pre>\n",
        "-23009.50328704754\n",
        "</pre></td>\n",
        "<td><pre>\n",
        "0.317152\n",
        "</pre></td>\n",
        "<td><pre>\n",
        "-0.7297606509673642\n",
        "</pre></td>\n",
        "</tr>\n",
        "<tr>\n",
        "<td><pre>\n",
        "'UB3LYP, mult=3'\n",
        "</pre></td>\n",
        "<td><pre>\n",
        "-23009.805804296462\n",
        "</pre></td>\n",
        "<td><pre>\n",
        "2.00843\n",
        "</pre></td>\n",
        "<td><pre>\n",
        "-1.032277899888868\n",
        "</pre></td>\n",
        "</tr>\n",
        "<tr>\n",
        "<td><pre>\n",
        "'UB3LYP, mult=3, stable=opt'\n",
        "</pre></td>\n",
        "<td><pre>\n",
        "-23009.805804296462\n",
        "</pre></td>\n",
        "<td><pre>\n",
        "2.00843\n",
        "</pre></td>\n",
        "<td><pre>\n",
        "-1.032277899888868\n",
        "</pre></td>\n",
        "</tr>\n",
        "<tr>\n",
        "<td><pre>\n",
        "'UB3LYP, mult=3, nosymm'\n",
        "</pre></td>\n",
        "<td><pre>\n",
        "-23009.804974348895\n",
        "</pre></td>\n",
        "<td><pre>\n",
        "2.00843\n",
        "</pre></td>\n",
        "<td><pre>\n",
        "-1.0314479523221962\n",
        "</pre></td>\n",
        "</tr>\n",
        "<tr>\n",
        "<td><pre>\n",
        "'UB3LYP, mult=3, nosymm, stable=opt'\n",
        "</pre></td>\n",
        "<td><pre>\n",
        "-23009.804974348895\n",
        "</pre></td>\n",
        "<td><pre>\n",
        "2.00843\n",
        "</pre></td>\n",
        "<td><pre>\n",
        "-1.0314479523221962\n",
        "</pre></td>\n",
        "</tr>\n",
        "<tr>\n",
        "<td><pre>\n",
        "'UB3LYP, mult=5, nosymm'\n",
        "</pre></td>\n",
        "<td><pre>\n",
        "-23005.64902142866\n",
        "</pre></td>\n",
        "<td><pre>\n",
        "6.001369\n",
        "</pre></td>\n",
        "<td><pre>\n",
        "3.1245049679127987\n",
        "</pre></td>\n",
        "</tr>\n",
        "<tr>\n",
        "<td><pre>\n",
        "'UB3LYP, mult=5, nosymm, stable=opt'\n",
        "</pre></td>\n",
        "<td><pre>\n",
        "-23005.64902142866\n",
        "</pre></td>\n",
        "<td><pre>\n",
        "6.001369\n",
        "</pre></td>\n",
        "<td><pre>\n",
        "3.1245049679127987\n",
        "</pre></td>\n",
        "</tr>\n",
        "</table>"
       ],
       "metadata": {},
       "output_type": "pyout",
       "prompt_number": 37,
       "text": [
        "<IPython.core.display.HTML at 0x42f7150>"
       ]
      }
     ],
     "prompt_number": 37
    },
    {
     "cell_type": "code",
     "collapsed": false,
     "input": [
      "mols_to_html([b3lyp_tri_xqc, b3lyp_tri_stable, b3lyp_tri_v2, b3lyp_tri_v2_stable, b3lyp_tri_v3, b3lyp_tri_v3_stable, b3lyp_tri_v4, b3lyp_tri_v4_stable, b3lyp_tri_v5, b3lyp_tri_v5_stable])"
     ],
     "language": "python",
     "metadata": {
      "slideshow": {
       "slide_type": "subslide"
      }
     },
     "outputs": [
      {
       "html": [
        "\n",
        "           <script type=\"text/javascript\">\n",
        "           function view_function (event, file_n) {\n",
        "               if (event.ctrlKey && event.shiftKey){\n",
        "                   IPython.notebook.kernel.execute(\"cc_notebook_utils.pygview('\" + file_n + \".log')\");\n",
        "               }\n",
        "               else if (event.ctrlKey){\n",
        "                   IPython.notebook.kernel.execute(\"cc_notebook_utils.pygausssum('\" + file_n + \".log')\");\n",
        "               }\n",
        "               else if (event.shiftKey){\n",
        "                   IPython.notebook.kernel.execute(\"cc_notebook_utils.pyvogadro('\" + file_n + \".log')\");\n",
        "               }\n",
        "               else {\n",
        "                   IPython.notebook.kernel.execute(\"cc_notebook_utils.pyvim('\" + file_n + \".log')\");\n",
        "                   IPython.notebook.kernel.execute(\"print(file_n)\");\n",
        "               }\n",
        "           }\n",
        "           </script>\n",
        "    <style>\n",
        "    table\n",
        "    {\n",
        "        border-collapse:collapse;\n",
        "    }\n",
        "    td\n",
        "    {\n",
        "        padding:15px;\n",
        "    }\n",
        "    </style>\n",
        "    <body>\n",
        "    <table bgcolor=\"white\">\n",
        "    <col/><tr><td>triang_graphene_xqc</td><td><a href = \"files/triang_graph/triang_graphene_xqc.com\" target = \"_blank\">com</a></td><td><input type=\"button\" value=\"Smart Log\" id=\"triang_graphene_xqc\" onclick=\"view_function(event, this.id)\" /></td><td>Success</td></tr><tr><td>triang_graphene_xqc_stable_restart_1</td><td><a href = \"files/triang_graph/triang_graphene_xqc_stable_restart_1.com\" target = \"_blank\">com</a></td><td><input type=\"button\" value=\"Smart Log\" id=\"triang_graphene_xqc_stable_restart_1\" onclick=\"view_function(event, this.id)\" /></td><td>Success</td></tr><tr><td>triang_graphene_v2</td><td><a href = \"files/triang_graph/triang_graphene_v2.com\" target = \"_blank\">com</a></td><td><input type=\"button\" value=\"Smart Log\" id=\"triang_graphene_v2\" onclick=\"view_function(event, this.id)\" /></td><td>Success</td></tr><tr><td>triang_graphene_v2_restart_1</td><td><a href = \"files/triang_graph/triang_graphene_v2_restart_1.com\" target = \"_blank\">com</a></td><td><input type=\"button\" value=\"Smart Log\" id=\"triang_graphene_v2_restart_1\" onclick=\"view_function(event, this.id)\" /></td><td>Success</td></tr><tr><td>triang_graphene_v3</td><td><a href = \"files/triang_graph/triang_graphene_v3.com\" target = \"_blank\">com</a></td><td><input type=\"button\" value=\"Smart Log\" id=\"triang_graphene_v3\" onclick=\"view_function(event, this.id)\" /></td><td>Success</td></tr><tr><td>triang_graphene_v3_restart_1</td><td><a href = \"files/triang_graph/triang_graphene_v3_restart_1.com\" target = \"_blank\">com</a></td><td><input type=\"button\" value=\"Smart Log\" id=\"triang_graphene_v3_restart_1\" onclick=\"view_function(event, this.id)\" /></td><td>Success</td></tr><tr><td>triang_graphene_v4</td><td><a href = \"files/triang_graph/triang_graphene_v4.com\" target = \"_blank\">com</a></td><td><input type=\"button\" value=\"Smart Log\" id=\"triang_graphene_v4\" onclick=\"view_function(event, this.id)\" /></td><td>Success</td></tr><tr><td>triang_graphene_v4_restart_1</td><td><a href = \"files/triang_graph/triang_graphene_v4_restart_1.com\" target = \"_blank\">com</a></td><td><input type=\"button\" value=\"Smart Log\" id=\"triang_graphene_v4_restart_1\" onclick=\"view_function(event, this.id)\" /></td><td>Success</td></tr><tr><td>triang_graphene_v5</td><td><a href = \"files/triang_graph/triang_graphene_v5.com\" target = \"_blank\">com</a></td><td><input type=\"button\" value=\"Smart Log\" id=\"triang_graphene_v5\" onclick=\"view_function(event, this.id)\" /></td><td>Success</td></tr><tr><td>triang_graphene_v5_restart_1</td><td><a href = \"files/triang_graph/triang_graphene_v5_restart_1.com\" target = \"_blank\">com</a></td><td><input type=\"button\" value=\"Smart Log\" id=\"triang_graphene_v5_restart_1\" onclick=\"view_function(event, this.id)\" /></td><td>Success</td></tr>\n",
        "    </table>\n",
        "    </body>"
       ],
       "metadata": {},
       "output_type": "pyout",
       "prompt_number": 34,
       "text": [
        "<IPython.core.display.HTML at 0x3659650>"
       ]
      }
     ],
     "prompt_number": 34
    },
    {
     "cell_type": "markdown",
     "metadata": {},
     "source": [
      "If we run an unrestricted calculation but specify multiplicity=1 why is this different to a restricted calculation - why do we get some net spin (see calc.max_data['S2A'])? \n",
      "This is an error associated with unrestricted calcs, S2A attempts to correct for it but doesn't quite get to zero.\n",
      "\n",
      "Is there a keyword that allows guassian to pick the lowest energy multiplicity? \n",
      "No."
     ]
    },
    {
     "cell_type": "heading",
     "level": 3,
     "metadata": {
      "slideshow": {
       "slide_type": "slide"
      }
     },
     "source": [
      "Future ideas:"
     ]
    },
    {
     "cell_type": "code",
     "collapsed": false,
     "input": [
      "Do new formats of allow us to include implict knowledge only achievable by interning at different groups explicitly without further diluting scientific knowledge?\n",
      "   Notebook -> Mindmap?"
     ],
     "language": "python",
     "metadata": {
      "slideshow": {
       "slide_type": "slide"
      }
     },
     "outputs": []
    },
    {
     "cell_type": "markdown",
     "metadata": {
      "slideshow": {
       "slide_type": "slide"
      }
     },
     "source": [
      "Thanks to supervisor Mike Bearpark and the rest of Bearpark photochemistry group.\n",
      "The EPSRC\n",
      "and to all of you."
     ]
    }
   ],
   "metadata": {}
  }
 ]
}