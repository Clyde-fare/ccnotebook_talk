{
 "metadata": {
  "celltoolbar": "Slideshow",
  "name": ""
 },
 "nbformat": 3,
 "nbformat_minor": 0,
 "worksheets": [
  {
   "cells": [
    {
     "cell_type": "heading",
     "level": 1,
     "metadata": {
      "slideshow": {
       "slide_type": "slide"
      }
     },
     "source": [
      "A Quantum Chemical Notebook"
     ]
    },
    {
     "cell_type": "markdown",
     "metadata": {},
     "source": [
      "How Python and the IPython notebook can revamp quantum chemical research."
     ]
    },
    {
     "cell_type": "markdown",
     "metadata": {
      "slideshow": {
       "slide_type": "subslide"
      }
     },
     "source": [
      "Talk overview:\n",
      "    \n",
      "*    Introduction - what is quantum chemistry\n",
      "\n",
      "\n",
      "*    Technology     - what tools and technologies do quantum chemists use\n",
      "\n",
      "\n",
      "*    Problems       - what's the problem?\n",
      "\n",
      "\n",
      "*    Python         - what does Python bring to the table?\n",
      "\n",
      "\n",
      "*    IPython notebook - Building a quantum chemical Notebook\n",
      "\n",
      "\n",
      "*    Conclusions/futurework"
     ]
    },
    {
     "cell_type": "markdown",
     "metadata": {
      "slideshow": {
       "slide_type": "notes"
      }
     },
     "source": [
      "History\n",
      "Current status\n",
      "Future prospects"
     ]
    },
    {
     "cell_type": "markdown",
     "metadata": {
      "slideshow": {
       "slide_type": "subslide"
      }
     },
     "source": [
      "\"The fundamental laws necessary for the mathematical treatment of a large part of physics and the whole of chemistry are thus completely known, and the difficulty lies only in the fact that application of these laws leads to equations that are too complex to be solved.\" P.M. Dirac 1929\n",
      "\n",
      "When we are 'applying quantum mechanics' what equations are we trying to solve?"
     ]
    },
    {
     "cell_type": "markdown",
     "metadata": {
      "slideshow": {
       "slide_type": "subslide"
      }
     },
     "source": [
      "In classical mechanics we have Hamilton's equations which defines the allowed states of macroscopic systems and their dynamics far from the speed of light: \n",
      "\n",
      "$\\frac{d\\boldsymbol{p}}{dt} = -\\frac{\\partial \\mathcal{H}}{\\partial \\boldsymbol{q}}$ and $\\frac{d\\boldsymbol{q}}{dt} = +\\frac{\\partial \\mathcal{H}}{\\partial \\boldsymbol{p}}$ \n",
      "\n",
      "$\\mathcal{H} = \\frac{p^2}{2m} + V(q).$\n",
      "\n",
      "<img src='files/planets.jpg' width=300></img>\n",
      "\n",
      "And in quantum mechanics we have the Schrodinger equation which defines the allowed states and their dynamics of microscopic systems far from the speed of light:\n",
      "\n",
      "$i\\hbar\\frac{\\partial}{\\partial t} \\Psi(\\mathbf{r},t) = \\hat{H} \\Psi(\\mathbf{r},t)$ \n",
      "\n",
      "$\\hat{H} = -\\frac{-\\hbar^2}{2m}\\nabla^2 + V(\\mathbf{r},t)$   \n",
      "\n",
      "<img src='files/debroglie_atom.jpg' height=350></img>"
     ]
    },
    {
     "cell_type": "markdown",
     "metadata": {
      "slideshow": {
       "slide_type": "notes"
      }
     },
     "source": [
      "This electronic time independent Schrodinger equation takes an input parameters the position and charges of the relevent nuclei and the number of electrons and gives us back the stationary states the electrons can occur in. This is roughly equivalent to specifying the the location and mass of a number of suns and specifying a number of planets and getting back the possible stable orbits around the suns that the planets could take.\n",
      "\n",
      "From these electronic stationary states we can compute all the properties of the system, but usually we care most about the energy and derivatives of the energy (with respect to changes in nuclear geometry) at different nuclear positions."
     ]
    },
    {
     "cell_type": "markdown",
     "metadata": {
      "slideshow": {
       "slide_type": "subslide"
      }
     },
     "source": [
      "<img src='files/Hydrogen_Plots.png' width=700 height=400></img>"
     ]
    },
    {
     "cell_type": "markdown",
     "metadata": {
      "slideshow": {
       "slide_type": "subslide"
      }
     },
     "source": [
      "\"The fundamental laws necessary for the mathematical treatment of a large part of physics and the whole of chemistry are thus completely known, and the difficulty lies only in the fact that application of these laws leads to equations that are too complex to be solved. It therefore becomes desirable that approximate practical methods of applying quantum mechanics should be developed, which can lead to an explanation of the main features of complex atomic systems without too much computation.\" P. M. Dirac 1929."
     ]
    },
    {
     "cell_type": "code",
     "collapsed": false,
     "input": [
      "from IPython.display import YouTubeVideo\n",
      "YouTubeVideo('B32p2pho-HY')"
     ],
     "language": "python",
     "metadata": {
      "slideshow": {
       "slide_type": "subslide"
      }
     },
     "outputs": [
      {
       "html": [
        "\n",
        "        <iframe\n",
        "            width=\"400\"\n",
        "            height=300\"\n",
        "            src=\"http://www.youtube.com/embed/B32p2pho-HY\"\n",
        "            frameborder=\"0\"\n",
        "            allowfullscreen\n",
        "        ></iframe>\n",
        "        "
       ],
       "metadata": {},
       "output_type": "pyout",
       "prompt_number": 1,
       "text": [
        "<IPython.lib.display.YouTubeVideo at 0x252fc90>"
       ]
      }
     ],
     "prompt_number": 1
    },
    {
     "cell_type": "code",
     "collapsed": false,
     "input": [
      "from IPython.display import Image\n",
      "Image(filename='diatomic.jpg')"
     ],
     "language": "python",
     "metadata": {
      "slideshow": {
       "slide_type": "fragment"
      }
     },
     "outputs": [
      {
       "jpeg": "[encoded data removed]",
       "metadata": {},
       "output_type": "pyout",
       "prompt_number": 4,
       "text": [
        "<IPython.core.display.Image at 0x252f610>"
       ]
      }
     ],
     "prompt_number": 4
    },
    {
     "cell_type": "markdown",
     "metadata": {
      "slideshow": {
       "slide_type": "notes"
      }
     },
     "source": [
      "From 1929 onwards great efforts expended to find these practical methods, many methods have been developed that trade off accuracy for decreased computational cost.\n",
      "\n",
      "With advances in both computer power and more intelligent methods we have gone from being able to perform calculations on diatomic molecules to being able to perform calculations of macromolecular ensembles spanning millions atoms.\n",
      "\n",
      "A diatomic molecule is about 2 angstroms, this chromaphore is ~100 nm, that's three orders of magnitude greater. So if in the 1920s we were performing calculations on objects with a diameter about equal to a football now we can perform calculcations on objects with a diameter about equal to the O2 arean (i.e. the millenium dome). "
     ]
    },
    {
     "cell_type": "heading",
     "level": 2,
     "metadata": {
      "slideshow": {
       "slide_type": "slide"
      }
     },
     "source": [
      "Technology"
     ]
    },
    {
     "cell_type": "markdown",
     "metadata": {
      "slideshow": {
       "slide_type": "fragment"
      }
     },
     "source": [
      "We now have numerous different methods each one corresponding to a different degree of approximation:\n",
      "\n",
      "* RHF, ROHF, UHF\n",
      "* MP2, MP3, MP4...\n",
      "* CIS, CISD, CISDT, CISDQ...\n",
      "* CCSD, CCSD(t), CCSDT, CCSDTQ...\n",
      "* CASSCF, RASSCF\n",
      "* MRCIS, MRCISD, MRCISDT...\n",
      "* MRCCSD, MRCCSDT...\n",
      "* NEVPT2, NEVPT3...\n",
      "* CASPT2, CASPT3...\n",
      "* SUMR-CC\n",
      "* PBE, LDA, BP86, HSE, BLYP\n",
      "* B3LYP, revPBE, wB97X-D,CAM-B3LYP \n",
      "* and many more\n",
      "\n",
      "Some of the above are infact families of methods and further parameters need to be specified. After choosing a method we must also choose the degree of numerical accuracy we will use, which gives rise to another large number of possibilities.\n",
      "\n",
      "* STO-3G, 3-21G, 6-21G, 4-31G, 6-31G, 6-311G, \n",
      "* D95V, D95, SHC, \n",
      "* CEP-4G, CEP-31G, CEP-121G, \n",
      "* SV, SVP, TZV, TZVP, \n",
      "* cc-pVDZ, cc-pVTZ, cc-pVQZ, cc-pV5Z, cc-pV6\n",
      "* and many more\n",
      "\n",
      "All in all a lot of choice!"
     ]
    },
    {
     "cell_type": "markdown",
     "metadata": {
      "slideshow": {
       "slide_type": "notes"
      }
     },
     "source": [
      "The choice of method is akin to choosing how to simplfiy the equations and the choice of basis set is akin to choosing how accurately to solve the new simplified equations."
     ]
    },
    {
     "cell_type": "markdown",
     "metadata": {
      "slideshow": {
       "slide_type": "subslide"
      }
     },
     "source": [
      "Many man years of development has resulted in a vast amount of choice. Implemented in numerous code bases some of which began life in the 1960s and have expanded since then.\n",
      "\n",
      "New codes are always starting but the biggest have a significant head start and dominate academic and industrial usage. The most developed and popular is Gaussian.\n",
      "\n",
      "\n",
      "<p></p>\n",
      "<div>\n",
      "<a class=\"reference external\" href=\"ase/calculators/abinit.html\"><img alt=\"abinit\" class=\"align-middle\" src=\"files/abinit.png\"></a> \n",
      "<a class=\"reference external\" href=\"http://wiki.fysik.dtu.dk/asap\"><img alt=\"Asap\" class=\"align-middle\" src=\"files/asap.png\"></a> \n",
      "<a class=\"reference external\" href=\"ase/calculators/castep.html\"><img alt=\"CASTEP\" class=\"align-middle\" src=\"files/castep.png\"></a> \n",
      "<a class=\"reference external\" href=\"ase/calculators/dftb.html\"><img alt=\"dftb\" class=\"align-middle\" src=\"files/dftb.png\"></a> \n",
      "<a class=\"reference external\" href=\"http://elk.sourceforge.net/\"><img alt=\"elk\" class=\"align-middle\" src=\"files/elk.png\"></a> \n",
      "<a class=\"reference external\" href=\"ase/calculators/exciting.html\"><img alt=\"exciting\" class=\"align-middle\" src=\"files/exciting1.png\"></a>\n",
      "<a class=\"reference external\" href=\"ase/calculators/emt.html\"><img alt=\"EMT\" class=\"align-middle\" src=\"files/emt.png\"></a> \n",
      "<a class=\"reference external\" href=\"ase/calculators/FHI-aims.html\"><img alt=\"fhi-aims\" class=\"align-middle\" src=\"files/fhi-aims.png\"></a>\n",
      "<a class=\"reference external\" href=\"ase/calculators/fleur.html\"><img alt=\"fleur\" class=\"align-middle\" src=\"files/fleur.png\"></a>\n",
      "<a class=\"reference external\" href=\"http://www.gaussian.com/\"><img alt=\"Gaussian\" class=\"align-middle\" src=\"files/gaussian_small.jpg\" width=55></a>\n",
      "<a class=\"reference external\" href=\"http://wiki.fysik.dtu.dk/gpaw\"><img alt=\"gpaw\" class=\"align-middle\" src=\"files/gpaw.png\"></a>\n",
      "<a class=\"reference external\" href=\"https://trac.cc.jyu.fi/projects/hotbit\"><img alt=\"hotbit\" class=\"align-middle\" src=\"files/hotbit.png\"></a>\n",
      "<a class=\"reference external\" href=\"ase/calculators/jacapo.html\"><img alt=\"jacapo\" class=\"align-middle\" src=\"files/jacapo.png\"></a>\n",
      "<a class=\"reference external\" href=\"http://sourceforge.net/p/jdftx/wiki/ASE%20Interface\"><img alt=\"jdftx\" class=\"align-middle\" src=\"files/jdftx.png\"></a>\n",
      "<a class=\"reference external\" href=\"ase/calculators/lammps.html\"><img alt=\"lammps\" class=\"align-middle\" src=\"files/lammps.png\"></a> \n",
      "<a class=\"reference external\" href=\"http://openmopac.net/\">Mopac</a>\n",
      "<a class=\"reference external\" href=\"http://www.nwchem-sw.org\"><img alt=\"nwchem\" class=\"align-middle\" src=\"files/nwchem.png\"></a>\n",
      "<a class=\"reference external\" href=\"ase/calculators/siesta.html\"><img alt=\"siesta\" class=\"align-middle\" src=\"files/siesta.png\"></a> \n",
      "<a class=\"reference external\" href=\"ase/calculators/turbomole.html\"><img alt=\"turbomole\" class=\"align-middle\" src=\"files/tm_logo_l.png\"></a>\n",
      "<a class=\"reference external\" href=\"ase/calculators/vasp.html\"><img alt=\"vasp\" class=\"align-middle\" src=\"files/vasp.png\"></a></div>"
     ]
    },
    {
     "cell_type": "markdown",
     "metadata": {
      "slideshow": {
       "slide_type": "subslide"
      }
     },
     "source": [
      "The maturity of quantum chemistry and the big quantum chemistry codes comes with some downsides. Program design and workflows follow designs from another era.\n",
      "\n",
      "<img src='files/old_comps.jpg' width=700></img>"
     ]
    },
    {
     "cell_type": "markdown",
     "metadata": {
      "slideshow": {
       "slide_type": "subslide"
      }
     },
     "source": [
      "Gaussian source code still written as if it's being run on punch cards, 'GOTO statements' still used:\n",
      "\n",
      "          IMPLICIT DOUBLE PRECISION(A-H,O-Z)\n",
      "          COMMON/MATRIX/S(2,2),X(2,2),XT(2,2),H(2,2),F(2,2),G(2,2),C(2,2),\n",
      "         $ FPRIME(2,2),CPRIME(2,2),P(2,2),OLDP(2,2),TT(2,2,2,2),E(2,2)\n",
      "          DATA PI/3.1415926535898D0/\n",
      "    C     CONVERGENCE CRITERION FOR DENSITY MATRIX\n",
      "          DATA CRIT/1.0D-4/\n",
      "    C     MAXIMUM NUMBER OF ITERATIONS\n",
      "          DATA MAXIT/25/\n",
      "    C     ITERATION NUMBER\n",
      "          ITER=0\n",
      "    C     USE CORE-HAMILTONIAN FOR INITIAL GUESS AT F, I.E. (P=0)\n",
      "          DO 10 I=1,2\n",
      "          DO 10 J=1,2\n",
      "       10 P(I,J)=0.0D0\n",
      "          IF (IOP.LT.2) GO TO 20\n",
      "          CALL MATOUT(P,2,2,2,2,4HP   )\n",
      "    C     START OF ITERATION LOOP\n",
      "       20 ITER=ITER+1\n",
      "          IF (IOP.LT.2) GO TO 40\n",
      "          PRINT 30, ITER\n",
      "       ... \n",
      "\n",
      "\n",
      "<img src='files/goto.png' width=700 height=350></img>"
     ]
    },
    {
     "cell_type": "markdown",
     "metadata": {
      "slideshow": {
       "slide_type": "slide"
      }
     },
     "source": [
      "Input Files\n",
      "-------------\n",
      "\n",
      "Calculations are controlled by specifying text based input files, which can be fairly simple:"
     ]
    },
    {
     "cell_type": "markdown",
     "metadata": {
      "slideshow": {
       "slide_type": "fragment"
      }
     },
     "source": [
      "    %mem=8000MB\n",
      "    %chk=/scratch/Kr_mp2_dimer_9.chk\n",
      "    %nproc=8\n",
      "    #p gfprint MP2/6-31G*\n",
      "    \n",
      "    Gaussian input prepared by ASE\n",
      "    \n",
      "    0 1\n",
      "    Kr                0.0000000000        0.0000000000        0.0000000000\n",
      "    Kr                0.0000000000        0.0000000000        2.7500000000"
     ]
    },
    {
     "cell_type": "markdown",
     "metadata": {
      "slideshow": {
       "slide_type": "subslide"
      }
     },
     "source": [
      "Or horrendous:"
     ]
    },
    {
     "cell_type": "markdown",
     "metadata": {
      "slideshow": {
       "slide_type": "fragment"
      }
     },
     "source": [
      "    %mem=120GB\n",
      "    %chk=/scratch/1W7SAw_S0_FREQ_oniom_b3lyp_631gd1_amber_pt1\n",
      "    %nprocshared=16\n",
      "    #p freq=(intmodes,hpmodes) oniom(b3lyp/6-31+g(d):amber=hardfirst) nosymm geom=connectivity\n",
      "    IOp(1/52=5, 1/53=1, 1/66=12, 4/119=10, 2/15=3)\n",
      "    \n",
      "    Mechanically embedded ONIOM GFP frequency small partition\n",
      "    \n",
      "    -6 1\n",
      "    N-N3-0.184900(PDBName=N,ResName=SER,ResNum=1_0) -22.55849   4.98178   0.09116  M \n",
      "    H-H-0.189800(PDBName=H1,ResName=SER,ResNum=1_0) -21.88048   5.60949  -0.33459  M \n",
      "    H-H-0.189800(PDBName=H2,ResName=SER,ResNum=1_0) -23.36976   5.55472   0.28662  M \n",
      "    H-H-0.189800(PDBName=H3,ResName=SER,ResNum=1_0) -22.80656   4.25772  -0.57072  M \n",
      "    C-CT-0.056700(PDBName=CA,ResName=SER,ResNum=1_0) -22.03207   4.42959   1.35821  M \n",
      "    ...\n",
      "    and on for 1000+ more lines\n",
      "    ...\n",
      "    \n",
      "    1 2 1.0 3 1.0 4 1.0 5 1.0\n",
      "     2\n",
      "     3\n",
      "     4\n",
      "     5 6 1.0 7 1.0 12 1.0\n",
      "     6\n",
      "     7 8 1.0 9 1.0 10 1.0\n",
      "     8\n",
      "     9\n",
      "    ...\n",
      "    and on for 1000+ more lines\n",
      "    ...\n",
      "     HrmStr1 CM HC 344.30   1.087\n",
      "     HrmStr1 CC N* 411.10   1.391\n",
      "     HrmStr1 CC O  546.20   1.261\n",
      "     HrmStr1 CC CM 418.30   1.429\n",
      "     HrmStr1 CC CC 418.30   1.429\n",
      "     HrmBnd1 CM C  OH 72.543     113.670\n",
      "     HrmBnd1 CA C  CM 67.200     116.780\n",
      "     HrmBnd1 HC CM CA 50.300     119.700\n",
      "    ...\n",
      "    and on for 100+ more lines"
     ]
    },
    {
     "cell_type": "markdown",
     "metadata": {
      "slideshow": {
       "slide_type": "subslide"
      }
     },
     "source": [
      "Some GUI based tools available which have significantly reduced the technical barrier to performing calculations (and without which certain calculations would be impractical):"
     ]
    },
    {
     "cell_type": "markdown",
     "metadata": {
      "slideshow": {
       "slide_type": "fragment"
      }
     },
     "source": [
      "<img src='files/Gaussview.png'></img>"
     ]
    },
    {
     "cell_type": "markdown",
     "metadata": {
      "slideshow": {
       "slide_type": "fragment"
      }
     },
     "source": [
      "**But** incomplete, closed source, not extendable, and not scriptable and expensive."
     ]
    },
    {
     "cell_type": "markdown",
     "metadata": {
      "slideshow": {
       "slide_type": "subslide"
      }
     },
     "source": [
      "Reasonable documentation for keywords, but full control of the program involves use of special machine codes known as IOPS which requires what amounts to an apprentership with one of the old masters who have the requisit knowledge."
     ]
    },
    {
     "cell_type": "markdown",
     "metadata": {
      "slideshow": {
       "slide_type": "fragment"
      }
     },
     "source": [
      "(You attempt to please the master by completing assignments in the hope you will be rewarded by the secret knowledge).\n",
      "\n",
      "<img src='files/apprentices.jpg' width=500 height=500></img>"
     ]
    },
    {
     "cell_type": "markdown",
     "metadata": {
      "slideshow": {
       "slide_type": "subslide"
      }
     },
     "source": [
      "Even with suitable training in extreme yet still popular cases e.g. calculations involving many atoms that involve combining parameterised forcefields with a quantum core, requires a complicated workflow encompassing several different programs both both gui and console based, and additional hand editing files.\n",
      "\n",
      "Prepartion a single calculation can take days or even weeks.\n",
      "\n",
      "<img src='files/oniom_flow_chart_.jpg'></img>"
     ]
    },
    {
     "cell_type": "markdown",
     "metadata": {
      "slideshow": {
       "slide_type": "subslide"
      }
     },
     "source": [
      "Once input files have been constructed a job script is submitted to a queuing system of a cluster."
     ]
    },
    {
     "cell_type": "markdown",
     "metadata": {
      "slideshow": {
       "slide_type": "slide"
      }
     },
     "source": [
      "Output Files\n",
      "------------\n",
      "\n",
      "Primary output in the form of text based log files. Started out simple but progressively added to, resulting in files fit for neither machine nor man."
     ]
    },
    {
     "cell_type": "markdown",
     "metadata": {
      "slideshow": {
       "slide_type": "fragment"
      }
     },
     "source": [
      "                              Input orientation:                          \n",
      "     ---------------------------------------------------------------------\n",
      "     Center     Atomic      Atomic             Coordinates (Angstroms)\n",
      "     Number     Number       Type             X           Y           Z\n",
      "     ---------------------------------------------------------------------\n",
      "          1          6           0       12.944290    2.379030    9.230270\n",
      "          2          6           0       14.184440    2.306490    9.968460\n",
      "          3          6           0       14.172150    2.301150   11.311130\n",
      "          4          6           0       12.893240    2.369720   12.049500\n",
      "          5          6           0       12.890000    2.365240   13.448940\n",
      "          6          6           0       10.446450    2.512790    9.222550\n",
      "          7          6           0       11.651150    2.445710    9.923370\n",
      "          8          6           0       11.673180    2.439720   11.337120\n",
      "          9          6           0       10.454800    2.504930   12.048290\n",
      "         10          6           0       10.458940    2.500960   13.463580\n",
      "         11          6           0       11.685170    2.430440   14.166130\n",
      "         12          6           0       11.671420    2.427210   15.568550\n",
      "         13          6           0       10.467200    2.493010   16.268140\n",
      "         14          6           0        7.948740    2.646500    9.245720\n",
      "         15          6           0        9.245920    2.575980    9.930820\n",
      "         16          6           0        9.232220    2.574120   11.344670\n",
      "         17          6           0        8.016350    2.640180   12.064610\n",
      "         18          6           0        8.027870    2.636790   13.464030\n",
      "         19          6           0        9.236890    2.567510   14.173720\n",
      "         20          6           0        9.258900    2.562780   15.576030\n",
      "         21          6           0        6.712910    2.715100    9.991600\n",
      "         22          6           0        6.733200    2.712980   11.334180\n",
      "         23          1           0        7.087360    2.688220   14.008260\n",
      "         24          1           0        8.331370    2.613460   16.142220\n",
      "         25          1           0        5.779200    2.767470    9.441950\n",
      "         26          1           0        5.812760    2.764210   11.905150\n",
      "         27          1           0       15.114960    2.257310    9.413020\n",
      "         28          1           0       15.095890    2.246920   11.876350\n",
      "         29          1           0       13.833690    2.310810   13.987340\n",
      "         30          1           0       12.602260    2.373340   16.128970\n",
      "         31          1           0       10.470410    2.489920   17.355340\n",
      "         32          1           0       12.972590    2.387640    8.147410\n",
      "         33          1           0       10.443260    2.515800    8.136590\n",
      "         34          1           0        7.914030    2.643720    8.163030\n",
      "     ---------------------------------------------------------------------\n",
      "                        Distance matrix (angstroms):\n",
      "                        1          2          3          4          5\n",
      "         1  C    0.000000\n",
      "         2  C    1.445046   0.000000\n",
      "         3  C    2.417371   1.342737   0.000000\n",
      "         4  C    2.819708   2.449882   1.478345   0.000000\n",
      "         5  C    4.219042   3.713862   2.493641   1.399451   0.000000\n",
      "         6  C    2.501431   3.817265   4.276424   3.741510   4.884166\n",
      "         7  C    1.468688   2.537513   2.881357   2.463532   3.737763\n",
      "         8  C    2.461345   2.863111   2.502944   1.414543   2.438438\n",
      "         9  C    3.762266   4.274960   3.795210   2.442186   2.812745\n",
      "        10  C    4.910473   5.112048   4.296614   2.818273   2.434890\n",
      "        11  C    5.094187   4.886936   3.788510   2.437877   1.403648\n",
      "        12  C    6.465007   6.139287   4.939146   3.725569   2.445715\n",
      "        13  C    7.461942   7.317010   6.191560   4.868038   3.719432\n",
      "        14  C    5.002729   6.286646   6.566279   5.690858   6.493244\n",
      "        15  C    3.769284   4.946011   5.123332   4.223067   5.069605\n",
      "        16  C    4.276472   5.146850   4.947580   3.733850   4.225037\n",
      "        17  C    5.690894   6.523077   6.211002   4.884407   5.073897\n",
      "        18  C    6.493254   7.087416   6.519188   5.073859   4.869731\n",
      "        19  C    6.182074   6.498507   5.711581   4.233241   3.729803\n",
      "        20  C    7.340609   7.468030   6.511363   5.067752   4.212888\n",
      "        21  C    6.286705   7.482731   7.586355   6.523091   7.087457\n",
      "        22  C    6.566247   7.586264   7.450377   6.210926   6.519150\n",
      "        23  H    7.564947   8.175221   7.590691   6.135668   5.838475\n",
      "        24  H    8.313185   8.512812   7.586282   6.133549   5.300611\n",
      "        25  H    7.178733   8.434321   8.611208   7.587298   8.171979\n",
      "        26  H    7.626406   8.604958   8.393252   7.092930   7.254639\n",
      "        27  H    2.181747   1.084804   2.119819   3.449595   4.609853\n",
      "        28  H    3.413001   2.115262   1.084302   2.212855   2.711640\n",
      "        29  H    4.839979   4.034159   2.697545   2.154795   1.087836\n",
      "        30  H    6.907176   6.360790   5.067677   4.089836   2.695444\n",
      "        31  H    8.494065   8.270046   7.090204   5.834080   4.596729\n",
      "        32  H    1.083264   2.188924   3.384605   3.902938   5.302221\n",
      "        33  H    2.733129   4.170850   4.901877   4.618940   5.850664\n",
      "        34  H    5.149037   6.533861   7.013698   6.322362   7.264893\n",
      "                        6          7          8          9         10\n",
      "         6  C    0.000000\n",
      "         7  C    1.395332   0.000000\n",
      "         8  C    2.445733   1.413934   0.000000\n",
      "         9  C    2.825763   2.439271   1.412255   0.000000\n",
      "        10  C    4.241065   3.735974   2.449482   1.415302   0.000000\n",
      "        11  C    5.097077   4.242924   2.829051   2.450430   1.414987\n",
      "        12  C    6.463713   5.645247   4.231449   3.725377   2.430318\n",
      "        13  C    7.045648   6.454462   5.076631   4.219885   2.804583\n",
      "        14  C    2.501394   3.769266   4.276466   3.762284   4.910461\n",
      "        15  C    1.395318   2.408767   2.808529   2.439286   3.735966\n",
      "        16  C    2.445712   2.808524   2.444669   1.412293   2.449484\n",
      "        17  C    3.741513   4.223091   3.733876   2.442253   2.818288\n",
      "        18  C    4.884164   5.069610   4.225029   2.812774   2.434862\n",
      "        19  C    5.097069   4.889679   3.741409   2.450444   1.414968\n",
      "        20  C    6.463705   6.139147   4.879780   3.725382   2.430301\n",
      "        21  C    3.817288   4.946053   5.146896   4.275031   5.112068\n",
      "        22  C    4.276363   5.123285   4.947533   3.795200   4.296561\n",
      "        23  H    5.849554   6.129708   5.312860   3.900606   3.420423\n",
      "        24  H    7.236403   7.051466   5.855499   4.613133   3.422619\n",
      "        25  H    4.679340   5.900431   6.199846   5.359400   6.176124\n",
      "        26  H    5.360097   6.173791   5.896819   4.651478   4.907646\n",
      "        27  H    4.679373   3.506270   3.947313   5.359389   6.176158\n",
      "        28  H    5.360096   3.964831   3.470286   4.651435   4.907661\n",
      "        29  H    5.849565   4.614925   3.421708   3.900576   3.420441\n",
      "        30  H    7.236408   6.278481   4.881539   4.613117   3.422632\n",
      "        31  H    8.132857   7.525309   6.137438   5.307094   3.891793\n",
      "        32  H    2.748267   2.214410   3.444623   4.644339   5.881576\n",
      "        33  H    1.085969   2.157891   3.429560   3.911732   5.327034\n",
      "        34  H    2.748250   4.135707   4.924193   4.644354   5.881563\n",
      "                       11         12         13         14         15\n",
      "        11  C    0.000000\n",
      "        12  C    1.402491   0.000000\n",
      "        13  C    2.430188   1.394239   0.000000\n",
      "        14  C    6.182073   7.340614   7.461942   0.000000\n",
      "        15  C    4.889680   6.139152   6.454458   1.468677   0.000000\n",
      "        16  C    3.741423   4.879799   5.076644   2.461331   1.413918\n",
      "        17  C    4.233275   5.067789   4.868058   2.819708   2.463539\n",
      "        18  C    3.729795   4.212883   3.719413   4.219063   3.737769\n",
      "        19  C    2.452126   2.809301   2.430187   5.094188   4.242918\n",
      "        20  C    2.809291   2.416338   1.394228   6.465010   5.645240\n",
      "        21  C    6.498546   7.468070   7.317033   1.445102   2.537556\n",
      "        22  C    5.711548   6.511342   6.191535   2.417359   2.881310\n",
      "        23  H    4.607736   4.849354   4.070440   4.839990   4.614921\n",
      "        24  H    3.896973   3.394071   2.142926   6.907185   6.278479\n",
      "        25  H    7.570465   8.507012   8.285502   2.181752   3.506253\n",
      "        26  H    6.301479   6.917945   6.385377   3.413039   3.964845\n",
      "        27  H    5.863914   7.055309   8.285523   7.178730   5.900449\n",
      "        28  H    4.112151   5.039032   6.385386   7.626377   6.173777\n",
      "        29  H    2.159263   2.681266   4.070442   7.564938   6.129707\n",
      "        30  H    2.167269   1.087858   2.142935   8.313182   7.051464\n",
      "        31  H    3.413245   2.153828   1.087209   8.494073   7.525309\n",
      "        32  H    6.155020   7.534449   8.499079   5.149016   4.135709\n",
      "        33  H    6.156702   7.533276   8.131617   2.733108   2.157894\n",
      "        34  H    7.092545   8.307020   8.499070   1.083250   2.214408\n",
      "                       16         17         18         19         20\n",
      "        16  C    0.000000\n",
      "        17  C    1.414573   0.000000\n",
      "        18  C    2.438457   1.399472   0.000000\n",
      "        19  C    2.829062   2.437897   1.403634   0.000000\n",
      "        20  C    4.231459   3.725586   2.445702   1.402491   0.000000\n",
      "        21  C    2.863145   2.449886   3.713896   4.886961   6.139310\n",
      "        22  C    2.502897   1.478277   2.493639   3.788484   4.939131\n",
      "        23  H    3.421718   2.154787   1.087837   2.159265   2.681273\n",
      "        24  H    4.881553   4.089848   2.695433   2.167273   1.087866\n",
      "        25  H    3.947287   3.449549   4.609850   5.863894   7.055292\n",
      "        26  H    3.470300   2.212831   2.711652   4.112149   5.039029\n",
      "        27  H    6.199860   7.587344   8.171997   7.570482   8.507023\n",
      "        28  H    5.896810   7.092953   7.254628   6.301473   6.917937\n",
      "        29  H    5.312868   6.135700   5.838464   4.607733   4.849343\n",
      "        30  H    5.855511   6.133579   5.300599   3.896976   3.394066\n",
      "        31  H    6.137455   5.834108   4.596723   3.413253   2.153836\n",
      "        32  H    4.924187   6.322385   7.264901   7.092547   8.307019\n",
      "        33  H    3.429548   4.618950   5.850672   6.156699   7.533272\n",
      "        34  H    3.444605   3.902923   5.302227   6.155011   7.534441\n",
      "                       21         22         23         24         25\n",
      "        21  C    0.000000\n",
      "        22  C    1.342735   0.000000\n",
      "        23  H    4.034166   2.697544   0.000000\n",
      "        24  H    6.360807   5.067672   2.471221   0.000000\n",
      "        25  H    1.084745   2.119816   4.750658   7.171535   0.000000\n",
      "        26  H    2.115267   1.084362   2.460376   4.931418   2.463431\n",
      "        27  H    8.434380   8.611178   9.259821   9.561698   9.349733\n",
      "        28  H    8.604989   8.393196   8.299177   8.005669   9.643546\n",
      "        29  H    8.175261   7.590649   6.756911   5.916978   9.259801\n",
      "        30  H    8.512846   7.586253   5.916983   4.277655   9.561680\n",
      "        31  H    8.270077   7.090195   4.763118   2.462197   9.203599\n",
      "        32  H    6.533901   7.013654   8.311188   9.247103   7.318809\n",
      "        33  H    4.170886   4.901837   6.765227   8.280080   4.849820\n",
      "        34  H    2.188939   3.384575   5.903565   7.990154   2.491676\n",
      "                       26         27         28         29         30\n",
      "        26  H    0.000000\n",
      "        27  H    9.643577   0.000000\n",
      "        28  H    9.297576   2.463426   0.000000\n",
      "        29  H    8.299181   4.750676   2.460388   0.000000\n",
      "        30  H    8.005670   7.171549   4.931425   2.471216   0.000000\n",
      "        31  H    7.174504   9.203608   7.174500   4.763104   2.462186\n",
      "        32  H    8.094787   2.491687   4.293390   5.903573   7.990159\n",
      "        33  H    5.975390   4.849832   5.975372   6.765228   8.280079\n",
      "        34  H    4.293404   7.318824   8.094770   8.311185   9.247097\n",
      "                       31         32         33         34\n",
      "        31  H    0.000000\n",
      "        32  H    9.542397   0.000000\n",
      "        33  H    9.218826   2.532598   0.000000\n",
      "        34  H    9.542395   5.065062   2.532601   0.000000\n",
      "     Stoichiometry    C22H12\n",
      "     Framework group  C1[X(C22H12)]\n",
      "     Deg. of freedom    96\n",
      "     Full point group                 C1      NOp   1\n",
      "     Largest Abelian subgroup         C1      NOp   1\n",
      "     Largest concise Abelian subgroup C1      NOp   1\n",
      "                             Standard orientation:                         \n",
      "     ---------------------------------------------------------------------\n",
      "     Center     Atomic      Atomic             Coordinates (Angstroms)\n",
      "     Number     Number       Type             X           Y           Z\n",
      "     ---------------------------------------------------------------------\n",
      "          1          6           0       -2.501282    2.814146   -0.003607\n",
      "          2          6           0       -3.741277    2.072146   -0.001258\n",
      "          3          6           0       -3.725188    0.729508    0.001201\n",
      "          4          6           0       -2.442187   -0.004939    0.001044\n",
      "          5          6           0       -2.434913   -1.404371    0.001997\n",
      "          6          6           0        0.000099    2.829516    0.000080\n",
      "          7          6           0       -1.204315    2.125004   -0.000977\n",
      "          8          6           0       -1.222311    0.711185    0.000059\n",
      "          9          6           0       -0.000017    0.003752    0.000002\n",
      "         10          6           0       -0.000035   -1.411549   -0.000001\n",
      "         11          6           0       -1.226130   -2.117863    0.001190\n",
      "         12          6           0       -1.208284   -3.520240    0.001465\n",
      "         13          6           0       -0.000131   -4.216133    0.000073\n",
      "         14          6           0        2.501442    2.813995    0.003727\n",
      "         15          6           0        1.204451    2.124925    0.001067\n",
      "         16          6           0        1.222358    0.711121   -0.000059\n",
      "         17          6           0        2.442219   -0.005086   -0.001125\n",
      "         18          6           0        2.434816   -1.404538   -0.002071\n",
      "         19          6           0        1.225994   -2.117938   -0.001191\n",
      "         20          6           0        1.208052   -3.520314   -0.001383\n",
      "         21          6           0        3.741453    2.071913    0.001153\n",
      "         22          6           0        3.725188    0.729279   -0.001392\n",
      "         23          1           0        3.378393   -1.945880   -0.003192\n",
      "         24          1           0        2.138695   -4.083655   -0.002526\n",
      "         25          1           0        4.674942    2.624425    0.001610\n",
      "         26          1           0        4.648797    0.161138   -0.003487\n",
      "         27          1           0       -4.674791    2.624734   -0.001805\n",
      "         28          1           0       -4.648777    0.161450    0.003108\n",
      "         29          1           0       -3.378515   -1.945667    0.003078\n",
      "         30          1           0       -2.138957   -4.083518    0.002635\n",
      "         31          1           0       -0.000177   -5.303342    0.000109\n",
      "         32          1           0       -2.532382    3.896938   -0.010898\n",
      "         33          1           0        0.000124    3.915484    0.000119\n",
      "         34          1           0        2.532632    3.896770    0.011271\n",
      "     ---------------------------------------------------------------------\n",
      "     Rotational constants (GHZ):      0.3766815      0.3664456      0.1857467\n",
      "     Leave Link  202 at Sun Jan 27 13:54:29 2013, MaxMem= 4194304000 cpu:       0.1\n",
      "     (Enter /apps/gaussian/g09_c01/g09/l301.exe)\n",
      "     Standard basis: 6-31G(d) (6D, 7F)\n",
      "     Ernie: Thresh=  0.10000D-02 Tol=  0.10000D-05 Strict=F.\n",
      "     There are   354 symmetry adapted basis functions of A   symmetry.\n",
      "     Integral buffers will be    131072 words long.\n",
      "     Raffenetti 2 integral format.\n",
      "     Two-electron integral symmetry is turned on.\n",
      "       354 basis functions,   664 primitive gaussians,   354 cartesian basis functions\n",
      "        72 alpha electrons       72 beta electrons\n",
      "           nuclear repulsion energy      1586.8616604853 Hartrees.\n",
      "     IExCor=  402 DFT=T Ex+Corr=B3LYP ExCW=0 ScaHFX=  0.200000\n",
      "     ScaDFX=  0.800000  0.720000  1.000000  0.810000 ScalE2=  1.000000  1.000000\n",
      "     IRadAn=      0 IRanWt=     -1 IRanGd=            0 ICorTp=0\n",
      "     NAtoms=   34 NActive=   34 NUniq=   34 SFac= 1.00D+00 NAtFMM=   60 NAOKFM=F Big=F\n",
      "     Leave Link  301 at Sun Jan 27 13:54:29 2013, MaxMem= 4194304000 cpu:       0.9\n",
      "     (Enter /apps/gaussian/g09_c01/g09/l302.exe)\n",
      "     NPDir=0 NMtPBC=     1 NCelOv=     1 NCel=       1 NClECP=     1 NCelD=      1\n",
      "             NCelK=      1 NCelE2=     1 NClLst=     1 CellRange=     0.0.\n",
      "     One-electron integrals computed using PRISM.\n",
      "     NBasis=   354 RedAO= T  NBF=   354\n",
      "     NBsUse=   354 1.00D-06 NBFU=   354\n",
      "     Precomputing XC quadrature grid using\n",
      "     IXCGrd= 2 IRadAn=           0 IRanWt=          -1 IRanGd=           0 AccXCQ= 0.00D+00.\n",
      "     NRdTot=    2150 NPtTot=      273568 NUsed=      289073 NTot=      289105\n",
      "     NSgBfM=   353   353   353   353   353 NAtAll=    34    34.\n",
      "     Leave Link  302 at Sun Jan 27 13:54:30 2013, MaxMem= 4194304000 cpu:       9.5\n",
      "     (Enter /apps/gaussian/g09_c01/g09/l303.exe)\n",
      "     DipDrv:  MaxL=1.\n",
      "     Leave Link  303 at Sun Jan 27 13:54:30 2013, MaxMem= 4194304000 cpu:       1.0\n",
      "     (Enter /apps/gaussian/g09_c01/g09/l401.exe)\n",
      "     Harris functional with IExCor=  402 diagonalized for initial guess.\n",
      "     ExpMin= 1.61D-01 ExpMax= 3.05D+03 ExpMxC= 4.57D+02 IAcc=1 IRadAn=         1 AccDes= 0.00D+00\n",
      "     HarFok:  IExCor=  402 AccDes= 0.00D+00 IRadAn=         1 IDoV= 1\n",
      "     ScaDFX=  1.000000  1.000000  1.000000  1.000000\n",
      "     FoFCou: FMM=F IPFlag=           0 FMFlag=      100000 FMFlg1=           0\n",
      "             NFxFlg=           0 DoJE=T BraDBF=F KetDBF=T FulRan=T\n",
      "             Omega=  0.000000  0.000000  1.000000  0.000000  0.000000 ICntrl=     500 IOpCl=  0\n",
      "             NMat0=    1 NMatS0=    1 NMatT0=    0 NMatD0=    1 NMtDS0=    0 NMtDT0=    0\n",
      "             I1Cent=           4 NGrid=           0.\n",
      "     Petite list used in FoFCou.\n",
      "     Harris En= -845.521632896072    \n",
      "     Initial guess orbital symmetries:\n",
      "           Occupied  (A) (A) (A) (A) (A) (A) (A) (A) (A) (A) (A) (A)\n",
      "                     (A) (A) (A) (A) (A) (A) (A) (A) (A) (A) (A) (A)\n",
      "                     (A) (A) (A) (A) (A) (A) (A) (A) (A) (A) (A) (A)\n",
      "                     (A) (A) (A) (A) (A) (A) (A) (A) (A) (A) (A) (A)\n",
      "                     (A) (A) (A) (A) (A) (A) (A) (A) (A) (A) (A) (A)\n",
      "                     (A) (A) (A) (A) (A) (A) (A) (A) (A) (A) (A) (A)\n",
      "           Virtual   (A) (A) (A) (A) (A) (A) (A) (A) (A) (A) (A) (A)\n",
      "                     (A) (A) (A) (A) (A) (A) (A) (A) (A) (A) (A) (A)\n",
      "                     (A) (A) (A) (A) (A) (A) (A) (A) (A) (A) (A) (A)\n",
      "                     (A) (A) (A) (A) (A) (A) (A) (A) (A) (A) (A) (A)\n",
      "                     (A) (A) (A) (A) (A) (A) (A) (A) (A) (A) (A) (A)\n",
      "                     (A) (A) (A) (A) (A) (A) (A) (A) (A) (A) (A) (A)\n",
      "                     (A) (A) (A) (A) (A) (A) (A) (A) (A) (A) (A) (A)\n",
      "                     (A) (A) (A) (A) (A) (A) (A) (A) (A) (A) (A) (A)\n",
      "                     (A) (A) (A) (A) (A) (A) (A) (A) (A) (A) (A) (A)\n",
      "                     (A) (A) (A) (A) (A) (A) (A) (A) (A) (A) (A) (A)\n",
      "                     (A) (A) (A) (A) (A) (A) (A) (A) (A) (A) (A) (A)\n",
      "                     (A) (A) (A) (A) (A) (A) (A) (A) (A) (A) (A) (A)\n",
      "                     (A) (A) (A) (A) (A) (A) (A) (A) (A) (A) (A) (A)\n",
      "                     (A) (A) (A) (A) (A) (A) (A) (A) (A) (A) (A) (A)\n",
      "                     (A) (A) (A) (A) (A) (A) (A) (A) (A) (A) (A) (A)\n",
      "                     (A) (A) (A) (A) (A) (A) (A) (A) (A) (A) (A) (A)\n",
      "                     (A) (A) (A) (A) (A) (A) (A) (A) (A) (A) (A) (A)\n",
      "                     (A) (A) (A) (A) (A) (A) (A) (A) (A) (A) (A) (A)\n",
      "                     (A) (A) (A) (A) (A) (A) (A) (A) (A) (A) (A) (A)\n",
      "                     (A) (A) (A) (A) (A) (A) (A) (A) (A) (A) (A) (A)\n",
      "                     (A) (A) (A) (A) (A) (A) (A) (A) (A) (A) (A) (A)\n",
      "                     (A) (A) (A) (A) (A) (A) (A) (A) (A) (A) (A) (A)\n",
      "                     (A) (A) (A) (A) (A) (A) (A) (A) (A) (A) (A) (A)\n",
      "                     (A) (A) (A) (A) (A) (A)\n",
      "     The electronic state of the initial guess is 1-A.\n",
      "     Leave Link  401 at Sun Jan 27 13:54:31 2013, MaxMem= 4194304000 cpu:      11.4\n",
      "     (Enter /apps/gaussian/g09_c01/g09/l502.exe)\n",
      "     Closed shell SCF:\n",
      "     Requested convergence on RMS density matrix=1.00D-08 within  64 cycles.\n",
      "     Requested convergence on MAX density matrix=1.00D-06.\n",
      "     Requested convergence on             energy=1.00D-06.\n",
      "     No special actions if energy rises.\n",
      "     Using DIIS extrapolation, IDIIS=  1040.\n",
      "     Integral symmetry usage will be decided dynamically.\n",
      "           288754 words used for storage of precomputed grid.\n",
      "     Keep R1 ints in memory in canonical form, NReq=1997197866.\n",
      "     IEnd=      678562 IEndB=      678562 NGot=  4194304000 MDV=  2219605275\n",
      "     LenX=  2219605275 LenY=  2219479518\n",
      "     Symmetry not used in FoFDir.\n",
      "     MinBra= 0 MaxBra= 2 Meth= 1.\n",
      "     IRaf=       0 NMat=   1 IRICut=       1 DoRegI=T DoRafI=F ISym2E= 0 JSym2E=0.\n",
      "     Integral accuracy reduced to 1.0D-05 until final iterations.\n"
     ]
    },
    {
     "cell_type": "markdown",
     "metadata": {
      "slideshow": {
       "slide_type": "subslide"
      }
     },
     "source": [
      "Some machine readable output at the end of the logfiles:"
     ]
    },
    {
     "cell_type": "markdown",
     "metadata": {
      "slideshow": {
       "slide_type": "fragment"
      }
     },
     "source": [
      "     1\\1\\GINC-CX1-5-12-4\\SP\\RB3LYP\\6-31G(d)\\C22H12\\CJF05\\27-Jan-2013\\0\\\\#p \n",
      "     B3LYP/6-31G(d) scf=xqc\\\\Gaussian input prepared by ASE\\\\0,1\\C,0,12.944\n",
      "     29,2.37903,9.23027\\C,0,14.18444,2.30649,9.96846\\C,0,14.17215,2.30115,1\n",
      "     1.31113\\C,0,12.89324,2.36972,12.0495\\C,0,12.89,2.36524,13.44894\\C,0,10\n",
      "     .44645,2.51279,9.22255\\C,0,11.65115,2.44571,9.92337\\C,0,11.67318,2.439\n",
      "     72,11.33712\\C,0,10.4548,2.50493,12.04829\\C,0,10.45894,2.50096,13.46358\n",
      "     \\C,0,11.68517,2.43044,14.16613\\C,0,11.67142,2.42721,15.56855\\C,0,10.46\n",
      "     72,2.49301,16.26814\\C,0,7.94874,2.6465,9.24572\\C,0,9.24592,2.57598,9.9\n",
      "     3082\\C,0,9.23222,2.57412,11.34467\\C,0,8.01635,2.64018,12.06461\\C,0,8.0\n",
      "     2787,2.63679,13.46403\\C,0,9.23689,2.56751,14.17372\\C,0,9.2589,2.56278,\n",
      "     15.57603\\C,0,6.71291,2.7151,9.9916\\C,0,6.7332,2.71298,11.33418\\H,0,7.0\n",
      "     8736,2.68822,14.00826\\H,0,8.33137,2.61346,16.14222\\H,0,5.7792,2.76747,\n",
      "     9.44195\\H,0,5.81276,2.76421,11.90515\\H,0,15.11496,2.25731,9.41302\\H,0,\n",
      "     15.09589,2.24692,11.87635\\H,0,13.83369,2.31081,13.98734\\H,0,12.60226,2\n",
      "     .37334,16.12897\\H,0,10.47041,2.48992,17.35534\\H,0,12.97259,2.38764,8.1\n",
      "     4741\\H,0,10.44326,2.5158,8.13659\\H,0,7.91403,2.64372,8.16303\\\\Version=\n",
      "     EM64L-G09RevC.01\\State=1-A\\HF=-845.5565388\\RMSD=2.140e-04\\Dipole=0.006\n",
      "     0013,-0.0052874,1.8702362\\Quadrupole=2.5536916,-11.1839048,8.6302132,-\n",
      "     0.7589659,0.0152046,-0.0531776\\PG=C01 [X(C22H12)]\\\\@\n",
      "    \n",
      "    \n",
      "     CHINESE FORTUNE COOKIE OF JAN 1 1967 SAY....\n",
      "     ALL THINGS ARE DIFFICULT BEFORE THEY ARE EASY.\n",
      "     WE LEARN SO LITTLE AND FORGET SO MUCH.\n",
      "     YOU WILL OVERCOME OBSTACLES TO ACHIEVE SUCCESS.\n",
      "     AH SO.\n",
      "     Job cpu time:  0 days 10 hours  8 minutes 49.9 seconds.\n",
      "     File lengths (MBytes):  RWF=     54 Int=      0 D2E=      0 Chk=      6 Scr=      1\n",
      "     Normal termination of Gaussian 09 at Sun Jan 27 14:32:34 2013."
     ]
    },
    {
     "cell_type": "markdown",
     "metadata": {
      "slideshow": {
       "slide_type": "subslide"
      }
     },
     "source": [
      "But only a small subsection of the results. More general machine readable output available in a specialised text file though non standard format subject to change without warning and some information still only available in log files."
     ]
    },
    {
     "cell_type": "markdown",
     "metadata": {
      "slideshow": {
       "slide_type": "fragment"
      }
     },
     "source": [
      "    Gaussian input prepared by ASE                                          \n",
      "    SP        RB3LYP                                                      6-31G(d)            \n",
      "    Number of atoms                            I               34\n",
      "    Info1-9                                    I   N=           9\n",
      "              45          43           0           0           0         110\n",
      "               1          18        -502\n",
      "    Charge                                     I                0\n",
      "    Multiplicity                               I                1\n",
      "    Number of electrons                        I              144\n",
      "    Number of alpha electrons                  I               72\n",
      "    Number of beta electrons                   I               72\n",
      "    Number of basis functions                  I              354\n",
      "    Number of independent functions            I              354\n",
      "    Number of point charges in /Mol/           I                0\n",
      "    Number of translation vectors              I                0\n",
      "    Atomic numbers                             I   N=          34\n",
      "               6           6           6           6           6           6\n",
      "               6           6           6           6           6           6\n",
      "               6           6           6           6           6           6\n",
      "               6           6           6           6           1           1\n",
      "               1           1           1           1           1           1\n",
      "               1           1           1           1\n",
      "    Nuclear charges                            R   N=          34\n",
      "      6.00000000E+00  6.00000000E+00  6.00000000E+00  6.00000000E+00  6.00000000E+00\n",
      "      6.00000000E+00  6.00000000E+00  6.00000000E+00  6.00000000E+00  6.00000000E+00\n",
      "      6.00000000E+00  6.00000000E+00  6.00000000E+00  6.00000000E+00  6.00000000E+00\n",
      "      6.00000000E+00  6.00000000E+00  6.00000000E+00  6.00000000E+00  6.00000000E+00\n",
      "      6.00000000E+00  6.00000000E+00  1.00000000E+00  1.00000000E+00  1.00000000E+00\n",
      "      1.00000000E+00  1.00000000E+00  1.00000000E+00  1.00000000E+00  1.00000000E+00\n",
      "      1.00000000E+00  1.00000000E+00  1.00000000E+00  1.00000000E+00\n",
      "    Current cartesian coordinates              R   N=         102\n",
      "     -4.72673702E+00  5.31796438E+00 -6.81680190E-03 -7.06998982E+00  3.91578886E+00\n",
      "     -2.37698082E-03 -7.03958504E+00  1.37857035E+00  2.27035117E-03 -4.61506517E+00\n",
      "     -9.33306493E-03  1.97230431E-03 -4.60131872E+00 -2.65387570E+00  3.77392449E-03\n",
      "      1.87747476E-04  5.34700944E+00  1.50265746E-04 -2.27582521E+00  4.01567647E+00\n",
      "     -1.84532216E-03 -2.30983376E+00  1.34394499E+00  1.10580820E-04 -3.19557100E-05\n",
      "      7.09075256E-03  4.24150628E-06 -6.59154535E-05 -2.66744171E+00 -1.74634799E-06\n",
      "     -2.31705013E+00 -4.00218062E+00  2.24968748E-03 -2.28332575E+00 -6.65229012E+00\n",
      "      2.76895115E-03 -2.47703536E-04 -7.96733631E+00  1.37150039E-04  4.72704078E+00\n",
      "      5.31768035E+00  7.04393584E-03  2.27608257E+00  4.01552642E+00  2.01676087E-03\n",
      "      2.30992096E+00  1.34382451E+00 -1.11246330E-04  4.61512571E+00 -9.61179092E-03\n",
      "     -2.12579130E-03  4.60113507E+00 -2.65419209E+00 -3.91307854E-03  2.31679382E+00\n",
      "     -4.00232224E+00 -2.25033794E-03  2.28288759E+00 -6.65242863E+00 -2.61268544E-03\n",
      "      7.07032111E+00  3.91534828E+00  2.17939104E-03  7.03958558E+00  1.37813761E+00\n",
      "     -2.63085932E-03  6.38423751E+00 -3.67718038E+00 -6.03216042E-03  4.04154776E+00\n",
      "     -7.71699039E+00 -4.77380340E-03  8.83436058E+00  4.95944426E+00  3.04283890E-03\n",
      "      8.78495263E+00  3.04506929E-01 -6.58967686E-03 -8.83407381E+00  4.96002773E+00\n",
      "     -3.41024972E-03 -8.78491544E+00  3.05096580E-01  5.87377216E-03 -6.38446802E+00\n",
      "     -3.67677829E+00  5.81751188E-03 -4.04204329E+00 -7.71673044E+00  4.97997522E-03\n",
      "     -3.34067436E-04 -1.00218638E+01  2.05539334E-04 -4.78550766E+00  7.36414640E+00\n",
      "     -2.05936021E-02  2.35245454E-04  7.39919317E+00  2.24557627E-04  4.78598016E+00\n",
      "      7.36382749E+00  2.12991311E-02\n",
      "    Force Field                                I                0\n",
      "    Int Atom Types                             I   N=          34\n",
      "               0           0           0           0           0           0\n",
      "               0           0           0           0           0           0\n",
      "               0           0           0           0           0           0\n",
      "               0           0           0           0           0           0\n",
      "               0           0           0           0           0           0\n",
      "               0           0           0           0\n",
      "    MM charges                                 R   N=          34\n",
      "      0.00000000E+00  0.00000000E+00  0.00000000E+00  0.00000000E+00  0.00000000E+00\n",
      "      0.00000000E+00  0.00000000E+00  0.00000000E+00  0.00000000E+00  0.00000000E+00\n",
      "      0.00000000E+00  0.00000000E+00  0.00000000E+00  0.00000000E+00  0.00000000E+00\n",
      "      0.00000000E+00  0.00000000E+00  0.00000000E+00  0.00000000E+00  0.00000000E+00\n",
      "      0.00000000E+00  0.00000000E+00  0.00000000E+00  0.00000000E+00  0.00000000E+00\n",
      "      0.00000000E+00  0.00000000E+00  0.00000000E+00  0.00000000E+00  0.00000000E+00\n",
      "      0.00000000E+00  0.00000000E+00  0.00000000E+00  0.00000000E+00\n",
      "    Integer atomic weights                     I   N=          34\n",
      "              12          12          12          12          12          12\n",
      "              12          12          12          12          12          12\n",
      "              12          12          12          12          12          12\n",
      "              12          12          12          12           1           1\n",
      "               1           1           1           1           1           1\n",
      "               1           1           1           1\n",
      "    Real atomic weights                        R   N=          34\n",
      "      1.20000000E+01  1.20000000E+01  1.20000000E+01  1.20000000E+01  1.20000000E+01\n",
      "      1.20000000E+01  1.20000000E+01  1.20000000E+01  1.20000000E+01  1.20000000E+01\n",
      "      1.20000000E+01  1.20000000E+01  1.20000000E+01  1.20000000E+01  1.20000000E+01\n",
      "      1.20000000E+01  1.20000000E+01  1.20000000E+01  1.20000000E+01  1.20000000E+01\n",
      "      1.20000000E+01  1.20000000E+01  1.00782504E+00  1.00782504E+00  1.00782504E+00\n",
      "      1.00782504E+00  1.00782504E+00  1.00782504E+00  1.00782504E+00  1.00782504E+00\n",
      "      1.00782504E+00  1.00782504E+00  1.00782504E+00  1.00782504E+00\n",
      "    Atom fragment info                         I   N=          34\n",
      "               0           0           0           0           0           0\n",
      "               0           0           0           0           0           0\n",
      "               0           0           0           0           0           0\n",
      "               0           0           0           0           0           0\n",
      "               0           0           0           0           0           0\n",
      "               0           0           0           0\n",
      "    Atom residue num                           I   N=          34\n",
      "               0           0           0           0           0           0\n",
      "               0           0           0           0           0           0\n",
      "               0           0           0           0           0           0\n",
      "               0           0           0           0           0           0\n",
      "               0           0           0           0           0           0\n",
      "               0           0           0           0\n",
      "    Nuclear spins                              I   N=          34\n",
      "               0           0           0           0           0           0\n",
      "               0           0           0           0           0           0\n",
      "               0           0           0           0           0           0\n",
      "               0           0           0           0           1           1\n",
      "               1           1           1           1           1           1\n",
      "               1           1           1           1\n",
      "    Nuclear ZEff                               R   N=          34\n",
      "     -3.60000000E+00 -3.60000000E+00 -3.60000000E+00 -3.60000000E+00 -3.60000000E+00\n",
      "     -3.60000000E+00 -3.60000000E+00 -3.60000000E+00 -3.60000000E+00 -3.60000000E+00\n",
      "     -3.60000000E+00 -3.60000000E+00 -3.60000000E+00 -3.60000000E+00 -3.60000000E+00\n",
      "     -3.60000000E+00 -3.60000000E+00 -3.60000000E+00 -3.60000000E+00 -3.60000000E+00\n",
      "     -3.60000000E+00 -3.60000000E+00 -1.00000000E+00 -1.00000000E+00 -1.00000000E+00\n",
      "     -1.00000000E+00 -1.00000000E+00 -1.00000000E+00 -1.00000000E+00 -1.00000000E+00\n",
      "     -1.00000000E+00 -1.00000000E+00 -1.00000000E+00 -1.00000000E+00\n",
      "    Nuclear ZNuc                               R   N=          34\n",
      "      6.00000000E+00  6.00000000E+00  6.00000000E+00  6.00000000E+00  6.00000000E+00\n",
      "      6.00000000E+00  6.00000000E+00  6.00000000E+00  6.00000000E+00  6.00000000E+00\n",
      "      6.00000000E+00  6.00000000E+00  6.00000000E+00  6.00000000E+00  6.00000000E+00\n",
      "      6.00000000E+00  6.00000000E+00  6.00000000E+00  6.00000000E+00  6.00000000E+00\n",
      "      6.00000000E+00  6.00000000E+00  1.00000000E+00  1.00000000E+00  1.00000000E+00\n",
      "      1.00000000E+00  1.00000000E+00  1.00000000E+00  1.00000000E+00  1.00000000E+00\n",
      "      1.00000000E+00  1.00000000E+00  1.00000000E+00  1.00000000E+00\n",
      "    Nuclear QMom                               R   N=          34\n",
      "      0.00000000E+00  0.00000000E+00  0.00000000E+00  0.00000000E+00  0.00000000E+00\n",
      "      0.00000000E+00  0.00000000E+00  0.00000000E+00  0.00000000E+00  0.00000000E+00\n",
      "      0.00000000E+00  0.00000000E+00  0.00000000E+00  0.00000000E+00  0.00000000E+00\n",
      "      0.00000000E+00  0.00000000E+00  0.00000000E+00  0.00000000E+00  0.00000000E+00\n",
      "      0.00000000E+00  0.00000000E+00  0.00000000E+00  0.00000000E+00  0.00000000E+00\n",
      "      0.00000000E+00  0.00000000E+00  0.00000000E+00  0.00000000E+00  0.00000000E+00\n",
      "      0.00000000E+00  0.00000000E+00  0.00000000E+00  0.00000000E+00\n",
      "    Nuclear GFac                               R   N=          34\n",
      "      0.00000000E+00  0.00000000E+00  0.00000000E+00  0.00000000E+00  0.00000000E+00\n",
      "      0.00000000E+00  0.00000000E+00  0.00000000E+00  0.00000000E+00  0.00000000E+00\n",
      "      0.00000000E+00  0.00000000E+00  0.00000000E+00  0.00000000E+00  0.00000000E+00\n",
      "      0.00000000E+00  0.00000000E+00  0.00000000E+00  0.00000000E+00  0.00000000E+00\n",
      "      0.00000000E+00  0.00000000E+00  2.79284600E+00  2.79284600E+00  2.79284600E+00\n",
      "      2.79284600E+00  2.79284600E+00  2.79284600E+00  2.79284600E+00  2.79284600E+00\n",
      "      2.79284600E+00  2.79284600E+00  2.79284600E+00  2.79284600E+00\n",
      "    MicOpt                                     I   N=          34\n",
      "              -1          -1          -1          -1          -1          -1\n",
      "              -1          -1          -1          -1          -1          -1\n",
      "              -1          -1          -1          -1          -1          -1\n",
      "              -1          -1          -1          -1          -1          -1\n",
      "              -1          -1          -1          -1          -1          -1\n",
      "              -1          -1          -1          -1\n",
      "    Number of contracted shells                I              112\n",
      "    Number of primitive shells                 I              290\n",
      "    Pure/Cartesian d shells                    I                1\n",
      "    Pure/Cartesian f shells                    I                0\n",
      "    Highest angular momentum                   I                2\n",
      "    Largest degree of contraction              I                6\n",
      "    S"
     ]
    },
    {
     "cell_type": "markdown",
     "metadata": {
      "slideshow": {
       "slide_type": "fragment"
      }
     },
     "source": [
      "\n",
      "\n",
      "Can extract a small subset of data using the GUI tools but people generally either grep and paste into excel/libreoffice or if they are more advanced write custom bash scripts combining grep/awk/sed to generate plane text data files that can be fed into a plotting library like gnuplot/xmgrace/etc."
     ]
    },
    {
     "cell_type": "markdown",
     "metadata": {
      "slideshow": {
       "slide_type": "subslide"
      }
     },
     "source": [
      "Workflow overview:\n",
      "\n",
      "<img src='files/pre_ase_workflow.png'></img>"
     ]
    },
    {
     "cell_type": "markdown",
     "metadata": {
      "slideshow": {
       "slide_type": "subslide"
      }
     },
     "source": [
      "Methodology section of literature papers, methodology reported with brief summary of method and numerical approximation used.\n",
      "\n",
      "If you are lucky there is some additional information, but even then it is usually in the form of text files full of atomic coordinates.\n",
      "\n",
      "This means repeating literature calculcations can be easy or, can be a nightmare due to hidden gotchas that are not mentioned in the papers."
     ]
    },
    {
     "cell_type": "heading",
     "level": 3,
     "metadata": {
      "slideshow": {
       "slide_type": "slide"
      }
     },
     "source": [
      "Summary of Problems"
     ]
    },
    {
     "cell_type": "markdown",
     "metadata": {},
     "source": [
      "*  Quantum chemical research is inefficient, inefficiency limits imagination.\n",
      "\n",
      "*  Exchange of information in the literature is unnecessarily low bandwidth.\n",
      "\n",
      "*  Direct broader usage of quantum chemical calculcations is limited by the lack of a quantum chemical api."
     ]
    },
    {
     "cell_type": "markdown",
     "metadata": {
      "slideshow": {
       "slide_type": "notes"
      }
     },
     "source": [
      "Legacy quantum chemistry codes dominate quantum chemical research due to the large amount research and development poured into them and hence the wide range of methods they have available. \n",
      "\n",
      "However whilst method development and computer power now mean we can treat thousands of atoms instead of two, the procedures in place governing input and output remain as if we were just treating two thus individual research workflows are much less efficient than they might be.\n",
      "\n",
      "Exchange of information in the scientific literature is limited by both the culture and the toolset commonly used.\n",
      "\n",
      "Involvement of quantum chemistry in interdisciplionary fields is slowed by the lack of a quantum chemical api."
     ]
    },
    {
     "cell_type": "heading",
     "level": 2,
     "metadata": {
      "slideshow": {
       "slide_type": "slide"
      }
     },
     "source": [
      "So how can Python Help?"
     ]
    },
    {
     "cell_type": "markdown",
     "metadata": {
      "slideshow": {
       "slide_type": "fragment"
      }
     },
     "source": [
      "Replace medieval practices of writing elaborate text files and aneurism inducing output files by wrapping both input file creation and data extraction in Python. Increasing efficiency of individual researchers and reducing the barrier to truly collaborative interdisciplinary projects.\n",
      "\n",
      "Run calculations inside a notebook hence offering an implicitly curated store of the data. Allowing individuals to better understand and reuse previous results and more easily build upon the work of others."
     ]
    },
    {
     "cell_type": "markdown",
     "metadata": {
      "slideshow": {
       "slide_type": "notes"
      }
     },
     "source": [
      "If you're going to have a black box make it a pretty black box."
     ]
    },
    {
     "cell_type": "heading",
     "level": 2,
     "metadata": {
      "slideshow": {
       "slide_type": "slide"
      }
     },
     "source": [
      "APIs used:\n",
      "\n",
      "<img src='files/ccnotebook.png'></img>"
     ]
    },
    {
     "cell_type": "markdown",
     "metadata": {
      "slideshow": {
       "slide_type": "subslide"
      }
     },
     "source": [
      "**ASE**\n",
      "\n",
      "ASE is an Atomistic Simulation Environment written in the Python programming language with the aim of setting up, steering, and analyzing atomistic simulations. (S. R. Bahn and K. W. Jacobsen An object-oriented scripting interface to a legacy electronic structure code, Comput. Sci. Eng., Vol. 4, 56-66, 2002)"
     ]
    },
    {
     "cell_type": "markdown",
     "metadata": {
      "slideshow": {
       "slide_type": "fragment"
      }
     },
     "source": [
      "The Atoms object is a collection of atoms. Here is how to define a N2 molecule by directly specifying the position of two nitrogen atoms:"
     ]
    },
    {
     "cell_type": "code",
     "collapsed": false,
     "input": [
      "from ase import Atoms\n",
      "d = 1.10\n",
      "molecule = Atoms('2N', positions=[(0., 0., 0.), (0., 0., d)])\n",
      "molecule"
     ],
     "language": "python",
     "metadata": {
      "slideshow": {
       "slide_type": "fragment"
      }
     },
     "outputs": [
      {
       "metadata": {},
       "output_type": "pyout",
       "prompt_number": 1,
       "text": [
        "Atoms(symbols='N2', positions=..., cell=[1.0, 1.0, 1.0], pbc=[False, False, False])"
       ]
      }
     ],
     "prompt_number": 1
    },
    {
     "cell_type": "markdown",
     "metadata": {
      "slideshow": {
       "slide_type": "fragment"
      }
     },
     "source": [
      "You can also build crystals using, for example, the lattice module which returns Atoms objects corresponding to common crystal structures. Let us make a Cu (111) surface:"
     ]
    },
    {
     "cell_type": "code",
     "collapsed": false,
     "input": [
      "from ase.lattice.surface import fcc111\n",
      "slab = fcc111('Cu', size=(4,4,2), vacuum=10.0)"
     ],
     "language": "python",
     "metadata": {
      "slideshow": {
       "slide_type": "fragment"
      }
     },
     "outputs": []
    },
    {
     "cell_type": "markdown",
     "metadata": {
      "slideshow": {
       "slide_type": "fragment"
      }
     },
     "source": [
      "Finally can read in atoms from a file containing the structure:"
     ]
    },
    {
     "cell_type": "code",
     "collapsed": false,
     "input": [
      "from ase.io import read\n",
      "molecule = read('N2.xyz')"
     ],
     "language": "python",
     "metadata": {
      "slideshow": {
       "slide_type": "fragment"
      }
     },
     "outputs": []
    },
    {
     "cell_type": "markdown",
     "metadata": {
      "slideshow": {
       "slide_type": "subslide"
      }
     },
     "source": [
      "We can attach a calculator to the previously created Atoms objects:"
     ]
    },
    {
     "cell_type": "code",
     "collapsed": false,
     "input": [
      "from ase.calculators.emt import EMT\n",
      "molecule.set_calculator(EMT())\n",
      "molecule.calc.implemented_properties"
     ],
     "language": "python",
     "metadata": {
      "slideshow": {
       "slide_type": "fragment"
      }
     },
     "outputs": [
      {
       "metadata": {},
       "output_type": "pyout",
       "prompt_number": 8,
       "text": [
        "['energy', 'forces']"
       ]
      }
     ],
     "prompt_number": 8
    },
    {
     "cell_type": "code",
     "collapsed": false,
     "input": [
      "molecule.get_potential_energy()"
     ],
     "language": "python",
     "metadata": {
      "slideshow": {
       "slide_type": "fragment"
      }
     },
     "outputs": [
      {
       "metadata": {},
       "output_type": "pyout",
       "prompt_number": 11,
       "text": [
        "0.44034325572345945"
       ]
      }
     ],
     "prompt_number": 11
    },
    {
     "cell_type": "markdown",
     "metadata": {
      "slideshow": {
       "slide_type": "subslide"
      }
     },
     "source": [
      "ASE's philosophy is to construct scripts that make use of the built in calculators to compute energies, forces and other basic properties than can be fed into ASE's internal optimisers:"
     ]
    },
    {
     "cell_type": "code",
     "collapsed": false,
     "input": [
      "from ase import Atoms\n",
      "from ase.visualize import view\n",
      "from ase.calculators.emt import EMT\n",
      "from ase.constraints import FixAtoms\n",
      "from ase.optimize import QuasiNewton\n",
      "from ase.lattice.surface import fcc111,add_adsorbate\n",
      "\n",
      "h = 1.85\n",
      "d = 1.10\n",
      "\n",
      "slab = fcc111('Cu', size=(4,4,2), vacuum=10.0)\n",
      "\n",
      "slab.set_calculator(EMT())\n",
      "e_slab = slab.get_potential_energy()\n",
      "\n",
      "molecule = Atoms('2N', positions=[(0., 0., 0.), (0., 0., d)])\n",
      "molecule.set_calculator(EMT())\n",
      "e_N2 = molecule.get_potential_energy()\n",
      "\n",
      "add_adsorbate(slab, molecule, h, 'ontop')\n",
      "constraint = FixAtoms(mask=[a.symbol != 'N' for a in slab])\n",
      "slab.set_constraint(constraint)\n",
      "dyn = QuasiNewton(slab, trajectory='N2Cu.traj')\n",
      "dyn.run(fmax=0.05)\n",
      "\n",
      "print('Adsorption energy:', e_slab + e_N2 - slab.get_potential_energy())\n",
      "\n",
      "#view(slab)"
     ],
     "language": "python",
     "metadata": {
      "slideshow": {
       "slide_type": "fragment"
      }
     },
     "outputs": [
      {
       "output_type": "stream",
       "stream": "stdout",
       "text": [
        "BFGSLineSearch:   0[  0]  17:19:55       11.689925       1.0797\n"
       ]
      },
      {
       "output_type": "stream",
       "stream": "stdout",
       "text": [
        "BFGSLineSearch:   1[  2]  17:19:55       11.670813       0.4090\n"
       ]
      },
      {
       "output_type": "stream",
       "stream": "stdout",
       "text": [
        "BFGSLineSearch:   2[  4]  17:19:55       11.625878       0.0409\n"
       ]
      },
      {
       "output_type": "stream",
       "stream": "stdout",
       "text": [
        "('Adsorption energy:', 0.32351907872451413)\n"
       ]
      }
     ],
     "prompt_number": 38
    },
    {
     "cell_type": "markdown",
     "metadata": {
      "slideshow": {
       "slide_type": "subslide"
      }
     },
     "source": [
      "**cclib**\n",
      "\n",
      "A parsing library for quantum chemical output files by Noel O'Boyle, Adam Tenderholt, Karol Langner and others.\n",
      "\n",
      "N. M. O'Boyle, A. L. Tenderholt, K. M. Langner, cclib: a library for package-independent computational chemistry algorithms, J. Comp. Chem. 29 (5), pp. 839-845, 2008 (DOI)."
     ]
    },
    {
     "cell_type": "code",
     "collapsed": false,
     "input": [
      "import logging\n",
      "from cclib.parser import ADF, GAMESS, GAMESSUK, Gaussian, Molpro, Jaguar\n",
      "myfile = Gaussian(\"triang_graphene.log\", loglevel=logging.CRITICAL)\n",
      "raw_data = myfile.parse()\n",
      "data = raw_data.getattributes()\n",
      "print(data.keys())"
     ],
     "language": "python",
     "metadata": {
      "slideshow": {
       "slide_type": "fragment"
      }
     },
     "outputs": [
      {
       "output_type": "stream",
       "stream": "stdout",
       "text": [
        "['moenergies', 'coreelectrons', 'atomnos', 'atomcoords', 'scfvalues', 'scfenergies', 'atommasses', 'charge', 'homos', 'scftargets', 'nbasis', 'natom', 'nmo', 'mosyms', 'atomcharges', 'mult']\n"
       ]
      }
     ],
     "prompt_number": 42
    },
    {
     "cell_type": "code",
     "collapsed": false,
     "input": [
      "data['scfenergies']"
     ],
     "language": "python",
     "metadata": {
      "slideshow": {
       "slide_type": "fragment"
      }
     },
     "outputs": [
      {
       "metadata": {},
       "output_type": "pyout",
       "prompt_number": 44,
       "text": [
        "array([-23006.96138889, -23008.77352765])"
       ]
      }
     ],
     "prompt_number": 44
    },
    {
     "cell_type": "markdown",
     "metadata": {
      "slideshow": {
       "slide_type": "subslide"
      }
     },
     "source": [
      "**Molmod**\n",
      "\n",
      "Molecular modelling toolkit offers definition of a molecule like the ASE except in the form of a Molecule class (T. Verstraelen, Molmod Software Library, http://molmod.ugent.be/software):"
     ]
    },
    {
     "cell_type": "code",
     "collapsed": false,
     "input": [
      "from molmod import Molecule\n",
      "molecule = Molecule.from_file(\"triang_graphene.xyz\")"
     ],
     "language": "python",
     "metadata": {
      "slideshow": {
       "slide_type": "fragment"
      }
     },
     "outputs": [],
     "prompt_number": 78
    },
    {
     "cell_type": "markdown",
     "metadata": {
      "slideshow": {
       "slide_type": "fragment"
      }
     },
     "source": [
      "But focus here is on manipulation and analysis of the data. E.g. can compute a molecular graph specifying the bonds present:"
     ]
    },
    {
     "cell_type": "code",
     "collapsed": false,
     "input": [
      "molecule.set_default_graph()\n",
      "molecule.graph.neighbors[1]"
     ],
     "language": "python",
     "metadata": {
      "slideshow": {
       "slide_type": "fragment"
      }
     },
     "outputs": [
      {
       "metadata": {},
       "output_type": "pyout",
       "prompt_number": 18,
       "text": [
        "frozenset({0, 2, 26})"
       ]
      }
     ],
     "prompt_number": 18
    },
    {
     "cell_type": "markdown",
     "metadata": {
      "slideshow": {
       "slide_type": "fragment"
      }
     },
     "source": [
      "Also contains a parsers for some quantum chemical machine readable files including Gaussian's fchk files"
     ]
    },
    {
     "cell_type": "code",
     "collapsed": false,
     "input": [
      "from molmod.io import FCHKFile\n",
      "\n",
      "fchk_parser=FCHKFile('triang_graphene.fchk')\n",
      "print(fchk_parser.fields.keys())"
     ],
     "language": "python",
     "metadata": {
      "slideshow": {
       "slide_type": "fragment"
      }
     },
     "outputs": [
      {
       "output_type": "stream",
       "stream": "stdout",
       "text": [
        "['P(S=P) Contraction coefficients', 'Alpha Orbital Energies', 'Mulliken Charges', 'Atom Modifiers', 'Alpha MO coefficients', 'Number of basis functions', 'Dipole Moment', 'Num ILSW', 'Shell to atom map', 'ILSW', 'Charge', 'MM charges', 'Atom residue num', 'Contraction coefficients', 'MicOpt', 'Virial Ratio', 'Int Atom Types', 'IOpCl', 'Nuclear ZEff', 'ONIOM Charges', 'Int Atom Modified Types', 'Atom Layers', 'Force Field', 'Number of point charges in /Mol/', 'Link Atoms', 'Current cartesian coordinates', 'Pure/Cartesian f shells', 'Constraint Structure', 'ONIOM Multiplicities', 'Number of electrons', 'Atom Modified MM Charges', 'Nuclear QMom', 'Shell types', 'Primitive exponents', 'RBond', 'Number of beta electrons', 'Multiplicity', 'MxBond', 'Total SCF Density', 'Number of independent functions', 'SCF Energy', 'Number of primitive shells', 'Num RLSW', 'Nuclear charges', 'External E-field', 'Number of primitives per shell', 'Highest angular momentum', 'NBond', 'Integer atomic weights', 'IROHF', 'Nuclear spins', 'Quadrupole Moment', 'Number of atoms', 'RLSW', 'Cartesian Gradient', 'Link Distances', 'Atomic numbers', 'Coordinates of each shell', 'Largest degree of contraction', 'IBond', 'QEq coupling tensors', 'Number of alpha electrons', 'Number of contracted shells', 'Info1-9', 'Atom fragment info', 'Nuclear ZNuc', 'Pure/Cartesian d shells', 'Number of translation vectors', 'Real atomic weights', 'Nuclear GFac', 'Total Energy', 'RMS Density']\n"
       ]
      }
     ],
     "prompt_number": 37
    },
    {
     "cell_type": "markdown",
     "metadata": {
      "slideshow": {
       "slide_type": "subslide"
      }
     },
     "source": [
      "**IPython Notebook**\n",
      "\n",
      "Python + HTML + Javascript"
     ]
    },
    {
     "cell_type": "markdown",
     "metadata": {
      "slideshow": {
       "slide_type": "fragment"
      }
     },
     "source": [
      "<img src='files/ipy-notebook-notebook.png'></img>"
     ]
    },
    {
     "cell_type": "markdown",
     "metadata": {
      "slideshow": {
       "slide_type": "subslide"
      }
     },
     "source": [
      "**JMol**\n",
      "\n",
      "Java app/javascript based molecular visualisation."
     ]
    },
    {
     "cell_type": "code",
     "collapsed": false,
     "input": [
      "from IPython.core.display import HTML\n",
      "\n",
      "with open('supersimple.htm') as jsmol_f:\n",
      "    jsmol_c = jsmol_f.read()\n",
      "HTML(jsmol_c)"
     ],
     "language": "python",
     "metadata": {},
     "outputs": [
      {
       "html": [
        "<!DOCTYPE html>\r\n",
        "<html>\r\n",
        "<title>Super-Simple JSmol</title>\r\n",
        "<head>\r\n",
        "<meta charset=\"utf-8\">\r\n",
        "<script type=\"text/javascript\" src=\"JSmol.min.js\"></script>\r\n",
        "<script type=\"text/javascript\"> \r\n",
        "\r\n",
        "$(document).ready(function() {\r\n",
        "\r\n",
        "Info = {\r\n",
        "\twidth: 400,\r\n",
        "\theight: 400,\r\n",
        "\tdebug: false,\r\n",
        "\tcolor: \"white\",\r\n",
        "  disableJ2SLoadMonitor: true,\r\n",
        "  disableInitialConsole: true,\r\n",
        "\taddSelectionOptions: false,\r\n",
        "\tserverURL: \"http://chemapps.stolaf.edu/jmol/jsmol/php/jsmol.php\",\r\n",
        "\tuse: \"HTML5\",\r\n",
        "\treadyFunction: null,\r\n",
        "\tscript: \"load $caffeine\"\r\n",
        "}\r\n",
        "\r\n",
        "$(\"#mydiv\").html(Jmol.getAppletHtml(\"jmolApplet0\",Info))\r\n",
        "\r\n",
        "});\r\n",
        "\r\n",
        "\r\n",
        "\r\n",
        "</script>\r\n",
        "</head>\r\n",
        "<body>\r\n",
        "<span id=mydiv></span>\r\n",
        "<a href=\"javascript:Jmol.script(jmolApplet0, 'spin on')\">spin on</a>\r\n",
        "\r\n",
        "<a href=\"javascript:Jmol.script(jmolApplet0, 'spin off')\">spin off</a>\r\n",
        "</body>\r\n",
        "</html>\r\n"
       ],
       "metadata": {},
       "output_type": "pyout",
       "prompt_number": 9,
       "text": [
        "<IPython.core.display.HTML at 0x254ddd0>"
       ]
      }
     ],
     "prompt_number": 9
    },
    {
     "cell_type": "markdown",
     "metadata": {
      "slideshow": {
       "slide_type": "subslide"
      }
     },
     "source": [
      "**pbs_util + paramiko**\n",
      "\n",
      "PBS based execution of jobs from within a notebook"
     ]
    },
    {
     "cell_type": "markdown",
     "metadata": {
      "slideshow": {
       "slide_type": "subslide"
      }
     },
     "source": [
      "**ccnotebook**\n",
      "\n",
      "Putting them together: combination of parsers for main body of the log file, machine readable tail of the log file and the fchk file into a slightly extended Gaussian calculator.\n",
      "\n",
      "Utility functions to check the status of remote calculcations and smoothly move files output files across the network.\n",
      "\n",
      "Small javascript fragments allowing access to datafiles"
     ]
    },
    {
     "cell_type": "heading",
     "level": 3,
     "metadata": {
      "slideshow": {
       "slide_type": "slide"
      }
     },
     "source": [
      "Quantum Chemical Notebook"
     ]
    },
    {
     "cell_type": "markdown",
     "metadata": {
      "slideshow": {
       "slide_type": "fragment"
      }
     },
     "source": [
      "Added together we can create a quantum chemical api (initially with Gaussian) and run all calculations and analysis inside from notebooks.\n",
      "\n",
      "Once we can generate the data and access data we can leverage the entire python scientific stack for further analysis and visualisation."
     ]
    },
    {
     "cell_type": "heading",
     "level": 3,
     "metadata": {
      "slideshow": {
       "slide_type": "slide"
      }
     },
     "source": [
      "Notebooks in action."
     ]
    },
    {
     "cell_type": "code",
     "collapsed": false,
     "input": [
      "import pandas, os\n",
      "import numpy as np\n",
      "from webbrowser import open as open_log\n",
      "from math import pi\n",
      "from IPython.core.display import HTML, Image\n",
      "from ase.io import read, write\n",
      "#from ase.calculators.gaussian import Gaussian\n",
      "from gausspy import Gaussian\n",
      "from glob import glob\n",
      "from ASE_utils import *\n",
      "import cc_notebook_utils\n",
      "from cc_notebook_utils import *\n",
      "#from adsy import display as ad_disp\n",
      "pandas.set_printoptions(max_rows=200, max_columns=10)\n",
      "#ad_disp.extended_styles()"
     ],
     "language": "python",
     "metadata": {
      "slideshow": {
       "slide_type": "skip"
      }
     },
     "outputs": [
      {
       "output_type": "stream",
       "stream": "stderr",
       "text": [
        "/home/clyde/anaconda/lib/python2.7/site-packages/pandas/core/format.py:1653: FutureWarning: set_printoptions is deprecated, use set_option instead\n",
        "  FutureWarning)\n"
       ]
      }
     ],
     "prompt_number": 22
    },
    {
     "cell_type": "code",
     "collapsed": false,
     "input": [
      "cd ~/Project/Notebooks/triang_graph/"
     ],
     "language": "python",
     "metadata": {
      "slideshow": {
       "slide_type": "skip"
      }
     },
     "outputs": [
      {
       "output_type": "stream",
       "stream": "stdout",
       "text": [
        "/home/clyde/Dropbox/Project Stuff/Notebooks/triang_graph\n"
       ]
      }
     ],
     "prompt_number": 19
    },
    {
     "cell_type": "code",
     "collapsed": false,
     "input": [
      "from cc_notebook_utils import *"
     ],
     "language": "python",
     "metadata": {
      "slideshow": {
       "slide_type": "subslide"
      }
     },
     "outputs": [],
     "prompt_number": 20
    },
    {
     "cell_type": "code",
     "collapsed": false,
     "input": [
      "tri_graph_init  = 'triang_graphene.xyz'\n",
      "\n",
      "tri = read(tri_graph_init)\n",
      "tri.set_calculator(Gaussian(label='triang_graphene', method='B3LYP', basis='6-31G(d)'))\n",
      "tri.calc.set_job(nodes=16, memory=16*2000, time=5, queue='pqmb')\n",
      "\n",
      "tri_xqc = read(tri_graph_init)\n",
      "tri_xqc.set_calculator(Gaussian(label='triang_graphene_xqc', method='B3LYP', basis='6-31G(d)', scf='xqc'))\n",
      "tri_xqc.calc.set_job(nodes=16, memory=16*2000, time=5, queue='pqmb')\n",
      "\n",
      "#tri.calc.start()\n",
      "#tri_xqc.calc.start()\n",
      "\n",
      "check_calcs([tri, tri_xqc])\n",
      "mols_to_html([tri, tri_xqc])"
     ],
     "language": "python",
     "metadata": {
      "slideshow": {
       "slide_type": "fragment"
      }
     },
     "outputs": [
      {
       "html": [
        "\n",
        "           <script type=\"text/javascript\">\n",
        "           function view_function (event, file_n) {\n",
        "               if (event.ctrlKey && event.shiftKey){\n",
        "                   IPython.notebook.kernel.execute(\"cc_notebook_utils.pygview('\" + file_n + \".log')\");\n",
        "               }\n",
        "               else if (event.ctrlKey){\n",
        "                   IPython.notebook.kernel.execute(\"cc_notebook_utils.pygausssum('\" + file_n + \".log')\");\n",
        "               }\n",
        "               else if (event.shiftKey){\n",
        "                   IPython.notebook.kernel.execute(\"cc_notebook_utils.pyvogadro('\" + file_n + \".log')\");\n",
        "               }\n",
        "               else {\n",
        "                   IPython.notebook.kernel.execute(\"cc_notebook_utils.pyvim('\" + file_n + \".log')\");\n",
        "                   IPython.notebook.kernel.execute(\"print(file_n)\");\n",
        "               }\n",
        "           }\n",
        "           </script>\n",
        "    <style>\n",
        "    table\n",
        "    {\n",
        "        border-collapse:collapse;\n",
        "    }\n",
        "    td\n",
        "    {\n",
        "        padding:15px;\n",
        "    }\n",
        "    </style>\n",
        "    <body>\n",
        "    <table bgcolor=\"white\">\n",
        "    <col/><tr><td>triang_graphene</td><td><a href = \"files/triang_graph/triang_graphene.com\" target = \"_blank\">com</a></td><td><input type=\"button\" value=\"Smart Log\" id=\"triang_graphene\" onclick=\"view_function(event, this.id)\" /></td><td>Error: Convergence failure -- run terminated.</td></tr><tr><td>triang_graphene_xqc</td><td><a href = \"files/triang_graph/triang_graphene_xqc.com\" target = \"_blank\">com</a></td><td><input type=\"button\" value=\"Smart Log\" id=\"triang_graphene_xqc\" onclick=\"view_function(event, this.id)\" /></td><td>Success</td></tr>\n",
        "    </table>\n",
        "    </body>"
       ],
       "metadata": {},
       "output_type": "pyout",
       "prompt_number": 23,
       "text": [
        "<IPython.core.display.HTML at 0x4ba7c90>"
       ]
      }
     ],
     "prompt_number": 23
    },
    {
     "cell_type": "code",
     "collapsed": false,
     "input": [
      "print(tri_xqc.calc.max_data.keys())"
     ],
     "language": "python",
     "metadata": {
      "slideshow": {
       "slide_type": "subslide"
      }
     },
     "outputs": [
      {
       "output_type": "stream",
       "stream": "stdout",
       "text": [
        "['scfenergies', 'Atom_Flags', 'Rmsd', 'Title', 'Positions', 'atomnos', 'atomcoords', 'charge', 'Dipole', 'homos', 'Person', 'Charge', 'Version', 'Pg', 'nmo', 'mosyms', 'Root', 'Method', 'mult', 'Chemical_Formula', 'natom', 'moenergies', 'coreelectrons', 'atommasses', 'atomcharges', 'nbasis', 'State', 'Sequence Number', 'Atomic_Numbers', 'scfvalues', 'scftargets', 'Quadrupole', 'Multiplicity', 'Date', 'Basis_Set', 'Hf', 'Computer_System', 'Type_Of_Run']\n"
       ]
      }
     ],
     "prompt_number": 34
    },
    {
     "cell_type": "code",
     "collapsed": false,
     "input": [
      "tri_xqc.calc.max_data['Dipole']"
     ],
     "language": "python",
     "metadata": {
      "slideshow": {
       "slide_type": "fragment"
      }
     },
     "outputs": [
      {
       "metadata": {},
       "output_type": "pyout",
       "prompt_number": 31,
       "text": [
        "[0.0060013, -0.0052874, 1.8702362]"
       ]
      }
     ],
     "prompt_number": 31
    },
    {
     "cell_type": "markdown",
     "metadata": {
      "slideshow": {
       "slide_type": "subslide"
      }
     },
     "source": [
      "Optimising the geometry:"
     ]
    },
    {
     "cell_type": "code",
     "collapsed": false,
     "input": [
      "tri_opt = tri_xqc.calc.restart(opt='opt')\n",
      "#tri_opt.calc.start()\n",
      "\n",
      "check_calcs([tri_opt])\n",
      "mols_to_html([tri_opt])"
     ],
     "language": "python",
     "metadata": {
      "slideshow": {
       "slide_type": "fragment"
      }
     },
     "outputs": []
    },
    {
     "cell_type": "markdown",
     "metadata": {
      "slideshow": {
       "slide_type": "subslide"
      }
     },
     "source": [
      "A more complex example computing a path between reactants and products taking several snapshot geometries along that path, and computing vibrational states of the for each of those geometries."
     ]
    },
    {
     "cell_type": "code",
     "collapsed": false,
     "input": [
      "cd /home/clyde/Dropbox/Project Stuff/Notebooks/test_cases/proj_freq_test"
     ],
     "language": "python",
     "metadata": {
      "slideshow": {
       "slide_type": "skip"
      }
     },
     "outputs": [
      {
       "output_type": "stream",
       "stream": "stdout",
       "text": [
        "/home/clyde/Dropbox/Project Stuff/Notebooks/test_cases/proj_freq_test\n"
       ]
      }
     ],
     "prompt_number": 79
    },
    {
     "cell_type": "code",
     "collapsed": false,
     "input": [
      "%pylab inline\n",
      "from ase.io import read\n",
      "import copy\n",
      "from gausspy import Gaussian"
     ],
     "language": "python",
     "metadata": {
      "slideshow": {
       "slide_type": "skip"
      }
     },
     "outputs": []
    },
    {
     "cell_type": "markdown",
     "metadata": {
      "slideshow": {
       "slide_type": "subslide"
      }
     },
     "source": [
      "Calculate reaction path:"
     ]
    },
    {
     "cell_type": "code",
     "collapsed": false,
     "input": [
      "init_ts = read('init_ts.mol')\n",
      "init_ts[-1].charge = -1 \n",
      "init_ts.set_calculator(Gaussian(label='init_ts', method='HF', basis='6-31G(d)', symmetry='none', opt='(ts calcfc noeigen verytight)', freq='freq'))\n",
      "init_ts.calc.set_job(nodes=8, memory=8*1400, time=5, queue='pqmb', version='g09')\n",
      "#init_ts.calc.start()\n",
      "#check_calcs([init_ts])\n",
      "\n",
      "irc_calc = copy.deepcopy(init_ts)\n",
      "irc_calc.calc.restart(label='irc_2', irc='(rcfc, forward, maxpoints=30, stepsize=-4, verytight)', opt=None, freq=None)\n",
      "irc_calc.calc.set_job(nodes=16, memory=16*2000, time=5, queue='pqmb', version='g09')\n",
      "#irc_calc.calc.start()\n",
      "#check_calcs([irc_calc])"
     ],
     "language": "python",
     "metadata": {
      "slideshow": {
       "slide_type": "fragment"
      }
     },
     "outputs": [],
     "prompt_number": 74
    },
    {
     "cell_type": "markdown",
     "metadata": {
      "slideshow": {
       "slide_type": "subslide"
      }
     },
     "source": [
      "For each geometry on the computer path compute vibrations:"
     ]
    },
    {
     "cell_type": "code",
     "collapsed": false,
     "input": [
      "irc_frames = irc_calc.calc.fchk_data.irc_frames\n",
      "irc_steps = irc_calc.calc.fchk_data.irc_steps\n",
      "for (i, proj_freq_calc) in enumerate(irc_frames):\n",
      "    proj_freq_calc[-1].charge = -1 #set charge of one cl to -1 so that overall charge in -1\n",
      "    proj_freq_calc.set_calculator(Gaussian(label='irc_point_{n}'.format(n=i), method='HF', basis='6-31G(d)', symmetry='none', freq='projected'))\n",
      "    proj_freq_calc.calc.set_job(nodes=8, memory=8*1400, time=1, queue='pqmb', version='g09')\n",
      "    #irc_calc.calc.start()\n",
      "#check_calcs(irc_frames)"
     ],
     "language": "python",
     "metadata": {
      "slideshow": {
       "slide_type": "fragment"
      }
     },
     "outputs": [],
     "prompt_number": 80
    },
    {
     "cell_type": "markdown",
     "metadata": {
      "slideshow": {
       "slide_type": "fragment"
      }
     },
     "source": [
      "Plot the frequency of one of the vibrations:"
     ]
    },
    {
     "cell_type": "code",
     "collapsed": false,
     "input": [
      "c_h_stretch = lambda e :e.calc.max_data['vibfreqs'][-3]\n",
      "freqs = [c_h_stretch(f) for f in irc_frames[1:]]\n",
      "steps = irc_steps[1:]\n",
      "plot(steps, freqs, marker='o')"
     ],
     "language": "python",
     "metadata": {
      "slideshow": {
       "slide_type": "fragment"
      }
     },
     "outputs": [
      {
       "metadata": {},
       "output_type": "pyout",
       "prompt_number": 81,
       "text": [
        "[<matplotlib.lines.Line2D at 0x5a811d0>]"
       ]
      },
      {
       "metadata": {},
       "output_type": "display_data",
       "png": "[encoded data removed]",
       "text": [
        "<matplotlib.figure.Figure at 0x4df9210>"
       ]
      }
     ],
     "prompt_number": 81
    },
    {
     "cell_type": "markdown",
     "metadata": {
      "slideshow": {
       "slide_type": "subslide"
      }
     },
     "source": [
      "We can also easily mix classical and quantum mechanics:"
     ]
    },
    {
     "cell_type": "code",
     "collapsed": false,
     "input": [
      "cd /home/clyde/Dropbox/Project Stuff/Notebooks/test_cases/oniom_test"
     ],
     "language": "python",
     "metadata": {
      "slideshow": {
       "slide_type": "skip"
      }
     },
     "outputs": [
      {
       "output_type": "stream",
       "stream": "stdout",
       "text": [
        "/home/clyde/Dropbox/Project Stuff/Notebooks/test_cases/oniom_test\n"
       ]
      }
     ],
     "prompt_number": 84
    },
    {
     "cell_type": "code",
     "collapsed": false,
     "input": [
      "graph_4_4 = read('B3LYP_631Gd_HF_STO3G_4_4_graphene.log')\n",
      "graph_4_4_H = [27,28]\n",
      "graph_4_4_mults = [1,1]\n",
      "\n",
      "name = 'Oniom2233_NA_4_4_graphene'\n",
      "graph_4_4.set_calculator(Gaussian(label=name, method='oniom(b3lyp/6-31g(d):am1)',basis='oniom'))\n",
      "graph_4_4.calc.oniom_coord_params['layers'] = [graph_4_4_H]\n",
      "graph_4_4.calc.oniom_coord_params['layer_mults'] = graph_4_4_mults\n",
      "graph_4_4.calc.set_job(nodes=8, memory=1400*8, time=5, queue='pqmb')\n",
      "#graph_4_4.calc.start(frc=True)\n",
      "\n",
      "check_calcs([graph_4_4])\n",
      "mols_to_html([graph_4_4])"
     ],
     "language": "python",
     "metadata": {
      "slideshow": {
       "slide_type": "fragment"
      }
     },
     "outputs": [
      {
       "html": [
        "\n",
        "           <script type=\"text/javascript\">\n",
        "           function view_function (event, file_n) {\n",
        "               if (event.ctrlKey && event.shiftKey){\n",
        "                   IPython.notebook.kernel.execute(\"cc_notebook_utils.pygview('\" + file_n + \".log')\");\n",
        "               }\n",
        "               else if (event.ctrlKey){\n",
        "                   IPython.notebook.kernel.execute(\"cc_notebook_utils.pygausssum('\" + file_n + \".log')\");\n",
        "               }\n",
        "               else if (event.shiftKey){\n",
        "                   IPython.notebook.kernel.execute(\"cc_notebook_utils.pyvogadro('\" + file_n + \".log')\");\n",
        "               }\n",
        "               else {\n",
        "                   IPython.notebook.kernel.execute(\"cc_notebook_utils.pyvim('\" + file_n + \".log')\");\n",
        "                   IPython.notebook.kernel.execute(\"print(file_n)\");\n",
        "               }\n",
        "           }\n",
        "           </script>\n",
        "    <style>\n",
        "    table\n",
        "    {\n",
        "        border-collapse:collapse;\n",
        "    }\n",
        "    td\n",
        "    {\n",
        "        padding:15px;\n",
        "    }\n",
        "    </style>\n",
        "    <body>\n",
        "    <table bgcolor=\"white\">\n",
        "    <col/><tr><td>Oniom2233_NA_4_4_graphene</td><td><a href = \"files/test_cases/oniom_test/Oniom2233_NA_4_4_graphene.com\" target = \"_blank\">com</a></td><td><input type=\"button\" value=\"Smart Log\" id=\"Oniom2233_NA_4_4_graphene\" onclick=\"view_function(event, this.id)\" /></td><td>Success</td></tr>\n",
        "    </table>\n",
        "    </body>"
       ],
       "metadata": {},
       "output_type": "pyout",
       "prompt_number": 83,
       "text": [
        "<IPython.core.display.HTML at 0x4c48bd0>"
       ]
      }
     ],
     "prompt_number": 83
    },
    {
     "cell_type": "code",
     "collapsed": false,
     "input": [
      "graph_4_4.calc.data['HF']"
     ],
     "language": "python",
     "metadata": {
      "slideshow": {
       "slide_type": "fragment"
      }
     },
     "outputs": [
      {
       "output_type": "stream",
       "stream": "stdout",
       "text": [
        "0.0505167\n"
       ]
      }
     ],
     "prompt_number": 68
    },
    {
     "cell_type": "code",
     "collapsed": false,
     "input": [
      "graph_4_4.calc.data['Dipole']"
     ],
     "language": "python",
     "metadata": {
      "slideshow": {
       "slide_type": "fragment"
      }
     },
     "outputs": [
      {
       "output_type": "stream",
       "stream": "stdout",
       "text": [
        "[-2.6e-06, -0.0001959, -1.1e-06]\n"
       ]
      }
     ],
     "prompt_number": 71
    },
    {
     "cell_type": "markdown",
     "metadata": {
      "slideshow": {
       "slide_type": "subslide"
      }
     },
     "source": [
      "Generated input file:"
     ]
    },
    {
     "cell_type": "markdown",
     "metadata": {
      "slideshow": {
       "slide_type": "fragment"
      }
     },
     "source": [
      "    #p gfprint pop=full oniom(b3lyp/6-31g(d):am1) \n",
      "    \n",
      "    Gaussian input prepared by ASE\n",
      "    \n",
      "    0 1  0 1 \n",
      "    C         0        15.4257651251        2.3660368853        7.8384545740 L \n",
      "    C         0        15.4399858576        2.3618479500        9.1787619152 L \n",
      "    C         0        16.6956891611        2.3195867221        9.9599235311 L \n",
      "    C         0        16.6986838066        2.3155584620       11.2834932851 L \n",
      "    C         0        15.4465288261        2.3530508875       12.0705717419 L \n",
      "    C         0        15.4383733917        2.3490869530       13.4109303747 L \n",
      "    C         0        12.8969729314        2.4584041269        3.5633161667 L \n",
      "    C         0        12.9261641394        2.4536573937        4.9624561854 L \n",
      "    C         0        14.1620911607        2.4121183436        5.7100715652 L \n",
      "    C         0        14.1806478338        2.4078667480        7.0654928214 L \n",
      "    C         0        12.9294474296        2.4458269958        7.8085554985 L \n",
      "    C         0        12.9356130243        2.4417339585        9.2111858192 L H    28\n",
      "    C         0        14.1815948926        2.3998075256        9.9428726805 L \n",
      "    C         0        14.1846935862        2.3956412609       11.3124082292 L \n",
      "    C         0        12.9420359534        2.4330968556       12.0499673035 L H    29\n",
      "    C         0        12.9422174935        2.4286548673       13.4526101376 L \n",
      "    C         0        14.1967670263        2.3861921010       14.1897586638 L \n",
      "    C         0        14.1843440767        2.3821989618       15.5452508317 L \n",
      "    C         0        12.9518133728        2.4191732255       16.2986900912 L \n",
      "    C         0        12.9289539838        2.4154143161       17.6979509637 L \n",
      "    C         0        11.6920972629        2.4988249240        2.8819301728 L \n",
      "    C         0        10.4903131898        2.5352327345        3.5690008056 L \n",
      "    C         0        10.4674773280        2.5321538097        4.9682529736 L \n",
      "    C         0        11.6984305985        2.4909384580        5.6732611570 L \n",
      "    C         0        11.7016838348        2.4869565790        7.1057603699 L \n",
      "    C         0        10.4771198504        2.5241590218        7.8143477655 L \n",
      "    C         0        10.4773199824        2.5202889204        9.2169818780 L H    28\n",
      "    C         0        11.7080713901        2.4789383283        9.9213648031 H \n",
      "    C         0        11.7112937874        2.4746042290       11.3455898563 H \n",
      "    C         0        10.4837428749        2.5116503420       12.0557734002 L H    29\n",
      "    C         0        10.4898898132        2.5069849439       13.4583916069 L \n",
      "    C         0        11.7176472014        2.4654893453       14.1611910098 L \n",
      "    C         0        11.7208763135        2.4607575456       15.5936880003 L \n",
      "    C         0        10.4931264029        2.4976671684       16.3044969070 L \n",
      "    C         0        10.5222940512        2.4922392656       17.7036242897 L \n",
      "    C         0        11.7271747237        2.4516764294       18.3850153989 L \n",
      "    C         0         9.2349534923        2.5694744681        5.7217011384 L \n",
      "    C         0         9.2225542779        2.5662066802        7.0771908468 L \n",
      "    C         0         7.9809643033        2.6038425698        7.8560230956 L \n",
      "    C         0         7.9728253268        2.6003941436        9.1963827586 L \n",
      "    C         0         9.2346635968        2.5578867594        9.9545490474 L \n",
      "    C         0         9.2377622319        2.5537192158       11.3240793148 L \n",
      "    C         0         7.9793681652        2.5915939298       12.0881923351 L \n",
      "    C         0         7.9935723153        2.5868865656       13.4284975744 L \n",
      "    C         0         9.2386732895        2.5445286357       14.2014601907 L \n",
      "    C         0         9.2572061520        2.5395510399       15.5568747110 L \n",
      "    C         0         6.7206818650        2.6382567223        9.9834623041 L \n",
      "    C         0         6.7236764628        2.6342276314       11.3070318422 L \n",
      "    H         0         9.5556333477        2.5668524587        3.0239112041 L \n",
      "    H         0         9.5900912339        2.5205377582       18.2531204332 L \n",
      "    H         0         8.3036851746        2.6006854249        5.1704096663 L \n",
      "    H         0         7.0495574266        2.6351793751        7.3046105423 L \n",
      "    H         0         7.0646707660        2.6148609121       13.9842996197 L \n",
      "    H         0         8.3284424271        2.5673938342       16.1125543103 L \n",
      "    H         0         5.7913555567        2.6698783914        9.4282312494 L \n",
      "    H         0         5.7968724667        2.6624550354       11.8666445780 L \n",
      "    H         0        16.3546593631        2.3378387218        7.2826516764 L \n",
      "    H         0        17.6225082269        2.2918328214        9.4003120663 L \n",
      "    H         0        17.6280252068        2.2844106595       11.8387258665 L \n",
      "    H         0        16.3697732224        2.3175341188       13.9623424318 L \n",
      "    H         0        13.8291783835        2.4300894640        3.0138252285 L \n",
      "    H         0        15.0908455080        2.3839553947        5.1543925526 L \n",
      "    H         0        15.1156030477        2.3506692344       16.0965398275 L \n",
      "    H         0        13.8636363939        2.3837864161       18.2430358254 L \n",
      "    H         0        11.6896407178        2.5020066299        1.7991900876 L \n",
      "    H         0        11.7296183743        2.4482884028       19.4677549007 L \n"
     ]
    },
    {
     "cell_type": "markdown",
     "metadata": {
      "slideshow": {
       "slide_type": "subslide"
      }
     },
     "source": [
      "Parsed output file:"
     ]
    },
    {
     "cell_type": "code",
     "collapsed": false,
     "input": [
      "with open('Oniom2233_NA_4_4_graphene.log') as log_f:\n",
      "    print(len(log_f.readlines()))"
     ],
     "language": "python",
     "metadata": {
      "slideshow": {
       "slide_type": "fragment"
      }
     },
     "outputs": [
      {
       "output_type": "stream",
       "stream": "stdout",
       "text": [
        "21461\n"
       ]
      }
     ],
     "prompt_number": 87
    },
    {
     "cell_type": "heading",
     "level": 3,
     "metadata": {
      "slideshow": {
       "slide_type": "slide"
      }
     },
     "source": [
      "Conclusions and Future work:"
     ]
    },
    {
     "cell_type": "markdown",
     "metadata": {
      "slideshow": {
       "slide_type": "fragment"
      }
     },
     "source": [
      "Currently we can use the notebook to\n",
      "\n",
      "*  Run a large subset of Gaussian. \n",
      "*  Extract almost all computed data for analysis and visualisation.\n",
      "*  View and manipulate molecular structures and orbitals.\n",
      "\n",
      "Have an effective API for controlling Gaussian."
     ]
    },
    {
     "cell_type": "markdown",
     "metadata": {
      "slideshow": {
       "slide_type": "subslide"
      }
     },
     "source": [
      "In the future would like to\n",
      "\n",
      "* Extend automated construction of calculations to proteins using parameterised forcefields.\n",
      "* Construct a linked project tree dashboard for the notebook.\n",
      "* Write my thesis as a series of project trees."
     ]
    },
    {
     "cell_type": "code",
     "collapsed": false,
     "input": [
      "Allowing the entire research process to be included.\n",
      "\n",
      "Have analysis nodes implicitly running code inherited from data generation nodes.\n",
      "\n",
      "When publishing a project could include the full tree and the final trajectory through it. Meaning all the tricks are included if people want to see them."
     ],
     "language": "python",
     "metadata": {
      "slideshow": {
       "slide_type": "notes"
      }
     },
     "outputs": []
    },
    {
     "cell_type": "code",
     "collapsed": false,
     "input": [
      "cd ~/Project/Talks/Pydata_2014/"
     ],
     "language": "python",
     "metadata": {
      "slideshow": {
       "slide_type": "skip"
      }
     },
     "outputs": [
      {
       "output_type": "stream",
       "stream": "stdout",
       "text": [
        "/home/clyde/Dropbox/Project Stuff/Talks/Pydata_2014\n"
       ]
      }
     ],
     "prompt_number": 1
    },
    {
     "cell_type": "code",
     "collapsed": false,
     "input": [
      "from IPython.display import Javascript\n",
      "\n",
      "#fetch d3 from cloudflare\n",
      "Javascript(\"\"\"$.getScript('files/d3.v3.min.js')\"\"\")"
     ],
     "language": "python",
     "metadata": {
      "slideshow": {
       "slide_type": "skip"
      }
     },
     "outputs": [
      {
       "javascript": [
        "$.getScript('files/d3.v3.min.js')"
       ],
       "metadata": {},
       "output_type": "pyout",
       "prompt_number": 5,
       "text": [
        "<IPython.core.display.Javascript at 0x2551710>"
       ]
      }
     ],
     "prompt_number": 5
    },
    {
     "cell_type": "code",
     "collapsed": false,
     "input": [
      "%%html\n",
      "<style>\n",
      "\n",
      ".node {\n",
      "  stroke: #fff;\n",
      "  stroke-width: 1.5px;\n",
      "}\n",
      "\n",
      ".link {\n",
      "  stroke: #999;\n",
      "  stroke-opacity: .6;\n",
      "}\n",
      "</style>"
     ],
     "language": "python",
     "metadata": {
      "slideshow": {
       "slide_type": "skip"
      }
     },
     "outputs": [
      {
       "html": [
        "<style>\n",
        "\n",
        ".node {\n",
        "  stroke: #fff;\n",
        "  stroke-width: 1.5px;\n",
        "}\n",
        "\n",
        ".link {\n",
        "  stroke: #999;\n",
        "  stroke-opacity: .6;\n",
        "}\n",
        "</style>"
       ],
       "metadata": {},
       "output_type": "display_data",
       "text": [
        "<IPython.core.display.HTML at 0x25511d0>"
       ]
      }
     ],
     "prompt_number": 6
    },
    {
     "cell_type": "code",
     "collapsed": false,
     "input": [
      "%%javascript\n",
      "\n",
      "container.show();\n",
      "\n",
      "var e = element.get(0);\n",
      "\n",
      "var width = 960,\n",
      "    height = 500,\n",
      "    fill = d3.scale.category10(),\n",
      "    nodes = d3.range(100).map(Object);\n",
      "\n",
      "var color = d3.scale.category20();\n",
      "\n",
      "var force = d3.layout.force()\n",
      "    .charge(-120)\n",
      "    .linkDistance(30)\n",
      "    .size([width, height]);\n",
      "\n",
      "var svg = d3.select(e).append(\"svg\")\n",
      "    .attr(\"width\", width)\n",
      "    .attr(\"height\", height)\n",
      "\n",
      "d3.json(\"/files/project_tree.json\", function(error, graph) {\n",
      "  force\n",
      "      .nodes(graph.nodes)\n",
      "      .links(graph.links)\n",
      "      .start();\n",
      "\n",
      "  var link = svg.selectAll(\".link\")\n",
      "      .data(graph.links)\n",
      "    .enter().append(\"line\")\n",
      "      .attr(\"class\", \"link\")\n",
      "      .style(\"stroke-width\", function(d) { return Math.sqrt(d.value); });\n",
      "\n",
      "  var node = svg.selectAll(\".node\")\n",
      "      .data(graph.nodes)\n",
      "      .enter().append(\"a\")\n",
      "      .attr(\"class\", \"node\")\n",
      "      .attr(\"xlink:href\", function(d) { return d.url; })\n",
      "      .attr(\"target\", \"_blank\")\n",
      "      .call(force.drag);\n",
      "  node.append(\"circle\")\n",
      "      .attr(\"r\", 5)\n",
      "      .style(\"fill\", function(d) { return color(d.group); })\n",
      "\n",
      "  node.append(\"title\")\n",
      "      .text(function(d) { return d.name; });\n",
      "\n",
      "  force.on(\"tick\", function() {\n",
      "    link.attr(\"x1\", function(d) { return d.source.x; })\n",
      "        .attr(\"y1\", function(d) { return d.source.y; })\n",
      "        .attr(\"x2\", function(d) { return d.target.x; })\n",
      "        .attr(\"y2\", function(d) { return d.target.y; });\n",
      "\n",
      "    node.attr(\"transform\", function(d) { return \"translate(\" + d.x + \",\" + d.y + \")\"; });\n",
      "  });\n",
      "});"
     ],
     "language": "python",
     "metadata": {
      "slideshow": {
       "slide_type": "skip"
      }
     },
     "outputs": [
      {
       "javascript": [
        "\n",
        "container.show();\n",
        "\n",
        "var e = element.get(0);\n",
        "\n",
        "var width = 960,\n",
        "    height = 500,\n",
        "    fill = d3.scale.category10(),\n",
        "    nodes = d3.range(100).map(Object);\n",
        "\n",
        "var color = d3.scale.category20();\n",
        "\n",
        "var force = d3.layout.force()\n",
        "    .charge(-120)\n",
        "    .linkDistance(30)\n",
        "    .size([width, height]);\n",
        "\n",
        "var svg = d3.select(e).append(\"svg\")\n",
        "    .attr(\"width\", width)\n",
        "    .attr(\"height\", height)\n",
        "\n",
        "d3.json(\"/files/project_tree.json\", function(error, graph) {\n",
        "  force\n",
        "      .nodes(graph.nodes)\n",
        "      .links(graph.links)\n",
        "      .start();\n",
        "\n",
        "  var link = svg.selectAll(\".link\")\n",
        "      .data(graph.links)\n",
        "    .enter().append(\"line\")\n",
        "      .attr(\"class\", \"link\")\n",
        "      .style(\"stroke-width\", function(d) { return Math.sqrt(d.value); });\n",
        "\n",
        "  var node = svg.selectAll(\".node\")\n",
        "      .data(graph.nodes)\n",
        "      .enter().append(\"a\")\n",
        "      .attr(\"class\", \"node\")\n",
        "      .attr(\"xlink:href\", function(d) { return d.url; })\n",
        "      .attr(\"target\", \"_blank\")\n",
        "      .call(force.drag);\n",
        "  node.append(\"circle\")\n",
        "      .attr(\"r\", 5)\n",
        "      .style(\"fill\", function(d) { return color(d.group); })\n",
        "\n",
        "  node.append(\"title\")\n",
        "      .text(function(d) { return d.name; });\n",
        "\n",
        "  force.on(\"tick\", function() {\n",
        "    link.attr(\"x1\", function(d) { return d.source.x; })\n",
        "        .attr(\"y1\", function(d) { return d.source.y; })\n",
        "        .attr(\"x2\", function(d) { return d.target.x; })\n",
        "        .attr(\"y2\", function(d) { return d.target.y; });\n",
        "\n",
        "    node.attr(\"transform\", function(d) { return \"translate(\" + d.x + \",\" + d.y + \")\"; });\n",
        "  });\n",
        "});"
       ],
       "metadata": {},
       "output_type": "display_data",
       "text": [
        "<IPython.core.display.Javascript at 0x2551690>"
       ]
      }
     ],
     "prompt_number": 8
    },
    {
     "cell_type": "markdown",
     "metadata": {},
     "source": [
      "<svg width=\"960\" height=\"500\"><line class=\"link\" style=\"stroke-width: 1px;\" x1=\"533.600938703622\" y1=\"342.0737009176705\" x2=\"528.763385379922\" y2=\"308.4769211635702\"></line><line class=\"link\" style=\"stroke-width: 1px;\" x1=\"381.17813309774476\" y1=\"264.9602539557667\" x2=\"381.17813309774476\" y2=\"264.9602539557667\"></line><line class=\"link\" style=\"stroke-width: 1px;\" x1=\"381.17813309774476\" y1=\"264.9602539557667\" x2=\"397.70892796499913\" y2=\"295.0188277548942\"></line><line class=\"link\" style=\"stroke-width: 1px;\" x1=\"381.17813309774476\" y1=\"264.9602539557667\" x2=\"384.9440871934496\" y2=\"230.7008584407796\"></line><line class=\"link\" style=\"stroke-width: 1px;\" x1=\"528.763385379922\" y1=\"308.4769211635702\" x2=\"498.5739978177001\" y2=\"288.17667687097236\"></line><line class=\"link\" style=\"stroke-width: 1px;\" x1=\"495.52511801339557\" y1=\"213.73444074661694\" x2=\"504.2549102288042\" y2=\"250.62722469955395\"></line><line class=\"link\" style=\"stroke-width: 1px;\" x1=\"504.2549102288042\" y1=\"250.62722469955395\" x2=\"498.5739978177001\" y2=\"288.17667687097236\"></line><line class=\"link\" style=\"stroke-width: 1px;\" x1=\"530.5813501118837\" y1=\"200.29456477109554\" x2=\"495.52511801339557\" y2=\"213.73444074661694\"></line><line class=\"link\" style=\"stroke-width: 1px;\" x1=\"502.9534292147985\" y1=\"176.43564648163456\" x2=\"495.52511801339557\" y2=\"213.73444074661694\"></line><line class=\"link\" style=\"stroke-width: 1px;\" x1=\"459.05932723731473\" y1=\"220.4110601345251\" x2=\"495.52511801339557\" y2=\"213.73444074661694\"></line><line class=\"link\" style=\"stroke-width: 1px;\" x1=\"468.77863288129436\" y1=\"185.85495477929555\" x2=\"495.52511801339557\" y2=\"213.73444074661694\"></line><line class=\"link\" style=\"stroke-width: 1px;\" x1=\"541.995384774381\" y1=\"252.05508823393046\" x2=\"504.2549102288042\" y2=\"250.62722469955395\"></line><line class=\"link\" style=\"stroke-width: 1px;\" x1=\"470.89451994376054\" y1=\"312.36070874506476\" x2=\"498.5739978177001\" y2=\"288.17667687097236\"></line><a class=\"node\" xlink:href=\"Final.ipynb\" target=\"_blank\" transform=\"translate(533.600938703622,342.0737009176705)\"><circle r=\"5\" style=\"fill: #1f77b4;\"></circle><title>Final</title></a><a class=\"node\" xlink:href=\"analysis.ipynb\" target=\"_blank\" transform=\"translate(528.763385379922,308.4769211635702)\"><circle r=\"5\" style=\"fill: #aec7e8;\"></circle><title>analysis</title></a><a class=\"node\" xlink:href=\"IPython mindmap Project.ipynb\" target=\"_blank\" transform=\"translate(381.17813309774476,264.9602539557667)\"><circle r=\"5\" style=\"fill: #ff7f0e;\"></circle><title>IPython mindmap Project</title></a><a class=\"node\" xlink:href=\"notebooks/IPython mindmap Project2.ipynb\" target=\"_blank\" transform=\"translate(397.70892796499913,295.0188277548942)\"><circle r=\"5\" style=\"fill: #ff7f0e;\"></circle><title>IPython mindmap Project2</title></a><a class=\"node\" xlink:href=\"../Project/Notebooks/test_cases/networkx_imagemaps.ipynb\" target=\"_blank\" transform=\"translate(384.9440871934496,230.7008584407796)\"><circle r=\"5\" style=\"fill: #ff7f0e;\"></circle><title>networkx_imagemaps</title></a><a class=\"node\" xlink:href=\"calculations_3.ipynb\" target=\"_blank\" transform=\"translate(498.5739978177001,288.17667687097236)\"><circle r=\"5\" style=\"fill: #ff7f0e;\"></circle><title>calculations_3</title></a><a class=\"node\" xlink:href=\"calculations.ipynb\" target=\"_blank\" transform=\"translate(495.52511801339557,213.73444074661694)\"><circle r=\"5\" style=\"fill: #ff7f0e;\"></circle><title>calculations</title></a><a class=\"node\" xlink:href=\"calculations_2.ipynb\" target=\"_blank\" transform=\"translate(504.2549102288042,250.62722469955395)\"><circle r=\"5\" style=\"fill: #ff7f0e;\"></circle><title>calculations_2</title></a><a class=\"node\" xlink:href=\"dead_end_1.ipynb\" target=\"_blank\" transform=\"translate(530.5813501118837,200.29456477109554)\"><circle r=\"5\" style=\"fill: #ffbb78;\"></circle><title>dead_end_1</title></a><a class=\"node\" xlink:href=\"dead_end_2.ipynb\" target=\"_blank\" transform=\"translate(502.9534292147985,176.43564648163456)\"><circle r=\"5\" style=\"fill: #ffbb78;\"></circle><title>dead_end_2</title></a><a class=\"node\" xlink:href=\"dead_end_3.ipynb\" target=\"_blank\" transform=\"translate(459.05932723731473,220.4110601345251)\"><circle r=\"5\" style=\"fill: #ffbb78;\"></circle><title>dead_end_3</title></a><a class=\"node\" xlink:href=\"dead_end_4.ipynb\" target=\"_blank\" transform=\"translate(468.77863288129436,185.85495477929555)\"><circle r=\"5\" style=\"fill: #ffbb78;\"></circle><title>dead_end_4</title></a><a class=\"node\" xlink:href=\"dead_end_5.ipynb\" target=\"_blank\" transform=\"translate(541.995384774381,252.05508823393046)\"><circle r=\"5\" style=\"fill: #ffbb78;\"></circle><title>dead_end_5</title></a><a class=\"node\" xlink:href=\"dead_end_6.ipynb\" target=\"_blank\" transform=\"translate(470.89451994376054,312.36070874506476)\"><circle r=\"5\" style=\"fill: #ffbb78;\"></circle><title>dead_end_6</title></a></svg>"
     ]
    },
    {
     "cell_type": "markdown",
     "metadata": {
      "slideshow": {
       "slide_type": "slide"
      }
     },
     "source": [
      "Many thanks to my supervisor Mike Bearpark and the rest of Bearpark photochemistry group.\n",
      "\n",
      "The EPSRC\n",
      "\n",
      "Glen R. Jenness, Kuang Yu, Torsten Kerber, Paul Fleurat-Lessard, Martin Krupicka for their work on the Gaussian calculator.\n",
      "\n",
      "Questions?"
     ]
    }
   ],
   "metadata": {}
  }
 ]
}