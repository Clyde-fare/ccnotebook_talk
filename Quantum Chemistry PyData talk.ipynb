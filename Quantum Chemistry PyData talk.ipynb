{
 "metadata": {
  "celltoolbar": "Slideshow",
  "name": ""
 },
 "nbformat": 3,
 "nbformat_minor": 0,
 "worksheets": [
  {
   "cells": [
    {
     "cell_type": "heading",
     "level": 1,
     "metadata": {
      "slideshow": {
       "slide_type": "slide"
      }
     },
     "source": [
      "A Quantum Chemical Notebook"
     ]
    },
    {
     "cell_type": "markdown",
     "metadata": {
      "slideshow": {
       "slide_type": "subslide"
      }
     },
     "source": [
      "Talk overview:\n",
      "    \n",
      "*    Introduction - what is quantum chemistry, history, current status, future prospects, Gaussian\n",
      "\n",
      "\n",
      "*    Methods      - what tools and technologies do quantum chemists use\n",
      "\n",
      "\n",
      "*    Python       - what can Python bring to the table - ASE, cclib, pygauss\n",
      "\n",
      "\n",
      "*    IPython notebook - what does the IPython notebook bring to the table, building a quantum chemical Notebook, Pygauss example\n",
      "\n",
      "\n",
      "*    Conclusions  - change is a foot, future work"
     ]
    },
    {
     "cell_type": "markdown",
     "metadata": {
      "slideshow": {
       "slide_type": "notes"
      }
     },
     "source": [
      "History\n",
      "Current status\n",
      "Future prospects"
     ]
    },
    {
     "cell_type": "markdown",
     "metadata": {
      "slideshow": {
       "slide_type": "slide"
      }
     },
     "source": [
      "What is quantum chemistry?\n",
      "--------------------------\n",
      "\n",
      "\"Quantum chemistry is a branch of chemistry whose primary focus is the application of quantum mechanics in physical models and experiments of chemical systems. It involves heavy interplay of experimental and theoretical methods.\" Wikipedia 2014\n",
      "\n",
      "* Used for many things including computing rates: <img style=\"vertical-align:middle\" src=files/chemistry.jpg width=150></img>\n",
      "\n",
      "\n",
      "* Determining mechanisms: <img style=\"vertical-align:middle\" src=files/mechanism.png width=450></img>\n",
      "\n",
      "\n",
      "* Analysing spectra: <img style=\"vertical-align:middle\" src=files/spectra.gif width=250></img>\n",
      "\n",
      "\n",
      "And generally peer into natures beating heart."
     ]
    },
    {
     "cell_type": "markdown",
     "metadata": {
      "slideshow": {
       "slide_type": "subslide"
      }
     },
     "source": [
      "\"The fundamental laws necessary for the mathematical treatment of a large part of physics and the whole of chemistry are thus completely known, and the difficulty lies only in the fact that application of these laws leads to equations that are too complex to be solved.\" P.M. Dirac 1929\n",
      "\n",
      "When we are 'applying quantum mechanics' what equations are we trying to solve?\n",
      "\n",
      "In classical mechanics we have Hamilton's equations which defines the allowed states of macroscopic systems and their dynamics far from the speed of light: \n",
      "\n",
      "$\\frac{d\\boldsymbol{p}}{dt} = -\\frac{\\partial \\mathcal{H}}{\\partial \\boldsymbol{q}}$ and $\\frac{d\\boldsymbol{q}}{dt} = +\\frac{\\partial \\mathcal{H}}{\\partial \\boldsymbol{p}}$ \n",
      "\n",
      "$\\mathcal{H} = \\frac{p^2}{2m} + V(q).$\n",
      "\n",
      "<img src='files/planets.jpg' width=300></img>\n",
      "\n",
      "And in quantum mechanics we have the Schrodinger equation which defines the allowed states and their dynamics of microscopic systems far from the speed of light:\n",
      "\n",
      "$i\\hbar\\frac{\\partial}{\\partial t} \\Psi(\\mathbf{r},t) = \\hat{H} \\Psi(\\mathbf{r},t)$ \n",
      "\n",
      "$\\hat{H} = -\\frac{-\\hbar^2}{2m}\\nabla^2 + V(\\mathbf{r},t)$   \n",
      "\n",
      "<img src='files/debroglie_atom.jpg' height=350></img>"
     ]
    },
    {
     "cell_type": "markdown",
     "metadata": {
      "slideshow": {
       "slide_type": "fragment"
      }
     },
     "source": [
      "<img src='files/planets.jpg' width=300></img>   <img src='files/debroglie_atom.jpg' height=350></img>"
     ]
    },
    {
     "cell_type": "markdown",
     "metadata": {
      "slideshow": {
       "slide_type": "notes"
      }
     },
     "source": [
      "This electronic time independent Schrodinger equation takes an input parameters the position and charges of the relevent nuclei and the number of electrons and gives us back the stationary states the electrons can occur in. This is roughly equivalent to specifying the the location and mass of a number of suns and specifying a number of planets and getting back the possible stable orbits around the suns that the planets could take.\n",
      "\n",
      "From these electronic stationary states we can compute all the properties of the system, but usually we care most about the energy and derivatives of the energy (with respect to changes in nuclear geometry) at different nuclear positions."
     ]
    },
    {
     "cell_type": "markdown",
     "metadata": {
      "slideshow": {
       "slide_type": "slide"
      }
     },
     "source": [
      "<img src='files/Hydrogen_Plots.png' width=700 height=400></img>"
     ]
    },
    {
     "cell_type": "markdown",
     "metadata": {},
     "source": [
      "-http://commons.wikimedia.org/wiki/File:Hydrogen_Density_Plots.png"
     ]
    },
    {
     "cell_type": "markdown",
     "metadata": {
      "slideshow": {
       "slide_type": "slide"
      }
     },
     "source": [
      "\"The fundamental laws necessary for the mathematical treatment of a large part of physics and the whole of chemistry are thus completely known, and the difficulty lies only in the fact that application of these laws leads to equations that are too complex to be solved. It therefore becomes desirable that approximate practical methods of applying quantum mechanics should be developed, which can lead to an explanation of the main features of complex atomic systems without too much computation.\" P. M. Dirac 1929."
     ]
    },
    {
     "cell_type": "markdown",
     "metadata": {
      "slideshow": {
       "slide_type": "fragment"
      }
     },
     "source": [
      "From 1929 onwards great efforts expended to find these practical methods, many methods have been developed that trade off accuracy for decreased computational cost.\n",
      "\n",
      "With advances in both computer power and more intelligent methods we have gone from being able to perform calculations on diatomic molecules to being able to perform calculations of macromolecular ensembles spanning millions atoms."
     ]
    },
    {
     "cell_type": "markdown",
     "metadata": {
      "slideshow": {
       "slide_type": "fragment"
      }
     },
     "source": [
      "<img src=files/diatomic.jpg width=505 height=500></img>"
     ]
    },
    {
     "cell_type": "code",
     "collapsed": false,
     "input": [
      "http://www.scienceclarified.com/"
     ],
     "language": "python",
     "metadata": {},
     "outputs": []
    },
    {
     "cell_type": "markdown",
     "metadata": {
      "slideshow": {
       "slide_type": "subslide"
      }
     },
     "source": [
      "<iframe src=http://www.youtube.com/embed/B32p2pho-HY? width=500 height=500></iframe>"
     ]
    },
    {
     "cell_type": "markdown",
     "metadata": {
      "slideshow": {
       "slide_type": "notes"
      }
     },
     "source": [
      "A diatomic molecule is about 2 angstroms, this chromaphore is ~100 nm, that's three orders of magnitude greater. So if in the 1920s we were performing calculations on objects with a diameter about equal to a football now we can perform calculcations on objects with a diameter about equal to the O2 arean (i.e. the millenium dome). "
     ]
    },
    {
     "cell_type": "heading",
     "level": 3,
     "metadata": {
      "slideshow": {
       "slide_type": "slide"
      }
     },
     "source": [
      "Technology"
     ]
    },
    {
     "cell_type": "markdown",
     "metadata": {
      "slideshow": {
       "slide_type": "fragment"
      }
     },
     "source": [
      "We now have numerous different methods each one corresponding to a different degree of approximation:\n",
      "\n",
      "* RHF, ROHF, UHF\n",
      "* MP2, MP3, MP4...\n",
      "* CIS, CISD, CISDT, CISDQ...\n",
      "* CCSD, CCSD(t), CCSDT, CCSDTQ...\n",
      "* CASSCF, RASSCF\n",
      "* MRCIS, MRCISD, MRCISDT...\n",
      "* MRCCSD, MRCCSDT...\n",
      "* NEVPT2, NEVPT3...\n",
      "* CASPT2, CASPT3...\n",
      "* SUMR-CC\n",
      "* PBE, LDA, BP86, HSE, BLYP\n",
      "* B3LYP, revPBE, wB97X-D,CAM-B3LYP \n",
      "* and many more\n",
      "\n",
      "Some of the above are infact families of methods and further parameters need to be specified. After choosing a method we must also choose the degree of numerical accuracy we will use, which gives rise to another large number of possibilities.\n",
      "\n",
      "* STO-3G, 3-21G, 6-21G, 4-31G, 6-31G, 6-311G, \n",
      "* D95V, D95, SHC, \n",
      "* CEP-4G, CEP-31G, CEP-121G, \n",
      "* SV, SVP, TZV, TZVP, \n",
      "* cc-pVDZ, cc-pVTZ, cc-pVQZ, cc-pV5Z, cc-pV6\n",
      "* and many more\n",
      "\n",
      "All in all a lot of choice!"
     ]
    },
    {
     "cell_type": "markdown",
     "metadata": {
      "slideshow": {
       "slide_type": "notes"
      }
     },
     "source": [
      "The choice of method is akin to choosing how to simplfiy the equations and the choice of basis set is akin to choosing how accurately to solve the simplified equations."
     ]
    },
    {
     "cell_type": "markdown",
     "metadata": {
      "slideshow": {
       "slide_type": "slide"
      }
     },
     "source": [
      "A lot of man years of development has resulted in a vast amount of choice. Implemented in code bases that began life in the 1960s and expanded since then. New codes always starting but the biggest have a significant head start and dominate academic and industrial usage. The most developed and popular is Gaussian.\n",
      "\n",
      "<img src='files/gaussian.jpg'></img>"
     ]
    },
    {
     "cell_type": "markdown",
     "metadata": {
      "slideshow": {
       "slide_type": "fragment"
      }
     },
     "source": [
      "The maturity of quantum chemistry and the big quantum chemistry codes comes with some downsides. Program design and workflows follow designs from another era."
     ]
    },
    {
     "cell_type": "markdown",
     "metadata": {
      "slideshow": {
       "slide_type": "fragment"
      }
     },
     "source": [
      "Gaussian source code still written as if it's being run on punch cards, 'GOTO statements' still used:\n",
      "\n",
      "<img src='files/fortran_punch_card.jpg' width=350 height=500></img>\n",
      "\n",
      "<img src='files/goto.png' width=350 height=500></img>"
     ]
    },
    {
     "cell_type": "raw",
     "metadata": {
      "slideshow": {
       "slide_type": "slide"
      }
     },
     "source": [
      "    C*********************************************************************\n",
      "          SUBROUTINE SCF(IOP,N,R,ZETA1,ZETA2,ZA,ZB)\n",
      "    C\n",
      "    C PERFORMS THE SCF ITERATIONS\n",
      "    C\n",
      "    C*********************************************************************\n",
      "    \n",
      "          IMPLICIT DOUBLE PRECISION(A-H,O-Z)\n",
      "          COMMON/MATRIX/S(2,2),X(2,2),XT(2,2),H(2,2),F(2,2),G(2,2),C(2,2),\n",
      "         $ FPRIME(2,2),CPRIME(2,2),P(2,2),OLDP(2,2),TT(2,2,2,2),E(2,2)\n",
      "          DATA PI/3.1415926535898D0/\n",
      "    C     CONVERGENCE CRITERION FOR DENSITY MATRIX\n",
      "          DATA CRIT/1.0D-4/\n",
      "    C     MAXIMUM NUMBER OF ITERATIONS\n",
      "          DATA MAXIT/25/\n",
      "    C     ITERATION NUMBER\n",
      "          ITER=0\n",
      "    C     USE CORE-HAMILTONIAN FOR INITIAL GUESS AT F, I.E. (P=0)\n",
      "          DO 10 I=1,2\n",
      "          DO 10 J=1,2\n",
      "       10 P(I,J)=0.0D0\n",
      "          IF (IOP.LT.2) GO TO 20\n",
      "          CALL MATOUT(P,2,2,2,2,4HP   )\n",
      "    C     START OF ITERATION LOOP\n",
      "       20 ITER=ITER+1\n",
      "          IF (IOP.LT.2) GO TO 40\n",
      "          PRINT 30, ITER\n",
      "       30 FORMAT(/,4X,28HSTART OF ITERATION NUMBER = ,I2)\n",
      "       40 CONTINUE\n",
      "    C     FORM TWO-ELECTRON PART OF FOCK MATRIX FROM P\n",
      "          CALL FORMG\n",
      "          IF (IOP.LT.2) GO TO 50\n",
      "          CALL MATOUT(G,2,2,2,2,4HG   )\n",
      "       50 CONTINUE\n",
      "    C     ADD CORE HAMILTONIAN TO GET FOCK MATRIX\n",
      "          DO 60 I=1,2\n",
      "          DO 60 J=1,2\n",
      "          F(I,J) = H(I,J)+G(I,J)\n",
      "       60 CONTINUE\n",
      "    C     CALCULATE ELECTRONIC ENERGY\n",
      "          EN=0.0D0\n",
      "          DO 70 I=1,2\n",
      "          DO 70 J=1,2\n",
      "          EN=EN+0.5D0*P(I,J)*(H(I,J)+F(I,J))\n",
      "       70 CONTINUE\n",
      "          IF (IOP.LT.2) GO TO 90\n",
      "          CALL MATOUT(F,2,2,2,2,4HF   )\n",
      "          PRINT 80, EN\n",
      "       80 FORMAT(///,4X,20HELECTRONIC ENERGY = ,D20.12)\n",
      "       90 CONTINUE\n",
      "    C     TRANSFORM FOCK MATRIX USING G FOR TEMPORARY STORAGE\n",
      "          CALL MULT(F,X,G,2,2)\n",
      "          CALL MULT(XT,G,FPRIME,2,2)\n",
      "    C     DIAGONALIZE TRANSFORMED FOCK MATRIX\n",
      "          CALL DIAG(FPRIME,CPRIME,E)\n",
      "    C     TRANSFORM EIGENVECTORS TO GET MATRIX C\n",
      "          CALL MULT(X,CPRIME,C,2,2)\n",
      "    C     FORM NEW DENSITY MATRIX\n",
      "          DO 100 I=1,2\n",
      "          DO 100 J=1,2\n",
      "    C     SAVE PRESENT DENSITY MATRIX\n",
      "    C     BEFORE CREATING NEW ONE\n",
      "          OLDP(I,J)=P(I,J)\n",
      "          P(I,J)=0.0D0\n",
      "          DO 100 K=1,1\n",
      "          P(I,J)=P(I,J)+2.0D0*C(I,K)*C(J,K)\n",
      "      100 CONTINUE\n",
      "          IF (IOP.LT.2) GO TO 110\n",
      "          CALL MATOUT(FPRIME,2,2,2,2,\"F'  \")\n",
      "          CALL MATOUT(CPRIME,2,2,2,2,\"C'  \")\n",
      "          CALL MATOUT(E,2,2,2,2,'E   ')\n",
      "          CALL MATOUT(C,2,2,2,2,'C   ')\n",
      "          CALL MATOUT(P,2,2,2,2,'P   ')\n",
      "      110 CONTINUE\n",
      "    C     CALCULATE DELTA\n",
      "          DELTA=0.0D0\n",
      "          DO 120 I=1,2\n",
      "          DO 120 J=1,2\n",
      "          DELTA=DELTA+(P(I,J)-OLDP(I,J))**2\n",
      "      120 CONTINUE\n",
      "          DELTA=DSQRT(DELTA/4.0D0)\n",
      "          IF (IOP.EQ.0) GO TO 140\n",
      "          PRINT 130, DELTA\n",
      "      130 FORMAT(/,4X,39HDELTA(CONVERGENCE OF DENSITY MATRIX) =\n",
      "         $F10.6,/)\n",
      "      140 CONTINUE\n",
      "    C     CHECK FOR CONVERGENCE\n",
      "          IF (DELTA.LT.CRIT) GO TO 160\n",
      "    C     NOT YET CONVERGED\n",
      "    C     TEST FOR MAXIMUM NUMBER OF ITERATIONS\n",
      "    C     IF MAXIMUM NUMBER NOT YET REACHED\n",
      "    C     GO BACK FOR ANOTHER ITERATION\n",
      "          IF(ITER.LT.MAXIT) GO TO 20\n",
      "    C     SOMETHING WRONG HERE\n",
      "          PRINT 150\n",
      "      150 FORMAT(4X,21HNO CONVERGENCE IN SCF)\n",
      "          STOP\n",
      "      160 CONTINUE\n",
      "    C     CALCULATION CONVERGED IF IT GOT HERE\n",
      "    C     ADD NUCLEAR REPULSION TO GET TOTAL ENERGY\n",
      "          ENT=EN+ZA*ZB/R\n",
      "          IF (IOP.EQ.0) GO TO 180\n",
      "          PRINT 170, EN, ENT\n",
      "      170 FORMAT(//,4X,21HCALCULATION CONVERGED,//,\n",
      "         $4X,20HELECTRONIC ENERGY = ,D20.12,//,\n",
      "         $4X,20HTOTAL ENERGY =      ,D20.12   )\n",
      "      180 CONTINUE\n",
      "          IF (IOP.NE.1) GO TO 190\n",
      "    C     PRINT OUT THE FINAL RESULTS IF\n",
      "    C     HAVE NOT DONE SO ALREADY\n",
      "          CALL MATOUT(G,2,2,2,2,4HG   )\n",
      "          CALL MATOUT(F,2,2,2,2,4HF   )\n",
      "          CALL MATOUT(E,2,2,2,2,4HE   )\n",
      "          CALL MATOUT(C,2,2,2,2,4HC   )\n",
      "          CALL MATOUT(P,2,2,2,2,4HP   )\n",
      "      190 CONTINUE\n",
      "    C     PS MATRIX HAS MULLIKEN POPULATIONS\n",
      "          CALL MULT(P,S,OLDP,2,2)\n",
      "          IF(IOP.EQ.0) GO TO 200\n",
      "          CALL MATOUT(OLDP,2,2,2,2,4HPS   )\n",
      "      200 CONTINUE\n",
      "          RETURN\n",
      "          END\n"
     ]
    },
    {
     "cell_type": "markdown",
     "metadata": {
      "slideshow": {
       "slide_type": "slide"
      }
     },
     "source": [
      "Calculations are controlled by specifying text based input files, which can be fairly simple:"
     ]
    },
    {
     "cell_type": "raw",
     "metadata": {
      "slideshow": {
       "slide_type": "fragment"
      }
     },
     "source": [
      "%mem=8000MB\n",
      "%chk=/scratch/Kr_mp2_dimer_9.chk\n",
      "%nproc=8\n",
      "#p gfprint MP2/6-31G*\n",
      "\n",
      "Gaussian input prepared by ASE\n",
      "\n",
      "0 1\n",
      "Kr                0.0000000000        0.0000000000        0.0000000000\n",
      "Kr                0.0000000000        0.0000000000        2.7500000000"
     ]
    },
    {
     "cell_type": "markdown",
     "metadata": {
      "slideshow": {
       "slide_type": "subslide"
      }
     },
     "source": [
      "Or horrendous:"
     ]
    },
    {
     "cell_type": "raw",
     "metadata": {
      "slideshow": {
       "slide_type": "fragment"
      }
     },
     "source": [
      "%mem=120GB\n",
      "%chk=/scratch/1W7SAw_S0_FREQ_oniom_b3lyp_631gd1_amber_pt1\n",
      "%nprocshared=16\n",
      "#p freq=(intmodes,hpmodes) oniom(b3lyp/6-31+g(d):amber=hardfirst) nosymm geom=connectivity\n",
      "IOp(1/52=5, 1/53=1, 1/66=12, 4/119=10, 2/15=3)\n",
      "\n",
      "Mechanically embedded ONIOM GFP frequency small partition\n",
      "\n",
      "-6 1\n",
      "N-N3-0.184900(PDBName=N,ResName=SER,ResNum=1_0) -22.55849   4.98178   0.09116  M \n",
      "H-H-0.189800(PDBName=H1,ResName=SER,ResNum=1_0) -21.88048   5.60949  -0.33459  M \n",
      "H-H-0.189800(PDBName=H2,ResName=SER,ResNum=1_0) -23.36976   5.55472   0.28662  M \n",
      "H-H-0.189800(PDBName=H3,ResName=SER,ResNum=1_0) -22.80656   4.25772  -0.57072  M \n",
      "C-CT-0.056700(PDBName=CA,ResName=SER,ResNum=1_0) -22.03207   4.42959   1.35821  M \n",
      "...\n",
      "and on for 1000+ more lines\n",
      "...\n",
      "\n",
      "1 2 1.0 3 1.0 4 1.0 5 1.0\n",
      " 2\n",
      " 3\n",
      " 4\n",
      " 5 6 1.0 7 1.0 12 1.0\n",
      " 6\n",
      " 7 8 1.0 9 1.0 10 1.0\n",
      " 8\n",
      " 9\n",
      "...\n",
      "and on for 1000+ more lines\n",
      "...\n",
      " HrmStr1 CM HC 344.30   1.087\n",
      " HrmStr1 CC N* 411.10   1.391\n",
      " HrmStr1 CC O  546.20   1.261\n",
      " HrmStr1 CC CM 418.30   1.429\n",
      " HrmStr1 CC CC 418.30   1.429\n",
      " HrmBnd1 CM C  OH 72.543     113.670\n",
      " HrmBnd1 CA C  CM 67.200     116.780\n",
      " HrmBnd1 HC CM CA 50.300     119.700\n",
      "...\n",
      "and on for 100+ more lines"
     ]
    },
    {
     "cell_type": "markdown",
     "metadata": {
      "slideshow": {
       "slide_type": "slide"
      }
     },
     "source": [
      "Some GUI based tools available which have significantly reduced the technical barrier to entering the field and without which certain calculations would be impractical:"
     ]
    },
    {
     "cell_type": "markdown",
     "metadata": {
      "slideshow": {
       "slide_type": "fragment"
      }
     },
     "source": [
      "<img src='files/Gaussview.png'></img>"
     ]
    },
    {
     "cell_type": "markdown",
     "metadata": {
      "slideshow": {
       "slide_type": "fragment"
      }
     },
     "source": [
      "But incomplete, closed source, not extendable, and not scriptable."
     ]
    },
    {
     "cell_type": "markdown",
     "metadata": {
      "slideshow": {
       "slide_type": "slide"
      }
     },
     "source": [
      "Reasonable documentation for keywords:"
     ]
    },
    {
     "cell_type": "markdown",
     "metadata": {
      "slideshow": {
       "slide_type": "fragment"
      }
     },
     "source": [
      "<iframe src=http://www.gaussian.com/g_tech/g_ur/l_keywords09.htm width=750 height=350 seamless></iframe>"
     ]
    },
    {
     "cell_type": "markdown",
     "metadata": {
      "slideshow": {
       "slide_type": "slide"
      }
     },
     "source": [
      "But full control of the program involves use of special machine codes known as IOPS which requires what amounts to an apprentership with one of the old masters who have the requisit knowledge."
     ]
    },
    {
     "cell_type": "markdown",
     "metadata": {
      "slideshow": {
       "slide_type": "fragment"
      }
     },
     "source": [
      "Where you attempt to please  the master by performing suitable tasks in the hope you will be rewarded by the secret knowledge."
     ]
    },
    {
     "cell_type": "markdown",
     "metadata": {
      "slideshow": {
       "slide_type": "fragment"
      }
     },
     "source": [
      "<img src='files/apprentices.jpg' width=500 height=500></img>"
     ]
    },
    {
     "cell_type": "markdown",
     "metadata": {
      "slideshow": {
       "slide_type": "slide"
      }
     },
     "source": [
      "Even with suitable training in extreme yet still popular cases e.g. calculations involving many atoms that involve combining parameterised forcefields with a quantum core, requires a complicated workflow encompassing several different programs both both gui and console based, and additional hand editing files.\n",
      "\n",
      "Prepartion a single calculation can take days or even weeks.\n",
      "\n",
      "<img src='files/oniom_flow_chart_.jpg'></img>"
     ]
    },
    {
     "cell_type": "heading",
     "level": 3,
     "metadata": {
      "slideshow": {
       "slide_type": "slide"
      }
     },
     "source": [
      "Culture"
     ]
    },
    {
     "cell_type": "code",
     "collapsed": false,
     "input": [
      "Broad description of calculations if you are lucky some text files of the geometries\n",
      "Repeating calculations can be easy or it can be a nightmare due to hidden gotchas."
     ],
     "language": "python",
     "metadata": {
      "slideshow": {
       "slide_type": "fragment"
      }
     },
     "outputs": []
    },
    {
     "cell_type": "heading",
     "level": 3,
     "metadata": {
      "slideshow": {
       "slide_type": "slide"
      }
     },
     "source": [
      "Problems"
     ]
    },
    {
     "cell_type": "markdown",
     "metadata": {
      "slideshow": {
       "slide_type": "fragment"
      }
     },
     "source": [
      "Legacy quantum chemistry codes dominate quantum cehmical research due to large amount research and development poured into them and hence the wide range of methods they have available. \n",
      "\n",
      "However individual research workflows using them are less efficient than they might be.\n",
      "\n",
      "Despite progress there is still an unnecessary technical barrier to performing calculations.\n",
      "\n",
      "Exchange of information in the scientific literature is limited by both the culture and the toolset commonly used.\n",
      "\n",
      "Involvement of quantum chemistry in interdisciplionary fields is slowed by the lack of a quantum chemical api."
     ]
    },
    {
     "cell_type": "heading",
     "level": 2,
     "metadata": {
      "slideshow": {
       "slide_type": "slide"
      }
     },
     "source": [
      "So how can Python Help?"
     ]
    },
    {
     "cell_type": "markdown",
     "metadata": {
      "slideshow": {
       "slide_type": "subslide"
      }
     },
     "source": [
      "Replace medieval practices of writing elaborate text files and aneurism inducing output files by wrapping both input file creation and output file parsing in Python.\n",
      "\n",
      "These apis can make individual researchers much more efficient, and allow computational chemistry to be more effectively used in an interdiscplinary context further in combination with the IPython notebook and the recent focus on making research data more available could result in a curated data store greatly enhancing the communication between researcher and correspondingly lowering the barrier to enter the field."
     ]
    },
    {
     "cell_type": "markdown",
     "metadata": {
      "slideshow": {
       "slide_type": "notes"
      }
     },
     "source": [
      "If you're going to have a black box make it a pretty black box."
     ]
    },
    {
     "cell_type": "code",
     "collapsed": false,
     "input": [
      "Improve efficienty within Quantum chemistry:\n",
      "    Use computers more effectively\n",
      "    Share research more effectively"
     ],
     "language": "python",
     "metadata": {
      "slideshow": {
       "slide_type": "subslide"
      }
     },
     "outputs": []
    },
    {
     "cell_type": "code",
     "collapsed": false,
     "input": [
      "Expanding Quantum chemistry\n",
      "    Building a quantum chemical API"
     ],
     "language": "python",
     "metadata": {
      "slideshow": {
       "slide_type": "subslide"
      }
     },
     "outputs": []
    },
    {
     "cell_type": "heading",
     "level": 2,
     "metadata": {
      "slideshow": {
       "slide_type": "slide"
      }
     },
     "source": [
      "Solutions"
     ]
    },
    {
     "cell_type": "markdown",
     "metadata": {
      "slideshow": {
       "slide_type": "slide"
      }
     },
     "source": [
      "ASE/gausspy\n",
      "\n",
      "\"ASE is an Atomistic Simulation Environment written in the Python programming language with the aim of setting up, steering, and analyzing atomistic simulations.\"\n",
      "\n",
      "https://wiki.fysik.dtu.dk/ase/"
     ]
    },
    {
     "cell_type": "markdown",
     "metadata": {},
     "source": [
      "<iframe src=https://wiki.fysik.dtu.dk/ase/tutorials/surface.html width=900 height=550></iframe>"
     ]
    },
    {
     "cell_type": "heading",
     "level": 3,
     "metadata": {
      "slideshow": {
       "slide_type": "slide"
      }
     },
     "source": [
      "Gausspy is an extension of of ASE aiming to completely wrap Gaussian in python. No more input files!"
     ]
    },
    {
     "cell_type": "code",
     "collapsed": false,
     "input": [
      "ASE offers partial wrapping of the input of ab initio quantum chemical packages. Philosophy allows multiple distinct packages to be used to compute energies, and gradients, and to be used as back ends for ASE's optimisation routines.\n",
      "\n",
      "Workflow is production of a script making use of ASE's machinary."
     ],
     "language": "python",
     "metadata": {
      "slideshow": {
       "slide_type": "fragment"
      }
     },
     "outputs": []
    },
    {
     "cell_type": "code",
     "collapsed": false,
     "input": [],
     "language": "python",
     "metadata": {},
     "outputs": []
    },
    {
     "cell_type": "code",
     "collapsed": false,
     "input": [
      "CClib\n",
      "\n",
      "A parsing library for quantum chemical output files by Noel O'Boyle, Adam Tenderholt, Karol Langner and others.\n",
      "\n",
      "The current version cclib 1.1 parses output files from ADF, GAMESS, GAMESS-UK, Gaussian, Jaguar, Molpro, ORCA and Firefly.\n",
      "\n",
      "Before: Hideous output file\n",
      "After: Beautiful Machine readable data\n",
      "\n",
      "N. M. O'Boyle, A. L. Tenderholt, K. M. Langner, cclib: a library for package-independent computational chemistry algorithms, J. Comp. Chem. 29 (5), pp. 839-845, 2008 (DOI)."
     ],
     "language": "python",
     "metadata": {
      "slideshow": {
       "slide_type": "slide"
      }
     },
     "outputs": []
    },
    {
     "cell_type": "code",
     "collapsed": false,
     "input": [
      "Molmod\n",
      "\n",
      "Molecular modelling toolkit offering topological analysis of molecules"
     ],
     "language": "python",
     "metadata": {},
     "outputs": []
    },
    {
     "cell_type": "code",
     "collapsed": false,
     "input": [
      "PYbel\n",
      "\n",
      "Openbabel's python bindings offering conversion between different chemical formats and some molecular preprocessing."
     ],
     "language": "python",
     "metadata": {},
     "outputs": []
    },
    {
     "cell_type": "code",
     "collapsed": false,
     "input": [
      "pbs_util + a little bit of hacking\n",
      "\n",
      "PBS based execution of jobs"
     ],
     "language": "python",
     "metadata": {},
     "outputs": []
    },
    {
     "cell_type": "code",
     "collapsed": false,
     "input": [
      "JMol\n",
      "\n",
      "Java app/javascript based molecular visualisation."
     ],
     "language": "python",
     "metadata": {},
     "outputs": []
    },
    {
     "cell_type": "code",
     "collapsed": false,
     "input": [
      "IPython Notebook\n",
      "\n",
      "Python + HTML + Javascript"
     ],
     "language": "python",
     "metadata": {},
     "outputs": []
    },
    {
     "cell_type": "code",
     "collapsed": false,
     "input": [
      "Several other relevant python packages covering molecular dynamics, chemoinformatics. Lots of possibilities."
     ],
     "language": "python",
     "metadata": {},
     "outputs": []
    },
    {
     "cell_type": "heading",
     "level": 3,
     "metadata": {
      "slideshow": {
       "slide_type": "slide"
      }
     },
     "source": [
      "IPython Notebook!"
     ]
    },
    {
     "cell_type": "code",
     "collapsed": false,
     "input": [
      "Aim to put the ingredients together to create a quantum chemical api (initially with Gaussian) and allowing electronic calculations to be run and analysed from within a notebook environment."
     ],
     "language": "python",
     "metadata": {
      "slideshow": {
       "slide_type": "subslide"
      }
     },
     "outputs": []
    },
    {
     "cell_type": "code",
     "collapsed": false,
     "input": [
      "Once we can generate the data and we can access the data we can leverage the entire python scientific stack for analysis and visualisation."
     ],
     "language": "python",
     "metadata": {
      "slideshow": {
       "slide_type": "subslide"
      }
     },
     "outputs": []
    },
    {
     "cell_type": "heading",
     "level": 3,
     "metadata": {},
     "source": [
      "Quantum chemistry notebooks in action"
     ]
    },
    {
     "cell_type": "code",
     "collapsed": false,
     "input": [
      "tri_graph_init, tri_graph_small_init = 'triang_graphene.xyz', 'triang_graphene_small.xyz'\n",
      "view_ipython_jmol([tri_graph_small_init,tri_graph_init], width=550, height=550)"
     ],
     "language": "python",
     "metadata": {},
     "outputs": []
    },
    {
     "cell_type": "code",
     "collapsed": false,
     "input": [
      "b3lyp_tri = read(tri_graph_init)\n",
      "b3lyp_tri.set_calculator(Gaussian(label='triang_graphene', method='B3LYP', basis='6-31G(d)'))\n",
      "b3lyp_tri.calc.set_job(nodes=16, memory=16*2000, time=5, queue='pqmb')\n",
      "#b3lyp_tri.calc.start()"
     ],
     "language": "python",
     "metadata": {},
     "outputs": []
    },
    {
     "cell_type": "code",
     "collapsed": false,
     "input": [
      "b3lyp_tri_xqc = read(tri_graph_init)\n",
      "b3lyp_tri_xqc.set_calculator(Gaussian(label='triang_graphene_xqc', method='B3LYP', basis='6-31G(d)', scf='xqc'))\n",
      "b3lyp_tri_xqc.calc.set_job(nodes=16, memory=16*2000, time=5, queue='pqmb')\n",
      "b3lyp_tri_xqc.calc.description = 'RB3LYP'\n",
      "#b3lyp_tri_xqc.get_potential_energy()"
     ],
     "language": "python",
     "metadata": {},
     "outputs": []
    },
    {
     "cell_type": "code",
     "collapsed": false,
     "input": [
      "check_calcs([b3lyp_tri, b3lyp_tri_xqc])\n",
      "mols_to_html([b3lyp_tri, b3lyp_tri_xqc])"
     ],
     "language": "python",
     "metadata": {},
     "outputs": []
    },
    {
     "cell_type": "markdown",
     "metadata": {},
     "source": [
      "As before the xqc option allows the scf to converge whereas it fails without it. But is it stable?"
     ]
    },
    {
     "cell_type": "code",
     "collapsed": false,
     "input": [
      "b3lyp_tri_stable = copy.deepcopy(b3lyp_tri_xqc)\n",
      "b3lyp_tri_stable.calc.restart(add_label='stable', stable='opt')\n",
      "b3lyp_tri_stable.calc.description = 'RB3LYP, stable=opt'\n",
      "#b3lyp_tri_xqc.calc.start()"
     ],
     "language": "python",
     "metadata": {},
     "outputs": []
    },
    {
     "cell_type": "code",
     "collapsed": false,
     "input": [
      "check_calcs([b3lyp_tri_stable])\n",
      "mols_to_html([b3lyp_tri_stable])"
     ],
     "language": "python",
     "metadata": {},
     "outputs": []
    },
    {
     "cell_type": "code",
     "collapsed": false,
     "input": [
      "<font size=3 color=red>RHF -> UHF instability</font>"
     ],
     "language": "python",
     "metadata": {},
     "outputs": []
    },
    {
     "cell_type": "code",
     "collapsed": false,
     "input": [
      "b3lyp_tri_stable.calc.max_data['S2A'], b3lyp_tri_stable.calc.energy_zero - b3lyp_tri_xqc.calc.energy_zero"
     ],
     "language": "python",
     "metadata": {},
     "outputs": []
    },
    {
     "cell_type": "markdown",
     "metadata": {},
     "source": [
      "But 22 carbons therefore 22 p electrons = 4n+2 so we would have expected paired electrons? No [Huckel's rule](http://en.wikipedia.org/wiki/H%C3%BCckel's_rule) only applies to single ring systems in fact the symmetric geometry is at a conical intersection see: [Mike's paper on this system](http://www.sciencedirect.com/science/article/pii/S1010603007002390)"
     ]
    },
    {
     "cell_type": "code",
     "collapsed": false,
     "input": [],
     "language": "python",
     "metadata": {},
     "outputs": []
    },
    {
     "cell_type": "code",
     "collapsed": false,
     "input": [
      "Future ideas:"
     ],
     "language": "python",
     "metadata": {
      "slideshow": {
       "slide_type": "slide"
      }
     },
     "outputs": []
    },
    {
     "cell_type": "code",
     "collapsed": false,
     "input": [
      "Do new formats of allow us to include implict knowledge only achievable by interning at different groups explicitly without further diluting scientific knowledge?\n",
      "   Notebook -> Mindmap?"
     ],
     "language": "python",
     "metadata": {
      "slideshow": {
       "slide_type": "slide"
      }
     },
     "outputs": []
    },
    {
     "cell_type": "markdown",
     "metadata": {
      "slideshow": {
       "slide_type": "slide"
      }
     },
     "source": [
      "Thanks to supervisor Mike Bearpark and the rest of Bearpark photochemistry group.\n",
      "The EPSRC\n",
      "and to all of you."
     ]
    }
   ],
   "metadata": {}
  }
 ]
}