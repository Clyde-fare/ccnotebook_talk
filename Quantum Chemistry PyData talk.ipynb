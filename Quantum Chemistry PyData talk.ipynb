{
 "metadata": {
  "celltoolbar": "Slideshow",
  "name": ""
 },
 "nbformat": 3,
 "nbformat_minor": 0,
 "worksheets": [
  {
   "cells": [
    {
     "cell_type": "heading",
     "level": 1,
     "metadata": {
      "slideshow": {
       "slide_type": "slide"
      }
     },
     "source": [
      "A Quantum Chemical Notebook"
     ]
    },
    {
     "cell_type": "markdown",
     "metadata": {
      "slideshow": {
       "slide_type": "subslide"
      }
     },
     "source": [
      "Talk overview:\n",
      "    \n",
      "*    Introduction - what is quantum chemistry\n",
      "\n",
      "\n",
      "*    Technology     - what tools and technologies do quantum chemists use\n",
      "\n",
      "\n",
      "*    Problems       - what's the problem?\n",
      "\n",
      "\n",
      "*    Python         - what does Python bring to the table?\n",
      "\n",
      "\n",
      "*    IPython notebook - Building a quantum chemical Notebook\n",
      "\n",
      "\n",
      "*    Conclusions/futurework  - Change is a foot"
     ]
    },
    {
     "cell_type": "markdown",
     "metadata": {
      "slideshow": {
       "slide_type": "notes"
      }
     },
     "source": [
      "History\n",
      "Current status\n",
      "Future prospects"
     ]
    },
    {
     "cell_type": "markdown",
     "metadata": {
      "slideshow": {
       "slide_type": "slide"
      }
     },
     "source": [
      "What is quantum chemistry?\n",
      "====================\n",
      "\n",
      "\"Quantum chemistry is a branch of chemistry whose primary focus is the application of quantum mechanics in physical models and experiments of chemical systems. It involves heavy interplay of experimental and theoretical methods.\" Wikipedia 2014\n",
      "\n",
      "<img src=files/chemistry.jpg width=200></img> <img src=files/mechanism.png width=450></img> <img src=files/spectra.gif width=250></img>"
     ]
    },
    {
     "cell_type": "markdown",
     "metadata": {
      "slideshow": {
       "slide_type": "notes"
      }
     },
     "source": [
      "Used for many things including computing rates, analysing spectra, determining mechanisms, and generally peering into natures beating heart."
     ]
    },
    {
     "cell_type": "markdown",
     "metadata": {
      "slideshow": {
       "slide_type": "subslide"
      }
     },
     "source": [
      "\"The fundamental laws necessary for the mathematical treatment of a large part of physics and the whole of chemistry are thus completely known, and the difficulty lies only in the fact that application of these laws leads to equations that are too complex to be solved.\" P.M. Dirac 1929\n",
      "\n",
      "When we are 'applying quantum mechanics' what equations are we trying to solve?"
     ]
    },
    {
     "cell_type": "markdown",
     "metadata": {
      "slideshow": {
       "slide_type": "subslide"
      }
     },
     "source": [
      "In classical mechanics we have Hamilton's equations which defines the allowed states of macroscopic systems and their dynamics far from the speed of light: \n",
      "\n",
      "$\\frac{d\\boldsymbol{p}}{dt} = -\\frac{\\partial \\mathcal{H}}{\\partial \\boldsymbol{q}}$ and $\\frac{d\\boldsymbol{q}}{dt} = +\\frac{\\partial \\mathcal{H}}{\\partial \\boldsymbol{p}}$ \n",
      "\n",
      "$\\mathcal{H} = \\frac{p^2}{2m} + V(q).$\n",
      "\n",
      "<img src='files/planets.jpg' width=300></img>\n",
      "\n",
      "And in quantum mechanics we have the Schrodinger equation which defines the allowed states and their dynamics of microscopic systems far from the speed of light:\n",
      "\n",
      "$i\\hbar\\frac{\\partial}{\\partial t} \\Psi(\\mathbf{r},t) = \\hat{H} \\Psi(\\mathbf{r},t)$ \n",
      "\n",
      "$\\hat{H} = -\\frac{-\\hbar^2}{2m}\\nabla^2 + V(\\mathbf{r},t)$   \n",
      "\n",
      "<img src='files/debroglie_atom.jpg' height=350></img>"
     ]
    },
    {
     "cell_type": "markdown",
     "metadata": {
      "slideshow": {
       "slide_type": "notes"
      }
     },
     "source": [
      "This electronic time independent Schrodinger equation takes an input parameters the position and charges of the relevent nuclei and the number of electrons and gives us back the stationary states the electrons can occur in. This is roughly equivalent to specifying the the location and mass of a number of suns and specifying a number of planets and getting back the possible stable orbits around the suns that the planets could take.\n",
      "\n",
      "From these electronic stationary states we can compute all the properties of the system, but usually we care most about the energy and derivatives of the energy (with respect to changes in nuclear geometry) at different nuclear positions."
     ]
    },
    {
     "cell_type": "markdown",
     "metadata": {
      "slideshow": {
       "slide_type": "subslide"
      }
     },
     "source": [
      "<img src='files/Hydrogen_Plots.png' width=700 height=400></img>"
     ]
    },
    {
     "cell_type": "markdown",
     "metadata": {
      "slideshow": {
       "slide_type": "subslide"
      }
     },
     "source": [
      "\"The fundamental laws necessary for the mathematical treatment of a large part of physics and the whole of chemistry are thus completely known, and the difficulty lies only in the fact that application of these laws leads to equations that are too complex to be solved. It therefore becomes desirable that approximate practical methods of applying quantum mechanics should be developed, which can lead to an explanation of the main features of complex atomic systems without too much computation.\" P. M. Dirac 1929."
     ]
    },
    {
     "cell_type": "markdown",
     "metadata": {
      "slideshow": {
       "slide_type": "subslide"
      }
     },
     "source": [
      "<img src=files/diatomic.jpg width=500 height=500></img>\n",
      "\n",
      "\n",
      "<iframe src=http://www.youtube.com/embed/B32p2pho-HY? width=500 height=500></iframe>"
     ]
    },
    {
     "cell_type": "markdown",
     "metadata": {
      "slideshow": {
       "slide_type": "notes"
      }
     },
     "source": [
      "From 1929 onwards great efforts expended to find these practical methods, many methods have been developed that trade off accuracy for decreased computational cost.\n",
      "\n",
      "With advances in both computer power and more intelligent methods we have gone from being able to perform calculations on diatomic molecules to being able to perform calculations of macromolecular ensembles spanning millions atoms.\n",
      "\n",
      "A diatomic molecule is about 2 angstroms, this chromaphore is ~100 nm, that's three orders of magnitude greater. So if in the 1920s we were performing calculations on objects with a diameter about equal to a football now we can perform calculcations on objects with a diameter about equal to the O2 arean (i.e. the millenium dome). "
     ]
    },
    {
     "cell_type": "heading",
     "level": 2,
     "metadata": {
      "slideshow": {
       "slide_type": "slide"
      }
     },
     "source": [
      "Technology"
     ]
    },
    {
     "cell_type": "markdown",
     "metadata": {
      "slideshow": {
       "slide_type": "fragment"
      }
     },
     "source": [
      "We now have numerous different methods each one corresponding to a different degree of approximation:\n",
      "\n",
      "* RHF, ROHF, UHF\n",
      "* MP2, MP3, MP4...\n",
      "* CIS, CISD, CISDT, CISDQ...\n",
      "* CCSD, CCSD(t), CCSDT, CCSDTQ...\n",
      "* CASSCF, RASSCF\n",
      "* MRCIS, MRCISD, MRCISDT...\n",
      "* MRCCSD, MRCCSDT...\n",
      "* NEVPT2, NEVPT3...\n",
      "* CASPT2, CASPT3...\n",
      "* SUMR-CC\n",
      "* PBE, LDA, BP86, HSE, BLYP\n",
      "* B3LYP, revPBE, wB97X-D,CAM-B3LYP \n",
      "* and many more\n",
      "\n",
      "Some of the above are infact families of methods and further parameters need to be specified. After choosing a method we must also choose the degree of numerical accuracy we will use, which gives rise to another large number of possibilities.\n",
      "\n",
      "* STO-3G, 3-21G, 6-21G, 4-31G, 6-31G, 6-311G, \n",
      "* D95V, D95, SHC, \n",
      "* CEP-4G, CEP-31G, CEP-121G, \n",
      "* SV, SVP, TZV, TZVP, \n",
      "* cc-pVDZ, cc-pVTZ, cc-pVQZ, cc-pV5Z, cc-pV6\n",
      "* and many more\n",
      "\n",
      "All in all a lot of choice!"
     ]
    },
    {
     "cell_type": "markdown",
     "metadata": {
      "slideshow": {
       "slide_type": "notes"
      }
     },
     "source": [
      "The choice of method is akin to choosing how to simplfiy the equations and the choice of basis set is akin to choosing how accurately to solve the new simplified equations."
     ]
    },
    {
     "cell_type": "markdown",
     "metadata": {
      "slideshow": {
       "slide_type": "subslide"
      }
     },
     "source": [
      "Many man years of development has resulted in a vast amount of choice. Implemented in numerous code bases some of which began life in the 1960s and have expanded since then.\n",
      "\n",
      "New codes are always starting but the biggest have a significant head start and dominate academic and industrial usage. The most developed and popular is Gaussian.\n",
      "\n",
      "\n",
      "<p></p>\n",
      "<div>\n",
      "<a class=\"reference external\" href=\"ase/calculators/abinit.html\"><img alt=\"abinit\" class=\"align-middle\" src=\"files/abinit.png\"></a> \n",
      "<a class=\"reference external\" href=\"http://wiki.fysik.dtu.dk/asap\"><img alt=\"Asap\" class=\"align-middle\" src=\"files/asap.png\"></a> \n",
      "<a class=\"reference external\" href=\"ase/calculators/castep.html\"><img alt=\"CASTEP\" class=\"align-middle\" src=\"files/castep.png\"></a> \n",
      "<a class=\"reference external\" href=\"ase/calculators/dftb.html\"><img alt=\"dftb\" class=\"align-middle\" src=\"files/dftb.png\"></a> \n",
      "<a class=\"reference external\" href=\"http://elk.sourceforge.net/\"><img alt=\"elk\" class=\"align-middle\" src=\"files/elk.png\"></a> \n",
      "<a class=\"reference external\" href=\"ase/calculators/exciting.html\"><img alt=\"exciting\" class=\"align-middle\" src=\"files/exciting1.png\"></a>\n",
      "<a class=\"reference external\" href=\"ase/calculators/emt.html\"><img alt=\"EMT\" class=\"align-middle\" src=\"files/emt.png\"></a> \n",
      "<a class=\"reference external\" href=\"ase/calculators/FHI-aims.html\"><img alt=\"fhi-aims\" class=\"align-middle\" src=\"files/fhi-aims.png\"></a>\n",
      "<a class=\"reference external\" href=\"ase/calculators/fleur.html\"><img alt=\"fleur\" class=\"align-middle\" src=\"files/fleur.png\"></a> \n",
      "\n",
      "<a class=\"reference external\" href=\"http://www.gaussian.com/\"><img alt=\"Gaussian\" class=\"align-middle\" src=\"files/gaussian_small.jpg\" width=75></a> \n",
      "\n",
      "<a class=\"reference external\" href=\"http://wiki.fysik.dtu.dk/gpaw\"><img alt=\"gpaw\" class=\"align-middle\" src=\"files/gpaw.png\"></a>\n",
      "<a class=\"reference external\" href=\"https://trac.cc.jyu.fi/projects/hotbit\"><img alt=\"hotbit\" class=\"align-middle\" src=\"files/hotbit.png\"></a>\n",
      "<a class=\"reference external\" href=\"ase/calculators/jacapo.html\"><img alt=\"jacapo\" class=\"align-middle\" src=\"files/jacapo.png\"></a>\n",
      "<a class=\"reference external\" href=\"http://sourceforge.net/p/jdftx/wiki/ASE%20Interface\"><img alt=\"jdftx\" class=\"align-middle\" src=\"files/jdftx.png\"></a>\n",
      "<a class=\"reference external\" href=\"ase/calculators/lammps.html\"><img alt=\"lammps\" class=\"align-middle\" src=\"files/lammps.png\"></a> \n",
      "<a class=\"reference external\" href=\"http://openmopac.net/\">Mopac</a>\n",
      "<a class=\"reference external\" href=\"http://www.nwchem-sw.org\"><img alt=\"nwchem\" class=\"align-middle\" src=\"files/nwchem.png\"></a>\n",
      "<a class=\"reference external\" href=\"ase/calculators/siesta.html\"><img alt=\"siesta\" class=\"align-middle\" src=\"files/siesta.png\"></a> \n",
      "<a class=\"reference external\" href=\"ase/calculators/turbomole.html\"><img alt=\"turbomole\" class=\"align-middle\" src=\"files/tm_logo_l.png\"></a>\n",
      "<a class=\"reference external\" href=\"ase/calculators/vasp.html\"><img alt=\"vasp\" class=\"align-middle\" src=\"files/vasp.png\"></a></div>"
     ]
    },
    {
     "cell_type": "markdown",
     "metadata": {
      "slideshow": {
       "slide_type": "subslide"
      }
     },
     "source": [
      "The maturity of quantum chemistry and the big quantum chemistry codes comes with some downsides. Program design and workflows follow designs from another era.\n",
      "\n",
      "<img src='files/old_comps.jpg' width=350></img>"
     ]
    },
    {
     "cell_type": "markdown",
     "metadata": {
      "slideshow": {
       "slide_type": "subslide"
      }
     },
     "source": [
      "Gaussian source code still written as if it's being run on punch cards, 'GOTO statements' still used:\n",
      "\n",
      "          IMPLICIT DOUBLE PRECISION(A-H,O-Z)\n",
      "          COMMON/MATRIX/S(2,2),X(2,2),XT(2,2),H(2,2),F(2,2),G(2,2),C(2,2),\n",
      "         $ FPRIME(2,2),CPRIME(2,2),P(2,2),OLDP(2,2),TT(2,2,2,2),E(2,2)\n",
      "          DATA PI/3.1415926535898D0/\n",
      "    C     CONVERGENCE CRITERION FOR DENSITY MATRIX\n",
      "          DATA CRIT/1.0D-4/\n",
      "    C     MAXIMUM NUMBER OF ITERATIONS\n",
      "          DATA MAXIT/25/\n",
      "    C     ITERATION NUMBER\n",
      "          ITER=0\n",
      "    C     USE CORE-HAMILTONIAN FOR INITIAL GUESS AT F, I.E. (P=0)\n",
      "          DO 10 I=1,2\n",
      "          DO 10 J=1,2\n",
      "       10 P(I,J)=0.0D0\n",
      "          IF (IOP.LT.2) GO TO 20\n",
      "          CALL MATOUT(P,2,2,2,2,4HP   )\n",
      "    C     START OF ITERATION LOOP\n",
      "       20 ITER=ITER+1\n",
      "          IF (IOP.LT.2) GO TO 40\n",
      "          PRINT 30, ITER\n",
      "       ... \n",
      "\n",
      "\n",
      "<img src='files/goto.png' width=700 height=350></img>"
     ]
    },
    {
     "cell_type": "markdown",
     "metadata": {
      "slideshow": {
       "slide_type": "slide"
      }
     },
     "source": [
      "Input Files\n",
      "-------------\n",
      "\n",
      "Calculations are controlled by specifying text based input files, which can be fairly simple:"
     ]
    },
    {
     "cell_type": "markdown",
     "metadata": {
      "slideshow": {
       "slide_type": "fragment"
      }
     },
     "source": [
      "    %mem=8000MB\n",
      "    %chk=/scratch/Kr_mp2_dimer_9.chk\n",
      "    %nproc=8\n",
      "    #p gfprint MP2/6-31G*\n",
      "    \n",
      "    Gaussian input prepared by ASE\n",
      "    \n",
      "    0 1\n",
      "    Kr                0.0000000000        0.0000000000        0.0000000000\n",
      "    Kr                0.0000000000        0.0000000000        2.7500000000"
     ]
    },
    {
     "cell_type": "markdown",
     "metadata": {
      "slideshow": {
       "slide_type": "subslide"
      }
     },
     "source": [
      "Or horrendous:"
     ]
    },
    {
     "cell_type": "markdown",
     "metadata": {
      "slideshow": {
       "slide_type": "fragment"
      }
     },
     "source": [
      "    %mem=120GB\n",
      "    %chk=/scratch/1W7SAw_S0_FREQ_oniom_b3lyp_631gd1_amber_pt1\n",
      "    %nprocshared=16\n",
      "    #p freq=(intmodes,hpmodes) oniom(b3lyp/6-31+g(d):amber=hardfirst) nosymm geom=connectivity\n",
      "    IOp(1/52=5, 1/53=1, 1/66=12, 4/119=10, 2/15=3)\n",
      "    \n",
      "    Mechanically embedded ONIOM GFP frequency small partition\n",
      "    \n",
      "    -6 1\n",
      "    N-N3-0.184900(PDBName=N,ResName=SER,ResNum=1_0) -22.55849   4.98178   0.09116  M \n",
      "    H-H-0.189800(PDBName=H1,ResName=SER,ResNum=1_0) -21.88048   5.60949  -0.33459  M \n",
      "    H-H-0.189800(PDBName=H2,ResName=SER,ResNum=1_0) -23.36976   5.55472   0.28662  M \n",
      "    H-H-0.189800(PDBName=H3,ResName=SER,ResNum=1_0) -22.80656   4.25772  -0.57072  M \n",
      "    C-CT-0.056700(PDBName=CA,ResName=SER,ResNum=1_0) -22.03207   4.42959   1.35821  M \n",
      "    ...\n",
      "    and on for 1000+ more lines\n",
      "    ...\n",
      "    \n",
      "    1 2 1.0 3 1.0 4 1.0 5 1.0\n",
      "     2\n",
      "     3\n",
      "     4\n",
      "     5 6 1.0 7 1.0 12 1.0\n",
      "     6\n",
      "     7 8 1.0 9 1.0 10 1.0\n",
      "     8\n",
      "     9\n",
      "    ...\n",
      "    and on for 1000+ more lines\n",
      "    ...\n",
      "     HrmStr1 CM HC 344.30   1.087\n",
      "     HrmStr1 CC N* 411.10   1.391\n",
      "     HrmStr1 CC O  546.20   1.261\n",
      "     HrmStr1 CC CM 418.30   1.429\n",
      "     HrmStr1 CC CC 418.30   1.429\n",
      "     HrmBnd1 CM C  OH 72.543     113.670\n",
      "     HrmBnd1 CA C  CM 67.200     116.780\n",
      "     HrmBnd1 HC CM CA 50.300     119.700\n",
      "    ...\n",
      "    and on for 100+ more lines"
     ]
    },
    {
     "cell_type": "markdown",
     "metadata": {
      "slideshow": {
       "slide_type": "subslide"
      }
     },
     "source": [
      "Some GUI based tools available which have significantly reduced the technical barrier to performing calculations (and without which certain calculations would be impractical):"
     ]
    },
    {
     "cell_type": "markdown",
     "metadata": {
      "slideshow": {
       "slide_type": "fragment"
      }
     },
     "source": [
      "<img src='files/Gaussview.png'></img>"
     ]
    },
    {
     "cell_type": "markdown",
     "metadata": {
      "slideshow": {
       "slide_type": "fragment"
      }
     },
     "source": [
      "**But** incomplete, buggy, closed source, not extendable, and not scriptable and expensive."
     ]
    },
    {
     "cell_type": "markdown",
     "metadata": {
      "slideshow": {
       "slide_type": "subslide"
      }
     },
     "source": [
      "Reasonable documentation for keywords:"
     ]
    },
    {
     "cell_type": "markdown",
     "metadata": {
      "slideshow": {
       "slide_type": "fragment"
      }
     },
     "source": [
      "<iframe src=http://www.gaussian.com/g_tech/g_ur/l_keywords09.htm width=750 height=350 seamless align=\"center\"></iframe>"
     ]
    },
    {
     "cell_type": "markdown",
     "metadata": {
      "slideshow": {
       "slide_type": "subslide"
      }
     },
     "source": [
      "But full control of the program involves use of special machine codes known as IOPS which requires what amounts to an apprentership with one of the old masters who have the requisit knowledge."
     ]
    },
    {
     "cell_type": "markdown",
     "metadata": {
      "slideshow": {
       "slide_type": "fragment"
      }
     },
     "source": [
      "(You attempt to please the master by performing suitable tasks in the hope you will be rewarded by the secret knowledge).\n",
      "\n",
      "<img src='files/apprentices.jpg' width=500 height=500></img>"
     ]
    },
    {
     "cell_type": "markdown",
     "metadata": {
      "slideshow": {
       "slide_type": "subslide"
      }
     },
     "source": [
      "Even with suitable training in extreme yet still popular cases e.g. calculations involving many atoms that involve combining parameterised forcefields with a quantum core, requires a complicated workflow encompassing several different programs both both gui and console based, and additional hand editing files.\n",
      "\n",
      "Prepartion a single calculation can take days or even weeks.\n",
      "\n",
      "<img src='files/oniom_flow_chart_.jpg'></img>"
     ]
    },
    {
     "cell_type": "markdown",
     "metadata": {
      "slideshow": {
       "slide_type": "slide"
      }
     },
     "source": [
      "Output Files\n",
      "------------\n",
      "\n",
      "Primary output in the form of text based log files. Started out simple but progressively added to, resulting in files fit for neither machine nor man."
     ]
    },
    {
     "cell_type": "markdown",
     "metadata": {
      "slideshow": {
       "slide_type": "fragment"
      }
     },
     "source": [
      "                              Input orientation:                          \n",
      "     ---------------------------------------------------------------------\n",
      "     Center     Atomic      Atomic             Coordinates (Angstroms)\n",
      "     Number     Number       Type             X           Y           Z\n",
      "     ---------------------------------------------------------------------\n",
      "          1          6           0       12.944290    2.379030    9.230270\n",
      "          2          6           0       14.184440    2.306490    9.968460\n",
      "          3          6           0       14.172150    2.301150   11.311130\n",
      "          4          6           0       12.893240    2.369720   12.049500\n",
      "          5          6           0       12.890000    2.365240   13.448940\n",
      "          6          6           0       10.446450    2.512790    9.222550\n",
      "          7          6           0       11.651150    2.445710    9.923370\n",
      "          8          6           0       11.673180    2.439720   11.337120\n",
      "          9          6           0       10.454800    2.504930   12.048290\n",
      "         10          6           0       10.458940    2.500960   13.463580\n",
      "         11          6           0       11.685170    2.430440   14.166130\n",
      "         12          6           0       11.671420    2.427210   15.568550\n",
      "         13          6           0       10.467200    2.493010   16.268140\n",
      "         14          6           0        7.948740    2.646500    9.245720\n",
      "         15          6           0        9.245920    2.575980    9.930820\n",
      "         16          6           0        9.232220    2.574120   11.344670\n",
      "         17          6           0        8.016350    2.640180   12.064610\n",
      "         18          6           0        8.027870    2.636790   13.464030\n",
      "         19          6           0        9.236890    2.567510   14.173720\n",
      "         20          6           0        9.258900    2.562780   15.576030\n",
      "         21          6           0        6.712910    2.715100    9.991600\n",
      "         22          6           0        6.733200    2.712980   11.334180\n",
      "         23          1           0        7.087360    2.688220   14.008260\n",
      "         24          1           0        8.331370    2.613460   16.142220\n",
      "         25          1           0        5.779200    2.767470    9.441950\n",
      "         26          1           0        5.812760    2.764210   11.905150\n",
      "         27          1           0       15.114960    2.257310    9.413020\n",
      "         28          1           0       15.095890    2.246920   11.876350\n",
      "         29          1           0       13.833690    2.310810   13.987340\n",
      "         30          1           0       12.602260    2.373340   16.128970\n",
      "         31          1           0       10.470410    2.489920   17.355340\n",
      "         32          1           0       12.972590    2.387640    8.147410\n",
      "         33          1           0       10.443260    2.515800    8.136590\n",
      "         34          1           0        7.914030    2.643720    8.163030\n",
      "     ---------------------------------------------------------------------\n",
      "                        Distance matrix (angstroms):\n",
      "                        1          2          3          4          5\n",
      "         1  C    0.000000\n",
      "         2  C    1.445046   0.000000\n",
      "         3  C    2.417371   1.342737   0.000000\n",
      "         4  C    2.819708   2.449882   1.478345   0.000000\n",
      "         5  C    4.219042   3.713862   2.493641   1.399451   0.000000\n",
      "         6  C    2.501431   3.817265   4.276424   3.741510   4.884166\n",
      "         7  C    1.468688   2.537513   2.881357   2.463532   3.737763\n",
      "         8  C    2.461345   2.863111   2.502944   1.414543   2.438438\n",
      "         9  C    3.762266   4.274960   3.795210   2.442186   2.812745\n",
      "        10  C    4.910473   5.112048   4.296614   2.818273   2.434890\n",
      "        11  C    5.094187   4.886936   3.788510   2.437877   1.403648\n",
      "        12  C    6.465007   6.139287   4.939146   3.725569   2.445715\n",
      "        13  C    7.461942   7.317010   6.191560   4.868038   3.719432\n",
      "        14  C    5.002729   6.286646   6.566279   5.690858   6.493244\n",
      "        15  C    3.769284   4.946011   5.123332   4.223067   5.069605\n",
      "        16  C    4.276472   5.146850   4.947580   3.733850   4.225037\n",
      "        17  C    5.690894   6.523077   6.211002   4.884407   5.073897\n",
      "        18  C    6.493254   7.087416   6.519188   5.073859   4.869731\n",
      "        19  C    6.182074   6.498507   5.711581   4.233241   3.729803\n",
      "        20  C    7.340609   7.468030   6.511363   5.067752   4.212888\n",
      "        21  C    6.286705   7.482731   7.586355   6.523091   7.087457\n",
      "        22  C    6.566247   7.586264   7.450377   6.210926   6.519150\n",
      "        23  H    7.564947   8.175221   7.590691   6.135668   5.838475\n",
      "        24  H    8.313185   8.512812   7.586282   6.133549   5.300611\n",
      "        25  H    7.178733   8.434321   8.611208   7.587298   8.171979\n",
      "        26  H    7.626406   8.604958   8.393252   7.092930   7.254639\n",
      "        27  H    2.181747   1.084804   2.119819   3.449595   4.609853\n",
      "        28  H    3.413001   2.115262   1.084302   2.212855   2.711640\n",
      "        29  H    4.839979   4.034159   2.697545   2.154795   1.087836\n",
      "        30  H    6.907176   6.360790   5.067677   4.089836   2.695444\n",
      "        31  H    8.494065   8.270046   7.090204   5.834080   4.596729\n",
      "        32  H    1.083264   2.188924   3.384605   3.902938   5.302221\n",
      "        33  H    2.733129   4.170850   4.901877   4.618940   5.850664\n",
      "        34  H    5.149037   6.533861   7.013698   6.322362   7.264893\n",
      "                        6          7          8          9         10\n",
      "         6  C    0.000000\n",
      "         7  C    1.395332   0.000000\n",
      "         8  C    2.445733   1.413934   0.000000\n",
      "         9  C    2.825763   2.439271   1.412255   0.000000\n",
      "        10  C    4.241065   3.735974   2.449482   1.415302   0.000000\n",
      "        11  C    5.097077   4.242924   2.829051   2.450430   1.414987\n",
      "        12  C    6.463713   5.645247   4.231449   3.725377   2.430318\n",
      "        13  C    7.045648   6.454462   5.076631   4.219885   2.804583\n",
      "        14  C    2.501394   3.769266   4.276466   3.762284   4.910461\n",
      "        15  C    1.395318   2.408767   2.808529   2.439286   3.735966\n",
      "        16  C    2.445712   2.808524   2.444669   1.412293   2.449484\n",
      "        17  C    3.741513   4.223091   3.733876   2.442253   2.818288\n",
      "        18  C    4.884164   5.069610   4.225029   2.812774   2.434862\n",
      "        19  C    5.097069   4.889679   3.741409   2.450444   1.414968\n",
      "        20  C    6.463705   6.139147   4.879780   3.725382   2.430301\n",
      "        21  C    3.817288   4.946053   5.146896   4.275031   5.112068\n",
      "        22  C    4.276363   5.123285   4.947533   3.795200   4.296561\n",
      "        23  H    5.849554   6.129708   5.312860   3.900606   3.420423\n",
      "        24  H    7.236403   7.051466   5.855499   4.613133   3.422619\n",
      "        25  H    4.679340   5.900431   6.199846   5.359400   6.176124\n",
      "        26  H    5.360097   6.173791   5.896819   4.651478   4.907646\n",
      "        27  H    4.679373   3.506270   3.947313   5.359389   6.176158\n",
      "        28  H    5.360096   3.964831   3.470286   4.651435   4.907661\n",
      "        29  H    5.849565   4.614925   3.421708   3.900576   3.420441\n",
      "        30  H    7.236408   6.278481   4.881539   4.613117   3.422632\n",
      "        31  H    8.132857   7.525309   6.137438   5.307094   3.891793\n",
      "        32  H    2.748267   2.214410   3.444623   4.644339   5.881576\n",
      "        33  H    1.085969   2.157891   3.429560   3.911732   5.327034\n",
      "        34  H    2.748250   4.135707   4.924193   4.644354   5.881563\n",
      "                       11         12         13         14         15\n",
      "        11  C    0.000000\n",
      "        12  C    1.402491   0.000000\n",
      "        13  C    2.430188   1.394239   0.000000\n",
      "        14  C    6.182073   7.340614   7.461942   0.000000\n",
      "        15  C    4.889680   6.139152   6.454458   1.468677   0.000000\n",
      "        16  C    3.741423   4.879799   5.076644   2.461331   1.413918\n",
      "        17  C    4.233275   5.067789   4.868058   2.819708   2.463539\n",
      "        18  C    3.729795   4.212883   3.719413   4.219063   3.737769\n",
      "        19  C    2.452126   2.809301   2.430187   5.094188   4.242918\n",
      "        20  C    2.809291   2.416338   1.394228   6.465010   5.645240\n",
      "        21  C    6.498546   7.468070   7.317033   1.445102   2.537556\n",
      "        22  C    5.711548   6.511342   6.191535   2.417359   2.881310\n",
      "        23  H    4.607736   4.849354   4.070440   4.839990   4.614921\n",
      "        24  H    3.896973   3.394071   2.142926   6.907185   6.278479\n",
      "        25  H    7.570465   8.507012   8.285502   2.181752   3.506253\n",
      "        26  H    6.301479   6.917945   6.385377   3.413039   3.964845\n",
      "        27  H    5.863914   7.055309   8.285523   7.178730   5.900449\n",
      "        28  H    4.112151   5.039032   6.385386   7.626377   6.173777\n",
      "        29  H    2.159263   2.681266   4.070442   7.564938   6.129707\n",
      "        30  H    2.167269   1.087858   2.142935   8.313182   7.051464\n",
      "        31  H    3.413245   2.153828   1.087209   8.494073   7.525309\n",
      "        32  H    6.155020   7.534449   8.499079   5.149016   4.135709\n",
      "        33  H    6.156702   7.533276   8.131617   2.733108   2.157894\n",
      "        34  H    7.092545   8.307020   8.499070   1.083250   2.214408\n",
      "                       16         17         18         19         20\n",
      "        16  C    0.000000\n",
      "        17  C    1.414573   0.000000\n",
      "        18  C    2.438457   1.399472   0.000000\n",
      "        19  C    2.829062   2.437897   1.403634   0.000000\n",
      "        20  C    4.231459   3.725586   2.445702   1.402491   0.000000\n",
      "        21  C    2.863145   2.449886   3.713896   4.886961   6.139310\n",
      "        22  C    2.502897   1.478277   2.493639   3.788484   4.939131\n",
      "        23  H    3.421718   2.154787   1.087837   2.159265   2.681273\n",
      "        24  H    4.881553   4.089848   2.695433   2.167273   1.087866\n",
      "        25  H    3.947287   3.449549   4.609850   5.863894   7.055292\n",
      "        26  H    3.470300   2.212831   2.711652   4.112149   5.039029\n",
      "        27  H    6.199860   7.587344   8.171997   7.570482   8.507023\n",
      "        28  H    5.896810   7.092953   7.254628   6.301473   6.917937\n",
      "        29  H    5.312868   6.135700   5.838464   4.607733   4.849343\n",
      "        30  H    5.855511   6.133579   5.300599   3.896976   3.394066\n",
      "        31  H    6.137455   5.834108   4.596723   3.413253   2.153836\n",
      "        32  H    4.924187   6.322385   7.264901   7.092547   8.307019\n",
      "        33  H    3.429548   4.618950   5.850672   6.156699   7.533272\n",
      "        34  H    3.444605   3.902923   5.302227   6.155011   7.534441\n",
      "                       21         22         23         24         25\n",
      "        21  C    0.000000\n",
      "        22  C    1.342735   0.000000\n",
      "        23  H    4.034166   2.697544   0.000000\n",
      "        24  H    6.360807   5.067672   2.471221   0.000000\n",
      "        25  H    1.084745   2.119816   4.750658   7.171535   0.000000\n",
      "        26  H    2.115267   1.084362   2.460376   4.931418   2.463431\n",
      "        27  H    8.434380   8.611178   9.259821   9.561698   9.349733\n",
      "        28  H    8.604989   8.393196   8.299177   8.005669   9.643546\n",
      "        29  H    8.175261   7.590649   6.756911   5.916978   9.259801\n",
      "        30  H    8.512846   7.586253   5.916983   4.277655   9.561680\n",
      "        31  H    8.270077   7.090195   4.763118   2.462197   9.203599\n",
      "        32  H    6.533901   7.013654   8.311188   9.247103   7.318809\n",
      "        33  H    4.170886   4.901837   6.765227   8.280080   4.849820\n",
      "        34  H    2.188939   3.384575   5.903565   7.990154   2.491676\n",
      "                       26         27         28         29         30\n",
      "        26  H    0.000000\n",
      "        27  H    9.643577   0.000000\n",
      "        28  H    9.297576   2.463426   0.000000\n",
      "        29  H    8.299181   4.750676   2.460388   0.000000\n",
      "        30  H    8.005670   7.171549   4.931425   2.471216   0.000000\n",
      "        31  H    7.174504   9.203608   7.174500   4.763104   2.462186\n",
      "        32  H    8.094787   2.491687   4.293390   5.903573   7.990159\n",
      "        33  H    5.975390   4.849832   5.975372   6.765228   8.280079\n",
      "        34  H    4.293404   7.318824   8.094770   8.311185   9.247097\n",
      "                       31         32         33         34\n",
      "        31  H    0.000000\n",
      "        32  H    9.542397   0.000000\n",
      "        33  H    9.218826   2.532598   0.000000\n",
      "        34  H    9.542395   5.065062   2.532601   0.000000\n",
      "     Stoichiometry    C22H12\n",
      "     Framework group  C1[X(C22H12)]\n",
      "     Deg. of freedom    96\n",
      "     Full point group                 C1      NOp   1\n",
      "     Largest Abelian subgroup         C1      NOp   1\n",
      "     Largest concise Abelian subgroup C1      NOp   1\n",
      "                             Standard orientation:                         \n",
      "     ---------------------------------------------------------------------\n",
      "     Center     Atomic      Atomic             Coordinates (Angstroms)\n",
      "     Number     Number       Type             X           Y           Z\n",
      "     ---------------------------------------------------------------------\n",
      "          1          6           0       -2.501282    2.814146   -0.003607\n",
      "          2          6           0       -3.741277    2.072146   -0.001258\n",
      "          3          6           0       -3.725188    0.729508    0.001201\n",
      "          4          6           0       -2.442187   -0.004939    0.001044\n",
      "          5          6           0       -2.434913   -1.404371    0.001997\n",
      "          6          6           0        0.000099    2.829516    0.000080\n",
      "          7          6           0       -1.204315    2.125004   -0.000977\n",
      "          8          6           0       -1.222311    0.711185    0.000059\n",
      "          9          6           0       -0.000017    0.003752    0.000002\n",
      "         10          6           0       -0.000035   -1.411549   -0.000001\n",
      "         11          6           0       -1.226130   -2.117863    0.001190\n",
      "         12          6           0       -1.208284   -3.520240    0.001465\n",
      "         13          6           0       -0.000131   -4.216133    0.000073\n",
      "         14          6           0        2.501442    2.813995    0.003727\n",
      "         15          6           0        1.204451    2.124925    0.001067\n",
      "         16          6           0        1.222358    0.711121   -0.000059\n",
      "         17          6           0        2.442219   -0.005086   -0.001125\n",
      "         18          6           0        2.434816   -1.404538   -0.002071\n",
      "         19          6           0        1.225994   -2.117938   -0.001191\n",
      "         20          6           0        1.208052   -3.520314   -0.001383\n",
      "         21          6           0        3.741453    2.071913    0.001153\n",
      "         22          6           0        3.725188    0.729279   -0.001392\n",
      "         23          1           0        3.378393   -1.945880   -0.003192\n",
      "         24          1           0        2.138695   -4.083655   -0.002526\n",
      "         25          1           0        4.674942    2.624425    0.001610\n",
      "         26          1           0        4.648797    0.161138   -0.003487\n",
      "         27          1           0       -4.674791    2.624734   -0.001805\n",
      "         28          1           0       -4.648777    0.161450    0.003108\n",
      "         29          1           0       -3.378515   -1.945667    0.003078\n",
      "         30          1           0       -2.138957   -4.083518    0.002635\n",
      "         31          1           0       -0.000177   -5.303342    0.000109\n",
      "         32          1           0       -2.532382    3.896938   -0.010898\n",
      "         33          1           0        0.000124    3.915484    0.000119\n",
      "         34          1           0        2.532632    3.896770    0.011271\n",
      "     ---------------------------------------------------------------------\n",
      "     Rotational constants (GHZ):      0.3766815      0.3664456      0.1857467\n",
      "     Leave Link  202 at Sun Jan 27 13:54:29 2013, MaxMem= 4194304000 cpu:       0.1\n",
      "     (Enter /apps/gaussian/g09_c01/g09/l301.exe)\n",
      "     Standard basis: 6-31G(d) (6D, 7F)\n",
      "     Ernie: Thresh=  0.10000D-02 Tol=  0.10000D-05 Strict=F.\n",
      "     There are   354 symmetry adapted basis functions of A   symmetry.\n",
      "     Integral buffers will be    131072 words long.\n",
      "     Raffenetti 2 integral format.\n",
      "     Two-electron integral symmetry is turned on.\n",
      "       354 basis functions,   664 primitive gaussians,   354 cartesian basis functions\n",
      "        72 alpha electrons       72 beta electrons\n",
      "           nuclear repulsion energy      1586.8616604853 Hartrees.\n",
      "     IExCor=  402 DFT=T Ex+Corr=B3LYP ExCW=0 ScaHFX=  0.200000\n",
      "     ScaDFX=  0.800000  0.720000  1.000000  0.810000 ScalE2=  1.000000  1.000000\n",
      "     IRadAn=      0 IRanWt=     -1 IRanGd=            0 ICorTp=0\n",
      "     NAtoms=   34 NActive=   34 NUniq=   34 SFac= 1.00D+00 NAtFMM=   60 NAOKFM=F Big=F\n",
      "     Leave Link  301 at Sun Jan 27 13:54:29 2013, MaxMem= 4194304000 cpu:       0.9\n",
      "     (Enter /apps/gaussian/g09_c01/g09/l302.exe)\n",
      "     NPDir=0 NMtPBC=     1 NCelOv=     1 NCel=       1 NClECP=     1 NCelD=      1\n",
      "             NCelK=      1 NCelE2=     1 NClLst=     1 CellRange=     0.0.\n",
      "     One-electron integrals computed using PRISM.\n",
      "     NBasis=   354 RedAO= T  NBF=   354\n",
      "     NBsUse=   354 1.00D-06 NBFU=   354\n",
      "     Precomputing XC quadrature grid using\n",
      "     IXCGrd= 2 IRadAn=           0 IRanWt=          -1 IRanGd=           0 AccXCQ= 0.00D+00.\n",
      "     NRdTot=    2150 NPtTot=      273568 NUsed=      289073 NTot=      289105\n",
      "     NSgBfM=   353   353   353   353   353 NAtAll=    34    34.\n",
      "     Leave Link  302 at Sun Jan 27 13:54:30 2013, MaxMem= 4194304000 cpu:       9.5\n",
      "     (Enter /apps/gaussian/g09_c01/g09/l303.exe)\n",
      "     DipDrv:  MaxL=1.\n",
      "     Leave Link  303 at Sun Jan 27 13:54:30 2013, MaxMem= 4194304000 cpu:       1.0\n",
      "     (Enter /apps/gaussian/g09_c01/g09/l401.exe)\n",
      "     Harris functional with IExCor=  402 diagonalized for initial guess.\n",
      "     ExpMin= 1.61D-01 ExpMax= 3.05D+03 ExpMxC= 4.57D+02 IAcc=1 IRadAn=         1 AccDes= 0.00D+00\n",
      "     HarFok:  IExCor=  402 AccDes= 0.00D+00 IRadAn=         1 IDoV= 1\n",
      "     ScaDFX=  1.000000  1.000000  1.000000  1.000000\n",
      "     FoFCou: FMM=F IPFlag=           0 FMFlag=      100000 FMFlg1=           0\n",
      "             NFxFlg=           0 DoJE=T BraDBF=F KetDBF=T FulRan=T\n",
      "             Omega=  0.000000  0.000000  1.000000  0.000000  0.000000 ICntrl=     500 IOpCl=  0\n",
      "             NMat0=    1 NMatS0=    1 NMatT0=    0 NMatD0=    1 NMtDS0=    0 NMtDT0=    0\n",
      "             I1Cent=           4 NGrid=           0.\n",
      "     Petite list used in FoFCou.\n",
      "     Harris En= -845.521632896072    \n",
      "     Initial guess orbital symmetries:\n",
      "           Occupied  (A) (A) (A) (A) (A) (A) (A) (A) (A) (A) (A) (A)\n",
      "                     (A) (A) (A) (A) (A) (A) (A) (A) (A) (A) (A) (A)\n",
      "                     (A) (A) (A) (A) (A) (A) (A) (A) (A) (A) (A) (A)\n",
      "                     (A) (A) (A) (A) (A) (A) (A) (A) (A) (A) (A) (A)\n",
      "                     (A) (A) (A) (A) (A) (A) (A) (A) (A) (A) (A) (A)\n",
      "                     (A) (A) (A) (A) (A) (A) (A) (A) (A) (A) (A) (A)\n",
      "           Virtual   (A) (A) (A) (A) (A) (A) (A) (A) (A) (A) (A) (A)\n",
      "                     (A) (A) (A) (A) (A) (A) (A) (A) (A) (A) (A) (A)\n",
      "                     (A) (A) (A) (A) (A) (A) (A) (A) (A) (A) (A) (A)\n",
      "                     (A) (A) (A) (A) (A) (A) (A) (A) (A) (A) (A) (A)\n",
      "                     (A) (A) (A) (A) (A) (A) (A) (A) (A) (A) (A) (A)\n",
      "                     (A) (A) (A) (A) (A) (A) (A) (A) (A) (A) (A) (A)\n",
      "                     (A) (A) (A) (A) (A) (A) (A) (A) (A) (A) (A) (A)\n",
      "                     (A) (A) (A) (A) (A) (A) (A) (A) (A) (A) (A) (A)\n",
      "                     (A) (A) (A) (A) (A) (A) (A) (A) (A) (A) (A) (A)\n",
      "                     (A) (A) (A) (A) (A) (A) (A) (A) (A) (A) (A) (A)\n",
      "                     (A) (A) (A) (A) (A) (A) (A) (A) (A) (A) (A) (A)\n",
      "                     (A) (A) (A) (A) (A) (A) (A) (A) (A) (A) (A) (A)\n",
      "                     (A) (A) (A) (A) (A) (A) (A) (A) (A) (A) (A) (A)\n",
      "                     (A) (A) (A) (A) (A) (A) (A) (A) (A) (A) (A) (A)\n",
      "                     (A) (A) (A) (A) (A) (A) (A) (A) (A) (A) (A) (A)\n",
      "                     (A) (A) (A) (A) (A) (A) (A) (A) (A) (A) (A) (A)\n",
      "                     (A) (A) (A) (A) (A) (A) (A) (A) (A) (A) (A) (A)\n",
      "                     (A) (A) (A) (A) (A) (A) (A) (A) (A) (A) (A) (A)\n",
      "                     (A) (A) (A) (A) (A) (A) (A) (A) (A) (A) (A) (A)\n",
      "                     (A) (A) (A) (A) (A) (A) (A) (A) (A) (A) (A) (A)\n",
      "                     (A) (A) (A) (A) (A) (A) (A) (A) (A) (A) (A) (A)\n",
      "                     (A) (A) (A) (A) (A) (A) (A) (A) (A) (A) (A) (A)\n",
      "                     (A) (A) (A) (A) (A) (A) (A) (A) (A) (A) (A) (A)\n",
      "                     (A) (A) (A) (A) (A) (A)\n",
      "     The electronic state of the initial guess is 1-A.\n",
      "     Leave Link  401 at Sun Jan 27 13:54:31 2013, MaxMem= 4194304000 cpu:      11.4\n",
      "     (Enter /apps/gaussian/g09_c01/g09/l502.exe)\n",
      "     Closed shell SCF:\n",
      "     Requested convergence on RMS density matrix=1.00D-08 within  64 cycles.\n",
      "     Requested convergence on MAX density matrix=1.00D-06.\n",
      "     Requested convergence on             energy=1.00D-06.\n",
      "     No special actions if energy rises.\n",
      "     Using DIIS extrapolation, IDIIS=  1040.\n",
      "     Integral symmetry usage will be decided dynamically.\n",
      "           288754 words used for storage of precomputed grid.\n",
      "     Keep R1 ints in memory in canonical form, NReq=1997197866.\n",
      "     IEnd=      678562 IEndB=      678562 NGot=  4194304000 MDV=  2219605275\n",
      "     LenX=  2219605275 LenY=  2219479518\n",
      "     Symmetry not used in FoFDir.\n",
      "     MinBra= 0 MaxBra= 2 Meth= 1.\n",
      "     IRaf=       0 NMat=   1 IRICut=       1 DoRegI=T DoRafI=F ISym2E= 0 JSym2E=0.\n",
      "     Integral accuracy reduced to 1.0D-05 until final iterations.\n"
     ]
    },
    {
     "cell_type": "markdown",
     "metadata": {
      "slideshow": {
       "slide_type": "subslide"
      }
     },
     "source": [
      "Some machine readable output at the end of the logfiles:"
     ]
    },
    {
     "cell_type": "markdown",
     "metadata": {
      "slideshow": {
       "slide_type": "fragment"
      }
     },
     "source": [
      "     1\\1\\GINC-CX1-5-12-4\\SP\\RB3LYP\\6-31G(d)\\C22H12\\CJF05\\27-Jan-2013\\0\\\\#p \n",
      "     B3LYP/6-31G(d) scf=xqc\\\\Gaussian input prepared by ASE\\\\0,1\\C,0,12.944\n",
      "     29,2.37903,9.23027\\C,0,14.18444,2.30649,9.96846\\C,0,14.17215,2.30115,1\n",
      "     1.31113\\C,0,12.89324,2.36972,12.0495\\C,0,12.89,2.36524,13.44894\\C,0,10\n",
      "     .44645,2.51279,9.22255\\C,0,11.65115,2.44571,9.92337\\C,0,11.67318,2.439\n",
      "     72,11.33712\\C,0,10.4548,2.50493,12.04829\\C,0,10.45894,2.50096,13.46358\n",
      "     \\C,0,11.68517,2.43044,14.16613\\C,0,11.67142,2.42721,15.56855\\C,0,10.46\n",
      "     72,2.49301,16.26814\\C,0,7.94874,2.6465,9.24572\\C,0,9.24592,2.57598,9.9\n",
      "     3082\\C,0,9.23222,2.57412,11.34467\\C,0,8.01635,2.64018,12.06461\\C,0,8.0\n",
      "     2787,2.63679,13.46403\\C,0,9.23689,2.56751,14.17372\\C,0,9.2589,2.56278,\n",
      "     15.57603\\C,0,6.71291,2.7151,9.9916\\C,0,6.7332,2.71298,11.33418\\H,0,7.0\n",
      "     8736,2.68822,14.00826\\H,0,8.33137,2.61346,16.14222\\H,0,5.7792,2.76747,\n",
      "     9.44195\\H,0,5.81276,2.76421,11.90515\\H,0,15.11496,2.25731,9.41302\\H,0,\n",
      "     15.09589,2.24692,11.87635\\H,0,13.83369,2.31081,13.98734\\H,0,12.60226,2\n",
      "     .37334,16.12897\\H,0,10.47041,2.48992,17.35534\\H,0,12.97259,2.38764,8.1\n",
      "     4741\\H,0,10.44326,2.5158,8.13659\\H,0,7.91403,2.64372,8.16303\\\\Version=\n",
      "     EM64L-G09RevC.01\\State=1-A\\HF=-845.5565388\\RMSD=2.140e-04\\Dipole=0.006\n",
      "     0013,-0.0052874,1.8702362\\Quadrupole=2.5536916,-11.1839048,8.6302132,-\n",
      "     0.7589659,0.0152046,-0.0531776\\PG=C01 [X(C22H12)]\\\\@\n",
      "    \n",
      "    \n",
      "     CHINESE FORTUNE COOKIE OF JAN 1 1967 SAY....\n",
      "     ALL THINGS ARE DIFFICULT BEFORE THEY ARE EASY.\n",
      "     WE LEARN SO LITTLE AND FORGET SO MUCH.\n",
      "     YOU WILL OVERCOME OBSTACLES TO ACHIEVE SUCCESS.\n",
      "     AH SO.\n",
      "     Job cpu time:  0 days 10 hours  8 minutes 49.9 seconds.\n",
      "     File lengths (MBytes):  RWF=     54 Int=      0 D2E=      0 Chk=      6 Scr=      1\n",
      "     Normal termination of Gaussian 09 at Sun Jan 27 14:32:34 2013."
     ]
    },
    {
     "cell_type": "markdown",
     "metadata": {
      "slideshow": {
       "slide_type": "subslide"
      }
     },
     "source": [
      "But only a small subsection of the results. More general machine readable output available in a specialised text file though non standard format subject to change without warning, in some cases file size is vast (tens to hundreds of GBs) and some information still only available in log files."
     ]
    },
    {
     "cell_type": "markdown",
     "metadata": {
      "slideshow": {
       "slide_type": "fragment"
      }
     },
     "source": [
      "    Gaussian input prepared by ASE                                          \n",
      "    SP        RB3LYP                                                      6-31G(d)            \n",
      "    Number of atoms                            I               34\n",
      "    Info1-9                                    I   N=           9\n",
      "              45          43           0           0           0         110\n",
      "               1          18        -502\n",
      "    Charge                                     I                0\n",
      "    Multiplicity                               I                1\n",
      "    Number of electrons                        I              144\n",
      "    Number of alpha electrons                  I               72\n",
      "    Number of beta electrons                   I               72\n",
      "    Number of basis functions                  I              354\n",
      "    Number of independent functions            I              354\n",
      "    Number of point charges in /Mol/           I                0\n",
      "    Number of translation vectors              I                0\n",
      "    Atomic numbers                             I   N=          34\n",
      "               6           6           6           6           6           6\n",
      "               6           6           6           6           6           6\n",
      "               6           6           6           6           6           6\n",
      "               6           6           6           6           1           1\n",
      "               1           1           1           1           1           1\n",
      "               1           1           1           1\n",
      "    Nuclear charges                            R   N=          34\n",
      "      6.00000000E+00  6.00000000E+00  6.00000000E+00  6.00000000E+00  6.00000000E+00\n",
      "      6.00000000E+00  6.00000000E+00  6.00000000E+00  6.00000000E+00  6.00000000E+00\n",
      "      6.00000000E+00  6.00000000E+00  6.00000000E+00  6.00000000E+00  6.00000000E+00\n",
      "      6.00000000E+00  6.00000000E+00  6.00000000E+00  6.00000000E+00  6.00000000E+00\n",
      "      6.00000000E+00  6.00000000E+00  1.00000000E+00  1.00000000E+00  1.00000000E+00\n",
      "      1.00000000E+00  1.00000000E+00  1.00000000E+00  1.00000000E+00  1.00000000E+00\n",
      "      1.00000000E+00  1.00000000E+00  1.00000000E+00  1.00000000E+00\n",
      "    Current cartesian coordinates              R   N=         102\n",
      "     -4.72673702E+00  5.31796438E+00 -6.81680190E-03 -7.06998982E+00  3.91578886E+00\n",
      "     -2.37698082E-03 -7.03958504E+00  1.37857035E+00  2.27035117E-03 -4.61506517E+00\n",
      "     -9.33306493E-03  1.97230431E-03 -4.60131872E+00 -2.65387570E+00  3.77392449E-03\n",
      "      1.87747476E-04  5.34700944E+00  1.50265746E-04 -2.27582521E+00  4.01567647E+00\n",
      "     -1.84532216E-03 -2.30983376E+00  1.34394499E+00  1.10580820E-04 -3.19557100E-05\n",
      "      7.09075256E-03  4.24150628E-06 -6.59154535E-05 -2.66744171E+00 -1.74634799E-06\n",
      "     -2.31705013E+00 -4.00218062E+00  2.24968748E-03 -2.28332575E+00 -6.65229012E+00\n",
      "      2.76895115E-03 -2.47703536E-04 -7.96733631E+00  1.37150039E-04  4.72704078E+00\n",
      "      5.31768035E+00  7.04393584E-03  2.27608257E+00  4.01552642E+00  2.01676087E-03\n",
      "      2.30992096E+00  1.34382451E+00 -1.11246330E-04  4.61512571E+00 -9.61179092E-03\n",
      "     -2.12579130E-03  4.60113507E+00 -2.65419209E+00 -3.91307854E-03  2.31679382E+00\n",
      "     -4.00232224E+00 -2.25033794E-03  2.28288759E+00 -6.65242863E+00 -2.61268544E-03\n",
      "      7.07032111E+00  3.91534828E+00  2.17939104E-03  7.03958558E+00  1.37813761E+00\n",
      "     -2.63085932E-03  6.38423751E+00 -3.67718038E+00 -6.03216042E-03  4.04154776E+00\n",
      "     -7.71699039E+00 -4.77380340E-03  8.83436058E+00  4.95944426E+00  3.04283890E-03\n",
      "      8.78495263E+00  3.04506929E-01 -6.58967686E-03 -8.83407381E+00  4.96002773E+00\n",
      "     -3.41024972E-03 -8.78491544E+00  3.05096580E-01  5.87377216E-03 -6.38446802E+00\n",
      "     -3.67677829E+00  5.81751188E-03 -4.04204329E+00 -7.71673044E+00  4.97997522E-03\n",
      "     -3.34067436E-04 -1.00218638E+01  2.05539334E-04 -4.78550766E+00  7.36414640E+00\n",
      "     -2.05936021E-02  2.35245454E-04  7.39919317E+00  2.24557627E-04  4.78598016E+00\n",
      "      7.36382749E+00  2.12991311E-02\n",
      "    Force Field                                I                0\n",
      "    Int Atom Types                             I   N=          34\n",
      "               0           0           0           0           0           0\n",
      "               0           0           0           0           0           0\n",
      "               0           0           0           0           0           0\n",
      "               0           0           0           0           0           0\n",
      "               0           0           0           0           0           0\n",
      "               0           0           0           0\n",
      "    MM charges                                 R   N=          34\n",
      "      0.00000000E+00  0.00000000E+00  0.00000000E+00  0.00000000E+00  0.00000000E+00\n",
      "      0.00000000E+00  0.00000000E+00  0.00000000E+00  0.00000000E+00  0.00000000E+00\n",
      "      0.00000000E+00  0.00000000E+00  0.00000000E+00  0.00000000E+00  0.00000000E+00\n",
      "      0.00000000E+00  0.00000000E+00  0.00000000E+00  0.00000000E+00  0.00000000E+00\n",
      "      0.00000000E+00  0.00000000E+00  0.00000000E+00  0.00000000E+00  0.00000000E+00\n",
      "      0.00000000E+00  0.00000000E+00  0.00000000E+00  0.00000000E+00  0.00000000E+00\n",
      "      0.00000000E+00  0.00000000E+00  0.00000000E+00  0.00000000E+00\n",
      "    Integer atomic weights                     I   N=          34\n",
      "              12          12          12          12          12          12\n",
      "              12          12          12          12          12          12\n",
      "              12          12          12          12          12          12\n",
      "              12          12          12          12           1           1\n",
      "               1           1           1           1           1           1\n",
      "               1           1           1           1\n",
      "    Real atomic weights                        R   N=          34\n",
      "      1.20000000E+01  1.20000000E+01  1.20000000E+01  1.20000000E+01  1.20000000E+01\n",
      "      1.20000000E+01  1.20000000E+01  1.20000000E+01  1.20000000E+01  1.20000000E+01\n",
      "      1.20000000E+01  1.20000000E+01  1.20000000E+01  1.20000000E+01  1.20000000E+01\n",
      "      1.20000000E+01  1.20000000E+01  1.20000000E+01  1.20000000E+01  1.20000000E+01\n",
      "      1.20000000E+01  1.20000000E+01  1.00782504E+00  1.00782504E+00  1.00782504E+00\n",
      "      1.00782504E+00  1.00782504E+00  1.00782504E+00  1.00782504E+00  1.00782504E+00\n",
      "      1.00782504E+00  1.00782504E+00  1.00782504E+00  1.00782504E+00\n",
      "    Atom fragment info                         I   N=          34\n",
      "               0           0           0           0           0           0\n",
      "               0           0           0           0           0           0\n",
      "               0           0           0           0           0           0\n",
      "               0           0           0           0           0           0\n",
      "               0           0           0           0           0           0\n",
      "               0           0           0           0\n",
      "    Atom residue num                           I   N=          34\n",
      "               0           0           0           0           0           0\n",
      "               0           0           0           0           0           0\n",
      "               0           0           0           0           0           0\n",
      "               0           0           0           0           0           0\n",
      "               0           0           0           0           0           0\n",
      "               0           0           0           0\n",
      "    Nuclear spins                              I   N=          34\n",
      "               0           0           0           0           0           0\n",
      "               0           0           0           0           0           0\n",
      "               0           0           0           0           0           0\n",
      "               0           0           0           0           1           1\n",
      "               1           1           1           1           1           1\n",
      "               1           1           1           1\n",
      "    Nuclear ZEff                               R   N=          34\n",
      "     -3.60000000E+00 -3.60000000E+00 -3.60000000E+00 -3.60000000E+00 -3.60000000E+00\n",
      "     -3.60000000E+00 -3.60000000E+00 -3.60000000E+00 -3.60000000E+00 -3.60000000E+00\n",
      "     -3.60000000E+00 -3.60000000E+00 -3.60000000E+00 -3.60000000E+00 -3.60000000E+00\n",
      "     -3.60000000E+00 -3.60000000E+00 -3.60000000E+00 -3.60000000E+00 -3.60000000E+00\n",
      "     -3.60000000E+00 -3.60000000E+00 -1.00000000E+00 -1.00000000E+00 -1.00000000E+00\n",
      "     -1.00000000E+00 -1.00000000E+00 -1.00000000E+00 -1.00000000E+00 -1.00000000E+00\n",
      "     -1.00000000E+00 -1.00000000E+00 -1.00000000E+00 -1.00000000E+00\n",
      "    Nuclear ZNuc                               R   N=          34\n",
      "      6.00000000E+00  6.00000000E+00  6.00000000E+00  6.00000000E+00  6.00000000E+00\n",
      "      6.00000000E+00  6.00000000E+00  6.00000000E+00  6.00000000E+00  6.00000000E+00\n",
      "      6.00000000E+00  6.00000000E+00  6.00000000E+00  6.00000000E+00  6.00000000E+00\n",
      "      6.00000000E+00  6.00000000E+00  6.00000000E+00  6.00000000E+00  6.00000000E+00\n",
      "      6.00000000E+00  6.00000000E+00  1.00000000E+00  1.00000000E+00  1.00000000E+00\n",
      "      1.00000000E+00  1.00000000E+00  1.00000000E+00  1.00000000E+00  1.00000000E+00\n",
      "      1.00000000E+00  1.00000000E+00  1.00000000E+00  1.00000000E+00\n",
      "    Nuclear QMom                               R   N=          34\n",
      "      0.00000000E+00  0.00000000E+00  0.00000000E+00  0.00000000E+00  0.00000000E+00\n",
      "      0.00000000E+00  0.00000000E+00  0.00000000E+00  0.00000000E+00  0.00000000E+00\n",
      "      0.00000000E+00  0.00000000E+00  0.00000000E+00  0.00000000E+00  0.00000000E+00\n",
      "      0.00000000E+00  0.00000000E+00  0.00000000E+00  0.00000000E+00  0.00000000E+00\n",
      "      0.00000000E+00  0.00000000E+00  0.00000000E+00  0.00000000E+00  0.00000000E+00\n",
      "      0.00000000E+00  0.00000000E+00  0.00000000E+00  0.00000000E+00  0.00000000E+00\n",
      "      0.00000000E+00  0.00000000E+00  0.00000000E+00  0.00000000E+00\n",
      "    Nuclear GFac                               R   N=          34\n",
      "      0.00000000E+00  0.00000000E+00  0.00000000E+00  0.00000000E+00  0.00000000E+00\n",
      "      0.00000000E+00  0.00000000E+00  0.00000000E+00  0.00000000E+00  0.00000000E+00\n",
      "      0.00000000E+00  0.00000000E+00  0.00000000E+00  0.00000000E+00  0.00000000E+00\n",
      "      0.00000000E+00  0.00000000E+00  0.00000000E+00  0.00000000E+00  0.00000000E+00\n",
      "      0.00000000E+00  0.00000000E+00  2.79284600E+00  2.79284600E+00  2.79284600E+00\n",
      "      2.79284600E+00  2.79284600E+00  2.79284600E+00  2.79284600E+00  2.79284600E+00\n",
      "      2.79284600E+00  2.79284600E+00  2.79284600E+00  2.79284600E+00\n",
      "    MicOpt                                     I   N=          34\n",
      "              -1          -1          -1          -1          -1          -1\n",
      "              -1          -1          -1          -1          -1          -1\n",
      "              -1          -1          -1          -1          -1          -1\n",
      "              -1          -1          -1          -1          -1          -1\n",
      "              -1          -1          -1          -1          -1          -1\n",
      "              -1          -1          -1          -1\n",
      "    Number of contracted shells                I              112\n",
      "    Number of primitive shells                 I              290\n",
      "    Pure/Cartesian d shells                    I                1\n",
      "    Pure/Cartesian f shells                    I                0\n",
      "    Highest angular momentum                   I                2\n",
      "    Largest degree of contraction              I                6\n",
      "    S"
     ]
    },
    {
     "cell_type": "markdown",
     "metadata": {
      "slideshow": {
       "slide_type": "subslide"
      }
     },
     "source": [
      "Can extract a small subset of data using the GUI tools but people generally either grep and paste into excel/libreoffice or if they are more advanced write custom bash scripts combining grep/awk/sed to generate plane text data files that can be fed into a plotting library like gnuplot/xmgrace/etc."
     ]
    },
    {
     "cell_type": "heading",
     "level": 3,
     "metadata": {
      "slideshow": {
       "slide_type": "slide"
      }
     },
     "source": [
      "Culture"
     ]
    },
    {
     "cell_type": "markdown",
     "metadata": {
      "slideshow": {
       "slide_type": "fragment"
      }
     },
     "source": [
      "Overview of literature description of calculcations. \n",
      "\n",
      "Overview of additional materials e.g. structure coordinates, input files or the lack there of\n",
      "\n",
      "Reference to the variation of difficulty repeating calculations - can be easy or, can be a nightmare due to hidden gotchas (are your wavefunctions stable??)."
     ]
    },
    {
     "cell_type": "heading",
     "level": 3,
     "metadata": {
      "slideshow": {
       "slide_type": "slide"
      }
     },
     "source": [
      "Summary of Problems"
     ]
    },
    {
     "cell_type": "markdown",
     "metadata": {
      "slideshow": {
       "slide_type": "fragment"
      }
     },
     "source": [
      "Legacy quantum chemistry codes dominate quantum cehmical research due to large amount research and development poured into them and hence the wide range of methods they have available. \n",
      "\n",
      "However individual research workflows using them are less efficient than they might be.\n",
      "\n",
      "Despite progress there is still an unnecessary technical barrier to performing calculations.\n",
      "\n",
      "Exchange of information in the scientific literature is limited by both the culture and the toolset commonly used.\n",
      "\n",
      "Involvement of quantum chemistry in interdisciplionary fields is slowed by the lack of a quantum chemical api."
     ]
    },
    {
     "cell_type": "heading",
     "level": 2,
     "metadata": {
      "slideshow": {
       "slide_type": "slide"
      }
     },
     "source": [
      "So how can Python Help?"
     ]
    },
    {
     "cell_type": "markdown",
     "metadata": {
      "slideshow": {
       "slide_type": "fragment"
      }
     },
     "source": [
      "Replace medieval practices of writing elaborate text files and aneurism inducing output files by wrapping both input file creation and data extraction in Python. Increasing efficiency of individual researchers and reducing the barrier to truly collaborative interdiscplinary projects.\n",
      "\n",
      "Run calculations inside a notebook hence offering an implicitly curated store of the data. Allowing individuals to better understand and reuse previous results and more easily build upon the work of others."
     ]
    },
    {
     "cell_type": "markdown",
     "metadata": {
      "slideshow": {
       "slide_type": "notes"
      }
     },
     "source": [
      "If you're going to have a black box make it a pretty black box."
     ]
    },
    {
     "cell_type": "heading",
     "level": 2,
     "metadata": {
      "slideshow": {
       "slide_type": "slide"
      }
     },
     "source": [
      "APIs used:"
     ]
    },
    {
     "cell_type": "markdown",
     "metadata": {
      "slideshow": {
       "slide_type": "fragment"
      }
     },
     "source": [
      "**ASE**\n",
      "\n",
      "ASE is an Atomistic Simulation Environment written in the Python programming language with the aim of setting up, steering, and analyzing atomistic simulations.\n",
      "\n",
      "S. R. Bahn and K. W. Jacobsen An object-oriented scripting interface to a legacy electronic structure code, Comput. Sci. Eng., Vol. 4, 56-66, 2002"
     ]
    },
    {
     "cell_type": "code",
     "collapsed": false,
     "input": [
      "from ase import Atoms\n",
      "d = 1.10\n",
      "molecule = Atoms('2N', positions=[(0., 0., 0.), (0., 0., d)])"
     ],
     "language": "python",
     "metadata": {
      "slideshow": {
       "slide_type": "fragment"
      }
     },
     "outputs": []
    },
    {
     "cell_type": "code",
     "collapsed": false,
     "input": [
      "from ase.calculators.emt import EMT\n",
      "slab.set_calculator(EMT())\n",
      "molecule.set_calculator(EMT())"
     ],
     "language": "python",
     "metadata": {
      "slideshow": {
       "slide_type": "fragment"
      }
     },
     "outputs": []
    },
    {
     "cell_type": "code",
     "collapsed": false,
     "input": [
      "from ase import Atoms\n",
      "from ase.visualize import view\n",
      "from ase.calculators.emt import EMT\n",
      "from ase.constraints import FixAtoms\n",
      "from ase.optimize import QuasiNewton\n",
      "from ase.lattice.surface import fcc111,add_adsorbate\n",
      "\n",
      "h = 1.85\n",
      "d = 1.10\n",
      "\n",
      "slab = fcc111('Cu', size=(4,4,2), vacuum=10.0)\n",
      "\n",
      "slab.set_calculator(EMT())\n",
      "e_slab = slab.get_potential_energy()\n",
      "\n",
      "molecule = Atoms('2N', positions=[(0., 0., 0.), (0., 0., d)])\n",
      "molecule.set_calculator(EMT())\n",
      "e_N2 = molecule.get_potential_energy()\n",
      "\n",
      "add_adsorbate(slab, molecule, h, 'ontop')\n",
      "constraint = FixAtoms(mask=[a.symbol != 'N' for a in slab])\n",
      "slab.set_constraint(constraint)\n",
      "dyn = QuasiNewton(slab, trajectory='N2Cu.traj')\n",
      "dyn.run(fmax=0.05)\n",
      "\n",
      "print('Adsorption energy:', e_slab + e_N2 - slab.get_potential_energy())\n",
      "\n",
      "#view(slab)"
     ],
     "language": "python",
     "metadata": {
      "slideshow": {
       "slide_type": "fragment"
      }
     },
     "outputs": [
      {
       "output_type": "stream",
       "stream": "stdout",
       "text": [
        "BFGSLineSearch:   0[  0]  17:19:55       11.689925       1.0797\n"
       ]
      },
      {
       "output_type": "stream",
       "stream": "stdout",
       "text": [
        "BFGSLineSearch:   1[  2]  17:19:55       11.670813       0.4090\n"
       ]
      },
      {
       "output_type": "stream",
       "stream": "stdout",
       "text": [
        "BFGSLineSearch:   2[  4]  17:19:55       11.625878       0.0409\n"
       ]
      },
      {
       "output_type": "stream",
       "stream": "stdout",
       "text": [
        "('Adsorption energy:', 0.32351907872451413)\n"
       ]
      }
     ],
     "prompt_number": 38
    },
    {
     "cell_type": "markdown",
     "metadata": {
      "slideshow": {
       "slide_type": "subslide"
      }
     },
     "source": [
      "ASE offers partial wrapping of the input of ab initio quantum chemical packages. Philosophy is to allow multiple distinct packages to be used to compute energies, and gradients, and some other basic properties often used in conjunction with ASE's optimisation routines.\n",
      "\n",
      "Workflow is production of a script making use of ASE's machinary. Script is either run locally or submitted to a computing cluster."
     ]
    },
    {
     "cell_type": "markdown",
     "metadata": {
      "slideshow": {
       "slide_type": "slide"
      }
     },
     "source": [
      "**cclib**\n",
      "\n",
      "A parsing library for quantum chemical output files by Noel O'Boyle, Adam Tenderholt, Karol Langner and others.\n",
      "\n",
      "N. M. O'Boyle, A. L. Tenderholt, K. M. Langner, cclib: a library for package-independent computational chemistry algorithms, J. Comp. Chem. 29 (5), pp. 839-845, 2008 (DOI)."
     ]
    },
    {
     "cell_type": "code",
     "collapsed": false,
     "input": [
      "from cclib.parser import ADF, GAMESS, GAMESSUK, Gaussian, Molpro, Jaguar\n",
      "myfile = Gaussian(\"triang_graphene.log\")\n",
      "raw_data = myfile.parse()\n",
      "data = raw_data.getattributes()\n",
      "data.keys()"
     ],
     "language": "python",
     "metadata": {
      "slideshow": {
       "slide_type": "subslide"
      }
     },
     "outputs": [
      {
       "output_type": "stream",
       "stream": "stdout",
       "text": [
        "[Gaussian triang_graphene.log INFO] Creating attribute charge: 0\n"
       ]
      },
      {
       "output_type": "stream",
       "stream": "stdout",
       "text": [
        "[Gaussian triang_graphene.log INFO] Creating attribute mult: 1\n"
       ]
      },
      {
       "output_type": "stream",
       "stream": "stdout",
       "text": [
        "[Gaussian triang_graphene.log INFO] Creating attribute natom: 34\n"
       ]
      },
      {
       "output_type": "stream",
       "stream": "stdout",
       "text": [
        "[Gaussian triang_graphene.log INFO] Creating attribute atommasses[]\n"
       ]
      },
      {
       "output_type": "stream",
       "stream": "stdout",
       "text": [
        "[Gaussian triang_graphene.log INFO] Creating attribute atomnos[]\n"
       ]
      },
      {
       "output_type": "stream",
       "stream": "stdout",
       "text": [
        "[Gaussian triang_graphene.log INFO] Creating attribute atomcoords[]\n"
       ]
      },
      {
       "output_type": "stream",
       "stream": "stdout",
       "text": [
        "[Gaussian triang_graphene.log INFO] Creating attribute nbasis: 354\n"
       ]
      },
      {
       "output_type": "stream",
       "stream": "stdout",
       "text": [
        "[Gaussian triang_graphene.log INFO] Creating attribute nmo: 354\n"
       ]
      },
      {
       "output_type": "stream",
       "stream": "stdout",
       "text": [
        "[Gaussian triang_graphene.log INFO] Creating attribute scftargets[]\n"
       ]
      },
      {
       "output_type": "stream",
       "stream": "stdout",
       "text": [
        "[Gaussian triang_graphene.log INFO] Creating attribute scfvalues[]\n"
       ]
      },
      {
       "output_type": "stream",
       "stream": "stdout",
       "text": [
        "[Gaussian triang_graphene.log INFO] Creating attribute scfenergies[]\n"
       ]
      },
      {
       "output_type": "stream",
       "stream": "stdout",
       "text": [
        "[Gaussian triang_graphene.log INFO] Creating attribute mosyms[]\n"
       ]
      },
      {
       "output_type": "stream",
       "stream": "stdout",
       "text": [
        "[Gaussian triang_graphene.log INFO] Creating attribute homos[]\n"
       ]
      },
      {
       "output_type": "stream",
       "stream": "stdout",
       "text": [
        "[Gaussian triang_graphene.log INFO] Creating attribute moenergies[]\n"
       ]
      },
      {
       "output_type": "stream",
       "stream": "stdout",
       "text": [
        "[Gaussian triang_graphene.log INFO] Creating attribute atomcharges: {}\n"
       ]
      },
      {
       "output_type": "stream",
       "stream": "stdout",
       "text": [
        "[Gaussian triang_graphene.log INFO] Creating attribute coreelectrons[]\n"
       ]
      },
      {
       "metadata": {},
       "output_type": "pyout",
       "prompt_number": 31,
       "text": [
        "['moenergies',\n",
        " 'coreelectrons',\n",
        " 'atomnos',\n",
        " 'atomcoords',\n",
        " 'scfvalues',\n",
        " 'scfenergies',\n",
        " 'atommasses',\n",
        " 'charge',\n",
        " 'homos',\n",
        " 'scftargets',\n",
        " 'nbasis',\n",
        " 'natom',\n",
        " 'nmo',\n",
        " 'mosyms',\n",
        " 'atomcharges',\n",
        " 'mult']"
       ]
      }
     ],
     "prompt_number": 31
    },
    {
     "cell_type": "code",
     "collapsed": false,
     "input": [
      "data['scfvalues'][0][0:30]"
     ],
     "language": "python",
     "metadata": {
      "slideshow": {
       "slide_type": "subslide"
      }
     },
     "outputs": [
      {
       "metadata": {},
       "output_type": "pyout",
       "prompt_number": 35,
       "text": [
        "array([[  6.90000000e-03,   1.80000000e-01,   1.00000000e+00],\n",
        "       [  4.06000000e-03,   1.22000000e-01,  -1.37000000e-01],\n",
        "       [  3.90000000e-03,   1.79000000e-01,   5.51000000e-02],\n",
        "       [  1.88000000e-03,   5.51000000e-02,   3.03000000e-01],\n",
        "       [  2.94000000e-03,   1.15000000e-01,  -5.27000000e-01],\n",
        "       [  2.90000000e-03,   9.66000000e-02,  -5.38000000e-03],\n",
        "       [  2.13000000e-03,   6.95000000e-02,  -5.40000000e-02],\n",
        "       [  2.80000000e-03,   9.27000000e-02,   1.75000000e-02],\n",
        "       [  2.21000000e-03,   7.05000000e-02,   6.87000000e-03],\n",
        "       [  3.47000000e-03,   2.01000000e-01,   1.99000000e-04],\n",
        "       [  2.16000000e-03,   6.48000000e-02,  -2.22000000e-02],\n",
        "       [  2.02000000e-03,   6.90000000e-02,   5.59000000e-02],\n",
        "       [  2.55000000e-03,   8.08000000e-02,  -7.20000000e-03],\n",
        "       [  1.97000000e-03,   7.25000000e-02,  -4.37000000e-02],\n",
        "       [  1.96000000e-04,   8.05000000e-03,   1.41000000e-02],\n",
        "       [  2.20000000e-03,   7.16000000e-02,  -5.66000000e-03],\n",
        "       [  5.22000000e-04,   1.94000000e-02,  -2.24000000e-02],\n",
        "       [  2.37000000e-03,   8.03000000e-02,   3.76000000e-04],\n",
        "       [  2.50000000e-04,   8.08000000e-03,   1.53000000e-02],\n",
        "       [  5.93000000e-05,   1.88000000e-03,   4.13000000e-03],\n",
        "       [  5.69000000e-05,   2.01000000e-03,  -8.60000000e-04],\n",
        "       [  2.52000000e-03,   9.31000000e-02,   1.27000000e-03],\n",
        "       [  3.23000000e-04,   9.89000000e-03,   8.24000000e-02],\n",
        "       [  3.98000000e-04,   1.39000000e-02,  -5.45000000e-02],\n",
        "       [  2.41000000e-04,   7.75000000e-03,  -1.16000000e-02],\n",
        "       [  2.70000000e-03,   8.55000000e-02,  -2.72000000e-03],\n",
        "       [  2.51000000e-03,   7.81000000e-02,  -3.64000000e-02],\n",
        "       [  2.42000000e-03,   7.66000000e-02,   3.69000000e-02],\n",
        "       [  2.11000000e-03,   7.07000000e-02,  -3.83000000e-02],\n",
        "       [  2.88000000e-03,   9.15000000e-02,   1.94000000e-02]])"
       ]
      }
     ],
     "prompt_number": 35
    },
    {
     "cell_type": "markdown",
     "metadata": {
      "slideshow": {
       "slide_type": "subslide"
      }
     },
     "source": [
      "**Molmod**\n",
      "\n",
      "Molecular modelling toolkit offering topological analysis of molecules and an fchk parser:"
     ]
    },
    {
     "cell_type": "code",
     "collapsed": false,
     "input": [
      "from molmod.io import FCHKFile\n",
      "\n",
      "fchk_parser=FCHKFile('triang_graphene.fchk')\n",
      "fchk_parser.fields.keys()"
     ],
     "language": "python",
     "metadata": {
      "slideshow": {
       "slide_type": "fragment"
      }
     },
     "outputs": [
      {
       "metadata": {},
       "output_type": "pyout",
       "prompt_number": 40,
       "text": [
        "['P(S=P) Contraction coefficients',\n",
        " 'Alpha Orbital Energies',\n",
        " 'Mulliken Charges',\n",
        " 'Atom Modifiers',\n",
        " 'Alpha MO coefficients',\n",
        " 'Number of basis functions',\n",
        " 'Dipole Moment',\n",
        " 'Num ILSW',\n",
        " 'Shell to atom map',\n",
        " 'ILSW',\n",
        " 'Charge',\n",
        " 'MM charges',\n",
        " 'Atom residue num',\n",
        " 'Contraction coefficients',\n",
        " 'MicOpt',\n",
        " 'Virial Ratio',\n",
        " 'Int Atom Types',\n",
        " 'IOpCl',\n",
        " 'Nuclear ZEff',\n",
        " 'ONIOM Charges',\n",
        " 'Int Atom Modified Types',\n",
        " 'Atom Layers',\n",
        " 'Force Field',\n",
        " 'Number of point charges in /Mol/',\n",
        " 'Link Atoms',\n",
        " 'Current cartesian coordinates',\n",
        " 'Pure/Cartesian f shells',\n",
        " 'Constraint Structure',\n",
        " 'ONIOM Multiplicities',\n",
        " 'Number of electrons',\n",
        " 'Atom Modified MM Charges',\n",
        " 'Nuclear QMom',\n",
        " 'Shell types',\n",
        " 'Primitive exponents',\n",
        " 'RBond',\n",
        " 'Number of beta electrons',\n",
        " 'Multiplicity',\n",
        " 'MxBond',\n",
        " 'Total SCF Density',\n",
        " 'Number of independent functions',\n",
        " 'SCF Energy',\n",
        " 'Number of primitive shells',\n",
        " 'Num RLSW',\n",
        " 'Nuclear charges',\n",
        " 'External E-field',\n",
        " 'Number of primitives per shell',\n",
        " 'Highest angular momentum',\n",
        " 'NBond',\n",
        " 'Integer atomic weights',\n",
        " 'IROHF',\n",
        " 'Nuclear spins',\n",
        " 'Quadrupole Moment',\n",
        " 'Number of atoms',\n",
        " 'RLSW',\n",
        " 'Cartesian Gradient',\n",
        " 'Link Distances',\n",
        " 'Atomic numbers',\n",
        " 'Coordinates of each shell',\n",
        " 'Largest degree of contraction',\n",
        " 'IBond',\n",
        " 'QEq coupling tensors',\n",
        " 'Number of alpha electrons',\n",
        " 'Number of contracted shells',\n",
        " 'Info1-9',\n",
        " 'Atom fragment info',\n",
        " 'Nuclear ZNuc',\n",
        " 'Pure/Cartesian d shells',\n",
        " 'Number of translation vectors',\n",
        " 'Real atomic weights',\n",
        " 'Nuclear GFac',\n",
        " 'Total Energy',\n",
        " 'RMS Density']"
       ]
      }
     ],
     "prompt_number": 40
    },
    {
     "cell_type": "markdown",
     "metadata": {
      "slideshow": {
       "slide_type": "subslide"
      }
     },
     "source": [
      "**IPython Notebook**\n",
      "\n",
      "Python + HTML + Javascript"
     ]
    },
    {
     "cell_type": "markdown",
     "metadata": {
      "slideshow": {
       "slide_type": "fragment"
      }
     },
     "source": [
      "<img src='files/ipy-notebook-notebook.png'></img>"
     ]
    },
    {
     "cell_type": "markdown",
     "metadata": {
      "slideshow": {
       "slide_type": "subslide"
      }
     },
     "source": [
      "Glue code:"
     ]
    },
    {
     "cell_type": "markdown",
     "metadata": {
      "slideshow": {
       "slide_type": "fragment"
      }
     },
     "source": [
      "**JMol**\n",
      "\n",
      "Java app/javascript based molecular visualisation."
     ]
    },
    {
     "cell_type": "code",
     "collapsed": false,
     "input": [
      "from IPython.core.display import HTML\n",
      "\n",
      "with open('jsmol.html') as jsmol_f:\n",
      "    jsmol_c = jsmol_f.read()\n",
      "    \n",
      "HTML(jsmol_c)"
     ],
     "language": "python",
     "metadata": {},
     "outputs": [
      {
       "html": [
        "DOCTYPE html>\n",
        "<html>\n",
        "<title>A simple Jsmol example</title>\n",
        "<head>\n",
        "<script type=\"text/javascript\" src=\"jsmol/JSmoljQuery.js\"></script>\n",
        "<script type=\"text/javascript\" src=\"jsmol/JSmolCore.js\"></script>\n",
        "<script type=\"text/javascript\" src=\"jsmol/JSmolApplet.js\"></script>\n",
        "<script type=\"text/javascript\" src=\"jsmol/JSmolApi.js\"></script>\n",
        "<script type=\"text/javascript\" src=\"jsmol/j2s/j2sjmol.js\"></script>\n",
        "<script type=\"text/javascript\" src=\"jsmol/JSmol.js\"></script>\n",
        "<!-- // following two only necessary for WebGL version: -->\n",
        "<script type=\"text/javascript\" src=\"jsmol/JSmolThree.js\"></script>\n",
        "<script type=\"text/javascript\" src=\"jsmol/JSmolGLmol.js\"></script>\n",
        " \n",
        "<script type=\"text/javascript\">\n",
        "var Info = {\n",
        "  width: 300,\n",
        "  height: 300,\n",
        "//  serverURL: \"http://chemapps.stolaf.edu/jmol/jsmol/jsmol.php \",\n",
        "  serverURL: \"http://propka.ki.ku.dk/~jhjensen/jsmol/jsmol.php \",\n",
        "  use: \"HTML5\",\n",
        "  j2sPath: \"jsmol/j2s\",\n",
        "  console: \"jmolApplet0_infodiv\"\n",
        "}\n",
        "</script>\n",
        "</head>\n",
        "<body>\n",
        "<script type=\"text/javascript\">\n",
        "  jmolApplet0 = Jmol.getApplet(\"jmolApplet0\", Info);\n",
        "  Jmol.script(jmolApplet0,\"background black;load caffeine.xyz\")\n",
        "</script>\n",
        "<br>\n",
        "<a href=\"javascript:Jmol.script(jmolApplet0,'spin on')\">spin</a>\n",
        "<a href=\"javascript:Jmol.script(jmolApplet0,'spin off')\">off</a>\n",
        "</body>\n"
       ],
       "metadata": {},
       "output_type": "pyout",
       "prompt_number": 45,
       "text": [
        "<IPython.core.display.HTML at 0x5350f90>"
       ]
      }
     ],
     "prompt_number": 45
    },
    {
     "cell_type": "markdown",
     "metadata": {
      "slideshow": {
       "slide_type": "fragment"
      }
     },
     "source": [
      "**pbs_util + a little bit of hacking**\n",
      "\n",
      "PBS based execution of jobs from within a notebook"
     ]
    },
    {
     "cell_type": "markdown",
     "metadata": {
      "slideshow": {
       "slide_type": "fragment"
      }
     },
     "source": [
      "**pygaus + cc_notebook utils**\n",
      "\n",
      "A complete Gaussian calculator to replace the ASE skeleton\n",
      "Optional remote running of the calculcations on pbs\n",
      "Combination of parsers for log main body, log machine readable tail and fchk into the calculator.\n",
      "Utility functions to check the status of remote calculcations and smoothly move files output files across the network.\n",
      "Small javascript fragements allowing remote access to "
     ]
    },
    {
     "cell_type": "heading",
     "level": 3,
     "metadata": {
      "slideshow": {
       "slide_type": "slide"
      }
     },
     "source": [
      "Quantum Chemical Notebook"
     ]
    },
    {
     "cell_type": "markdown",
     "metadata": {
      "slideshow": {
       "slide_type": "fragment"
      }
     },
     "source": [
      "Added together we can create a quantum chemical api (initially with Gaussian) and run all calculations and analysis inside from notebooks.\n",
      "\n",
      "Once we can generate the data and access data we can leverage the entire python scientific stack for further analysis and visualisation."
     ]
    },
    {
     "cell_type": "heading",
     "level": 3,
     "metadata": {
      "slideshow": {
       "slide_type": "slide"
      }
     },
     "source": [
      "Notebooks in action."
     ]
    },
    {
     "cell_type": "code",
     "collapsed": false,
     "input": [
      "from cc_notebook_utils import *"
     ],
     "language": "python",
     "metadata": {
      "slideshow": {
       "slide_type": "subslide"
      }
     },
     "outputs": [],
     "prompt_number": 2
    },
    {
     "cell_type": "code",
     "collapsed": false,
     "input": [
      "tri_graph_init, tri_graph_small_init = 'triang_graphene.xyz', 'triang_graphene_small.xyz'\n",
      "view_ipython_jmol([tri_graph_small_init,tri_graph_init], width=550, height=550)"
     ],
     "language": "python",
     "metadata": {
      "slideshow": {
       "slide_type": "-"
      }
     },
     "outputs": [],
     "prompt_number": 5
    },
    {
     "cell_type": "markdown",
     "metadata": {},
     "source": [
      "The small graphene unit has 13 carbons hence an odd number of p electrons so we will focus on the larger fragment (which was the one causing us problems in the first place). As we expect this to fail we will also try using the scf='xqc' keyword:"
     ]
    },
    {
     "cell_type": "markdown",
     "metadata": {
      "slideshow": {
       "slide_type": "subslide"
      }
     },
     "source": [
      "Try the normal a single point calculation at the geometry given by avogadro's forcefield optimisation:"
     ]
    },
    {
     "cell_type": "code",
     "collapsed": false,
     "input": [
      "b3lyp_tri = read(tri_graph_init)\n",
      "b3lyp_tri.set_calculator(Gaussian(label='triang_graphene', method='B3LYP', basis='6-31G(d)'))\n",
      "b3lyp_tri.calc.set_job(nodes=16, memory=16*2000, time=5, queue='pqmb')\n",
      "#b3lyp_tri.calc.start()"
     ],
     "language": "python",
     "metadata": {},
     "outputs": [],
     "prompt_number": 6
    },
    {
     "cell_type": "code",
     "collapsed": false,
     "input": [
      "b3lyp_tri_xqc = read(tri_graph_init)\n",
      "b3lyp_tri_xqc.set_calculator(Gaussian(label='triang_graphene_xqc', method='B3LYP', basis='6-31G(d)', scf='xqc'))\n",
      "b3lyp_tri_xqc.calc.set_job(nodes=16, memory=16*2000, time=5, queue='pqmb')\n",
      "b3lyp_tri_xqc.calc.description = 'RB3LYP'\n",
      "#b3lyp_tri_xqc.calc.start()"
     ],
     "language": "python",
     "metadata": {},
     "outputs": [],
     "prompt_number": 7
    },
    {
     "cell_type": "code",
     "collapsed": false,
     "input": [
      "check_calcs([b3lyp_tri, b3lyp_tri_xqc])\n",
      "mols_to_html([b3lyp_tri, b3lyp_tri_xqc])"
     ],
     "language": "python",
     "metadata": {},
     "outputs": [
      {
       "html": [
        "\n",
        "           <script type=\"text/javascript\">\n",
        "           function view_function (event, file_n) {\n",
        "               if (event.ctrlKey && event.shiftKey){\n",
        "                   IPython.notebook.kernel.execute(\"cc_notebook_utils.pygview('\" + file_n + \".log')\");\n",
        "               }\n",
        "               else if (event.ctrlKey){\n",
        "                   IPython.notebook.kernel.execute(\"cc_notebook_utils.pygausssum('\" + file_n + \".log')\");\n",
        "               }\n",
        "               else if (event.shiftKey){\n",
        "                   IPython.notebook.kernel.execute(\"cc_notebook_utils.pyvogadro('\" + file_n + \".log')\");\n",
        "               }\n",
        "               else {\n",
        "                   IPython.notebook.kernel.execute(\"cc_notebook_utils.pyvim('\" + file_n + \".log')\");\n",
        "                   IPython.notebook.kernel.execute(\"print(file_n)\");\n",
        "               }\n",
        "           }\n",
        "           </script>\n",
        "    <style>\n",
        "    table\n",
        "    {\n",
        "        border-collapse:collapse;\n",
        "    }\n",
        "    td\n",
        "    {\n",
        "        padding:15px;\n",
        "    }\n",
        "    </style>\n",
        "    <body>\n",
        "    <table bgcolor=\"white\">\n",
        "    <col/><tr><td>triang_graphene</td><td><a href = \"files/triang_graph/triang_graphene.com\" target = \"_blank\">com</a></td><td><input type=\"button\" value=\"Smart Log\" id=\"triang_graphene\" onclick=\"view_function(event, this.id)\" /></td><td>Error: Convergence failure -- run terminated.</td></tr><tr><td>triang_graphene_xqc</td><td><a href = \"files/triang_graph/triang_graphene_xqc.com\" target = \"_blank\">com</a></td><td><input type=\"button\" value=\"Smart Log\" id=\"triang_graphene_xqc\" onclick=\"view_function(event, this.id)\" /></td><td>Success</td></tr>\n",
        "    </table>\n",
        "    </body>"
       ],
       "metadata": {},
       "output_type": "pyout",
       "prompt_number": 8,
       "text": [
        "<IPython.core.display.HTML at 0x3c97a90>"
       ]
      }
     ],
     "prompt_number": 8
    },
    {
     "cell_type": "markdown",
     "metadata": {
      "slideshow": {
       "slide_type": "subslide"
      }
     },
     "source": [
      "As before the xqc option allows the scf to converge whereas it fails without it. But is it stable?"
     ]
    },
    {
     "cell_type": "code",
     "collapsed": false,
     "input": [
      "b3lyp_tri_stable = copy.deepcopy(b3lyp_tri_xqc)\n",
      "b3lyp_tri_stable.calc.restart(add_label='stable', stable='opt')\n",
      "b3lyp_tri_stable.calc.description = 'RB3LYP, stable=opt'\n",
      "#b3lyp_tri_xqc.calc.start()"
     ],
     "language": "python",
     "metadata": {},
     "outputs": [],
     "prompt_number": 9
    },
    {
     "cell_type": "code",
     "collapsed": false,
     "input": [
      "check_calcs([b3lyp_tri_stable])\n",
      "mols_to_html([b3lyp_tri_stable])"
     ],
     "language": "python",
     "metadata": {},
     "outputs": [
      {
       "html": [
        "\n",
        "           <script type=\"text/javascript\">\n",
        "           function view_function (event, file_n) {\n",
        "               if (event.ctrlKey && event.shiftKey){\n",
        "                   IPython.notebook.kernel.execute(\"cc_notebook_utils.pygview('\" + file_n + \".log')\");\n",
        "               }\n",
        "               else if (event.ctrlKey){\n",
        "                   IPython.notebook.kernel.execute(\"cc_notebook_utils.pygausssum('\" + file_n + \".log')\");\n",
        "               }\n",
        "               else if (event.shiftKey){\n",
        "                   IPython.notebook.kernel.execute(\"cc_notebook_utils.pyvogadro('\" + file_n + \".log')\");\n",
        "               }\n",
        "               else {\n",
        "                   IPython.notebook.kernel.execute(\"cc_notebook_utils.pyvim('\" + file_n + \".log')\");\n",
        "                   IPython.notebook.kernel.execute(\"print(file_n)\");\n",
        "               }\n",
        "           }\n",
        "           </script>\n",
        "    <style>\n",
        "    table\n",
        "    {\n",
        "        border-collapse:collapse;\n",
        "    }\n",
        "    td\n",
        "    {\n",
        "        padding:15px;\n",
        "    }\n",
        "    </style>\n",
        "    <body>\n",
        "    <table bgcolor=\"white\">\n",
        "    <col/><tr><td>triang_graphene_xqc_stable_restart_1</td><td><a href = \"files/triang_graph/triang_graphene_xqc_stable_restart_1.com\" target = \"_blank\">com</a></td><td><input type=\"button\" value=\"Smart Log\" id=\"triang_graphene_xqc_stable_restart_1\" onclick=\"view_function(event, this.id)\" /></td><td>Success</td></tr>\n",
        "    </table>\n",
        "    </body>"
       ],
       "metadata": {},
       "output_type": "pyout",
       "prompt_number": 10,
       "text": [
        "<IPython.core.display.HTML at 0x3c97d50>"
       ]
      }
     ],
     "prompt_number": 10
    },
    {
     "cell_type": "markdown",
     "metadata": {},
     "source": [
      "<font size=3 color=red>RHF -> UHF instability</font>"
     ]
    },
    {
     "cell_type": "code",
     "collapsed": false,
     "input": [
      "b3lyp_tri_stable.calc.max_data['S2A'], b3lyp_tri_stable.calc.energy_zero - b3lyp_tri_xqc.calc.energy_zero"
     ],
     "language": "python",
     "metadata": {},
     "outputs": [
      {
       "metadata": {},
       "output_type": "pyout",
       "prompt_number": 11,
       "text": [
        "(0.317148, -0.7297606509673642)"
       ]
      }
     ],
     "prompt_number": 11
    },
    {
     "cell_type": "markdown",
     "metadata": {
      "slideshow": {
       "slide_type": "subslide"
      }
     },
     "source": [
      "But 22 carbons therefore 22 p electrons = 4n+2 so we would have expected paired electrons? No [Huckel's rule](http://en.wikipedia.org/wiki/H%C3%BCckel's_rule) only applies to single ring systems in fact the symmetric geometry is at a conical intersection see: [Mike's paper on this system](http://www.sciencedirect.com/science/article/pii/S1010603007002390)"
     ]
    },
    {
     "cell_type": "markdown",
     "metadata": {},
     "source": [
      "Let's try unrestricted calculations:"
     ]
    },
    {
     "cell_type": "code",
     "collapsed": false,
     "input": [
      "b3lyp_tri_v2 = read(tri_graph_init)\n",
      "b3lyp_tri_v2.set_calculator(Gaussian(label='triang_graphene_v2', method='UB3LYP', basis='6-31G(d)'))\n",
      "b3lyp_tri_v2.calc.set_job(nodes=16, memory=16*2000, time=5)\n",
      "b3lyp_tri_v2.calc.description = 'UB3LYP, mult=1'\n",
      "#b3lyp_tri_v2.calc.start()"
     ],
     "language": "python",
     "metadata": {},
     "outputs": [],
     "prompt_number": 12
    },
    {
     "cell_type": "code",
     "collapsed": false,
     "input": [
      "b3lyp_tri_xqc_v2 = read(tri_graph_init)\n",
      "b3lyp_tri_xqc_v2.set_calculator(Gaussian(label='triang_graphene_xqc_v2', method='UB3LYP', basis='6-31G(d)', scf='xqc'))\n",
      "b3lyp_tri_xqc_v2.calc.set_job(nodes=16, memory=16*2000, time=5)\n",
      "#b3lyp_tri_xqc_v2.calc.start()"
     ],
     "language": "python",
     "metadata": {},
     "outputs": [],
     "prompt_number": 13
    },
    {
     "cell_type": "code",
     "collapsed": false,
     "input": [
      "check_calcs([b3lyp_tri_v2, b3lyp_tri_xqc_v2])\n",
      "mols_to_html([b3lyp_tri_v2, b3lyp_tri_xqc_v2])"
     ],
     "language": "python",
     "metadata": {},
     "outputs": [
      {
       "html": [
        "\n",
        "           <script type=\"text/javascript\">\n",
        "           function view_function (event, file_n) {\n",
        "               if (event.ctrlKey && event.shiftKey){\n",
        "                   IPython.notebook.kernel.execute(\"cc_notebook_utils.pygview('\" + file_n + \".log')\");\n",
        "               }\n",
        "               else if (event.ctrlKey){\n",
        "                   IPython.notebook.kernel.execute(\"cc_notebook_utils.pygausssum('\" + file_n + \".log')\");\n",
        "               }\n",
        "               else if (event.shiftKey){\n",
        "                   IPython.notebook.kernel.execute(\"cc_notebook_utils.pyvogadro('\" + file_n + \".log')\");\n",
        "               }\n",
        "               else {\n",
        "                   IPython.notebook.kernel.execute(\"cc_notebook_utils.pyvim('\" + file_n + \".log')\");\n",
        "                   IPython.notebook.kernel.execute(\"print(file_n)\");\n",
        "               }\n",
        "           }\n",
        "           </script>\n",
        "    <style>\n",
        "    table\n",
        "    {\n",
        "        border-collapse:collapse;\n",
        "    }\n",
        "    td\n",
        "    {\n",
        "        padding:15px;\n",
        "    }\n",
        "    </style>\n",
        "    <body>\n",
        "    <table bgcolor=\"white\">\n",
        "    <col/><tr><td>triang_graphene_v2</td><td><a href = \"files/triang_graph/triang_graphene_v2.com\" target = \"_blank\">com</a></td><td><input type=\"button\" value=\"Smart Log\" id=\"triang_graphene_v2\" onclick=\"view_function(event, this.id)\" /></td><td>Success</td></tr><tr><td>triang_graphene_xqc_v2</td><td><a href = \"files/triang_graph/triang_graphene_xqc_v2.com\" target = \"_blank\">com</a></td><td><input type=\"button\" value=\"Smart Log\" id=\"triang_graphene_xqc_v2\" onclick=\"view_function(event, this.id)\" /></td><td>Success</td></tr>\n",
        "    </table>\n",
        "    </body>"
       ],
       "metadata": {},
       "output_type": "pyout",
       "prompt_number": 14,
       "text": [
        "<IPython.core.display.HTML at 0x3c97c50>"
       ]
      }
     ],
     "prompt_number": 14
    },
    {
     "cell_type": "code",
     "collapsed": false,
     "input": [
      "b3lyp_tri_v2.calc.max_data['S2A'], b3lyp_tri_v2.calc.energy_zero - b3lyp_tri_xqc.calc.energy_zero"
     ],
     "language": "python",
     "metadata": {},
     "outputs": [
      {
       "metadata": {},
       "output_type": "pyout",
       "prompt_number": 15,
       "text": [
        "(0.288534, -0.6896456114918692)"
       ]
      }
     ],
     "prompt_number": 15
    },
    {
     "cell_type": "markdown",
     "metadata": {
      "slideshow": {
       "slide_type": "subslide"
      }
     },
     "source": [
      "Is this stable?"
     ]
    },
    {
     "cell_type": "code",
     "collapsed": false,
     "input": [
      "b3lyp_tri_v2_stable = copy.deepcopy(b3lyp_tri_v2)\n",
      "b3lyp_tri_v2_stable.calc.restart(stable='opt')\n",
      "b3lyp_tri_v2_stable.calc.set_job(nodes=8, memory=8*1600, time=5)\n",
      "b3lyp_tri_v2_stable.calc.description = 'UB3LYP, mult=1, stable=opt'\n",
      "#b3lyp_tri_v2_stable.calc.start()\n",
      "check_calcs([b3lyp_tri_v2_stable])\n",
      "mols_to_html([b3lyp_tri_v2_stable])"
     ],
     "language": "python",
     "metadata": {},
     "outputs": [
      {
       "html": [
        "\n",
        "           <script type=\"text/javascript\">\n",
        "           function view_function (event, file_n) {\n",
        "               if (event.ctrlKey && event.shiftKey){\n",
        "                   IPython.notebook.kernel.execute(\"cc_notebook_utils.pygview('\" + file_n + \".log')\");\n",
        "               }\n",
        "               else if (event.ctrlKey){\n",
        "                   IPython.notebook.kernel.execute(\"cc_notebook_utils.pygausssum('\" + file_n + \".log')\");\n",
        "               }\n",
        "               else if (event.shiftKey){\n",
        "                   IPython.notebook.kernel.execute(\"cc_notebook_utils.pyvogadro('\" + file_n + \".log')\");\n",
        "               }\n",
        "               else {\n",
        "                   IPython.notebook.kernel.execute(\"cc_notebook_utils.pyvim('\" + file_n + \".log')\");\n",
        "                   IPython.notebook.kernel.execute(\"print(file_n)\");\n",
        "               }\n",
        "           }\n",
        "           </script>\n",
        "    <style>\n",
        "    table\n",
        "    {\n",
        "        border-collapse:collapse;\n",
        "    }\n",
        "    td\n",
        "    {\n",
        "        padding:15px;\n",
        "    }\n",
        "    </style>\n",
        "    <body>\n",
        "    <table bgcolor=\"white\">\n",
        "    <col/><tr><td>triang_graphene_v2_restart_1</td><td><a href = \"files/triang_graph/triang_graphene_v2_restart_1.com\" target = \"_blank\">com</a></td><td><input type=\"button\" value=\"Smart Log\" id=\"triang_graphene_v2_restart_1\" onclick=\"view_function(event, this.id)\" /></td><td>Success</td></tr>\n",
        "    </table>\n",
        "    </body>"
       ],
       "metadata": {},
       "output_type": "pyout",
       "prompt_number": 16,
       "text": [
        "<IPython.core.display.HTML at 0x40df6d0>"
       ]
      }
     ],
     "prompt_number": 16
    },
    {
     "cell_type": "markdown",
     "metadata": {},
     "source": [
      "No there was an 'internal instability'"
     ]
    },
    {
     "cell_type": "markdown",
     "metadata": {
      "slideshow": {
       "slide_type": "subslide"
      }
     },
     "source": [
      "We've been setting multiplicity to 1 but in this case the stability calculations reveal some net spin. Let's try running the calculation with mult=3:"
     ]
    },
    {
     "cell_type": "code",
     "collapsed": false,
     "input": [
      "b3lyp_tri_v3 = read(tri_graph_init)\n",
      "b3lyp_tri_v3.set_calculator(Gaussian(label='triang_graphene_v3', method='UB3LYP', basis='6-31G(d)', multiplicity=3))\n",
      "b3lyp_tri_v3.calc.set_job(nodes=12, memory=12*1600, time=5)\n",
      "b3lyp_tri_v3.calc.description = 'UB3LYP, mult=3'\n",
      "#b3lyp_tri_v3.calc.start()"
     ],
     "language": "python",
     "metadata": {},
     "outputs": [],
     "prompt_number": 17
    },
    {
     "cell_type": "code",
     "collapsed": false,
     "input": [
      "check_calcs([b3lyp_tri_v3])\n",
      "mols_to_html([b3lyp_tri_v3])"
     ],
     "language": "python",
     "metadata": {},
     "outputs": [
      {
       "html": [
        "\n",
        "           <script type=\"text/javascript\">\n",
        "           function view_function (event, file_n) {\n",
        "               if (event.ctrlKey && event.shiftKey){\n",
        "                   IPython.notebook.kernel.execute(\"cc_notebook_utils.pygview('\" + file_n + \".log')\");\n",
        "               }\n",
        "               else if (event.ctrlKey){\n",
        "                   IPython.notebook.kernel.execute(\"cc_notebook_utils.pygausssum('\" + file_n + \".log')\");\n",
        "               }\n",
        "               else if (event.shiftKey){\n",
        "                   IPython.notebook.kernel.execute(\"cc_notebook_utils.pyvogadro('\" + file_n + \".log')\");\n",
        "               }\n",
        "               else {\n",
        "                   IPython.notebook.kernel.execute(\"cc_notebook_utils.pyvim('\" + file_n + \".log')\");\n",
        "                   IPython.notebook.kernel.execute(\"print(file_n)\");\n",
        "               }\n",
        "           }\n",
        "           </script>\n",
        "    <style>\n",
        "    table\n",
        "    {\n",
        "        border-collapse:collapse;\n",
        "    }\n",
        "    td\n",
        "    {\n",
        "        padding:15px;\n",
        "    }\n",
        "    </style>\n",
        "    <body>\n",
        "    <table bgcolor=\"white\">\n",
        "    <col/><tr><td>triang_graphene_v3</td><td><a href = \"files/triang_graph/triang_graphene_v3.com\" target = \"_blank\">com</a></td><td><input type=\"button\" value=\"Smart Log\" id=\"triang_graphene_v3\" onclick=\"view_function(event, this.id)\" /></td><td>Success</td></tr>\n",
        "    </table>\n",
        "    </body>"
       ],
       "metadata": {},
       "output_type": "pyout",
       "prompt_number": 18,
       "text": [
        "<IPython.core.display.HTML at 0x2974490>"
       ]
      }
     ],
     "prompt_number": 18
    },
    {
     "cell_type": "code",
     "collapsed": false,
     "input": [
      "b3lyp_tri_v3.calc.max_data['S2A'], b3lyp_tri_v3.calc.energy_zero - b3lyp_tri_xqc.calc.energy_zero"
     ],
     "language": "python",
     "metadata": {},
     "outputs": [
      {
       "metadata": {},
       "output_type": "pyout",
       "prompt_number": 19,
       "text": [
        "(2.00843, -1.032277899888868)"
       ]
      }
     ],
     "prompt_number": 19
    },
    {
     "cell_type": "markdown",
     "metadata": {
      "slideshow": {
       "slide_type": "subslide"
      }
     },
     "source": [
      "Is this stable?"
     ]
    },
    {
     "cell_type": "code",
     "collapsed": false,
     "input": [
      "b3lyp_tri_v3_stable = copy.deepcopy(b3lyp_tri_v3)\n",
      "b3lyp_tri_v3_stable.calc.restart(stable='opt')\n",
      "b3lyp_tri_v3_stable.calc.description = 'UB3LYP, mult=3, stable=opt'\n",
      "#b3lyp_tri_v3.calc.start()\n",
      "check_calcs([b3lyp_tri_v3_stable])\n",
      "mols_to_html([b3lyp_tri_v3_stable])"
     ],
     "language": "python",
     "metadata": {},
     "outputs": [
      {
       "html": [
        "\n",
        "           <script type=\"text/javascript\">\n",
        "           function view_function (event, file_n) {\n",
        "               if (event.ctrlKey && event.shiftKey){\n",
        "                   IPython.notebook.kernel.execute(\"cc_notebook_utils.pygview('\" + file_n + \".log')\");\n",
        "               }\n",
        "               else if (event.ctrlKey){\n",
        "                   IPython.notebook.kernel.execute(\"cc_notebook_utils.pygausssum('\" + file_n + \".log')\");\n",
        "               }\n",
        "               else if (event.shiftKey){\n",
        "                   IPython.notebook.kernel.execute(\"cc_notebook_utils.pyvogadro('\" + file_n + \".log')\");\n",
        "               }\n",
        "               else {\n",
        "                   IPython.notebook.kernel.execute(\"cc_notebook_utils.pyvim('\" + file_n + \".log')\");\n",
        "                   IPython.notebook.kernel.execute(\"print(file_n)\");\n",
        "               }\n",
        "           }\n",
        "           </script>\n",
        "    <style>\n",
        "    table\n",
        "    {\n",
        "        border-collapse:collapse;\n",
        "    }\n",
        "    td\n",
        "    {\n",
        "        padding:15px;\n",
        "    }\n",
        "    </style>\n",
        "    <body>\n",
        "    <table bgcolor=\"white\">\n",
        "    <col/><tr><td>triang_graphene_v3_restart_1</td><td><a href = \"files/triang_graph/triang_graphene_v3_restart_1.com\" target = \"_blank\">com</a></td><td><input type=\"button\" value=\"Smart Log\" id=\"triang_graphene_v3_restart_1\" onclick=\"view_function(event, this.id)\" /></td><td>Success</td></tr>\n",
        "    </table>\n",
        "    </body>"
       ],
       "metadata": {},
       "output_type": "pyout",
       "prompt_number": 20,
       "text": [
        "<IPython.core.display.HTML at 0x40dfed0>"
       ]
      }
     ],
     "prompt_number": 20
    },
    {
     "cell_type": "markdown",
     "metadata": {},
     "source": [
      "Yes wavefunction is stable."
     ]
    },
    {
     "cell_type": "code",
     "collapsed": false,
     "input": [
      "b3lyp_tri_v3.calc.max_data['S2A'], b3lyp_tri_v3.calc.energy_zero - b3lyp_tri_xqc.calc.energy_zero"
     ],
     "language": "python",
     "metadata": {},
     "outputs": [
      {
       "metadata": {},
       "output_type": "pyout",
       "prompt_number": 21,
       "text": [
        "(2.00843, -1.032277899888868)"
       ]
      }
     ],
     "prompt_number": 21
    },
    {
     "cell_type": "markdown",
     "metadata": {
      "slideshow": {
       "slide_type": "subslide"
      }
     },
     "source": [
      "Just to be sure let's completely remove symmetry:"
     ]
    },
    {
     "cell_type": "code",
     "collapsed": false,
     "input": [
      "b3lyp_tri_v4 = read(tri_graph_init)\n",
      "b3lyp_tri_v4.set_calculator(Gaussian(label='triang_graphene_v4', method='UB3LYP', basis='6-31G(d)', multiplicity=3, nosymmetry='nosymmetry'))\n",
      "b3lyp_tri_v4.calc.set_job(nodes=12, memory=12*1600, time=5)\n",
      "b3lyp_tri_v4.calc.description = 'UB3LYP, mult=3, nosymm'\n",
      "#b3lyp_tri_v4.calc.start()"
     ],
     "language": "python",
     "metadata": {},
     "outputs": [],
     "prompt_number": 22
    },
    {
     "cell_type": "code",
     "collapsed": false,
     "input": [
      "check_calcs([b3lyp_tri_v4])\n",
      "mols_to_html([b3lyp_tri_v4])"
     ],
     "language": "python",
     "metadata": {},
     "outputs": [
      {
       "html": [
        "\n",
        "           <script type=\"text/javascript\">\n",
        "           function view_function (event, file_n) {\n",
        "               if (event.ctrlKey && event.shiftKey){\n",
        "                   IPython.notebook.kernel.execute(\"cc_notebook_utils.pygview('\" + file_n + \".log')\");\n",
        "               }\n",
        "               else if (event.ctrlKey){\n",
        "                   IPython.notebook.kernel.execute(\"cc_notebook_utils.pygausssum('\" + file_n + \".log')\");\n",
        "               }\n",
        "               else if (event.shiftKey){\n",
        "                   IPython.notebook.kernel.execute(\"cc_notebook_utils.pyvogadro('\" + file_n + \".log')\");\n",
        "               }\n",
        "               else {\n",
        "                   IPython.notebook.kernel.execute(\"cc_notebook_utils.pyvim('\" + file_n + \".log')\");\n",
        "                   IPython.notebook.kernel.execute(\"print(file_n)\");\n",
        "               }\n",
        "           }\n",
        "           </script>\n",
        "    <style>\n",
        "    table\n",
        "    {\n",
        "        border-collapse:collapse;\n",
        "    }\n",
        "    td\n",
        "    {\n",
        "        padding:15px;\n",
        "    }\n",
        "    </style>\n",
        "    <body>\n",
        "    <table bgcolor=\"white\">\n",
        "    <col/><tr><td>triang_graphene_v4</td><td><a href = \"files/triang_graph/triang_graphene_v4.com\" target = \"_blank\">com</a></td><td><input type=\"button\" value=\"Smart Log\" id=\"triang_graphene_v4\" onclick=\"view_function(event, this.id)\" /></td><td>Success</td></tr>\n",
        "    </table>\n",
        "    </body>"
       ],
       "metadata": {},
       "output_type": "pyout",
       "prompt_number": 23,
       "text": [
        "<IPython.core.display.HTML at 0x40d6b90>"
       ]
      }
     ],
     "prompt_number": 23
    },
    {
     "cell_type": "code",
     "collapsed": false,
     "input": [
      "b3lyp_tri_v4_stable = copy.deepcopy(b3lyp_tri_v4)\n",
      "b3lyp_tri_v4_stable.calc.restart(stable='opt')\n",
      "b3lyp_tri_v4_stable.calc.description = 'UB3LYP, mult=3, nosymm, stable=opt'\n",
      "#b3lyp_tri_v4_stable.calc.start()"
     ],
     "language": "python",
     "metadata": {
      "slideshow": {
       "slide_type": "subslide"
      }
     },
     "outputs": [],
     "prompt_number": 24
    },
    {
     "cell_type": "code",
     "collapsed": false,
     "input": [
      "check_calcs([b3lyp_tri_v4_stable])\n",
      "mols_to_html([b3lyp_tri_v4_stable])"
     ],
     "language": "python",
     "metadata": {},
     "outputs": [
      {
       "html": [
        "\n",
        "           <script type=\"text/javascript\">\n",
        "           function view_function (event, file_n) {\n",
        "               if (event.ctrlKey && event.shiftKey){\n",
        "                   IPython.notebook.kernel.execute(\"cc_notebook_utils.pygview('\" + file_n + \".log')\");\n",
        "               }\n",
        "               else if (event.ctrlKey){\n",
        "                   IPython.notebook.kernel.execute(\"cc_notebook_utils.pygausssum('\" + file_n + \".log')\");\n",
        "               }\n",
        "               else if (event.shiftKey){\n",
        "                   IPython.notebook.kernel.execute(\"cc_notebook_utils.pyvogadro('\" + file_n + \".log')\");\n",
        "               }\n",
        "               else {\n",
        "                   IPython.notebook.kernel.execute(\"cc_notebook_utils.pyvim('\" + file_n + \".log')\");\n",
        "                   IPython.notebook.kernel.execute(\"print(file_n)\");\n",
        "               }\n",
        "           }\n",
        "           </script>\n",
        "    <style>\n",
        "    table\n",
        "    {\n",
        "        border-collapse:collapse;\n",
        "    }\n",
        "    td\n",
        "    {\n",
        "        padding:15px;\n",
        "    }\n",
        "    </style>\n",
        "    <body>\n",
        "    <table bgcolor=\"white\">\n",
        "    <col/><tr><td>triang_graphene_v4_restart_1</td><td><a href = \"files/triang_graph/triang_graphene_v4_restart_1.com\" target = \"_blank\">com</a></td><td><input type=\"button\" value=\"Smart Log\" id=\"triang_graphene_v4_restart_1\" onclick=\"view_function(event, this.id)\" /></td><td>Success</td></tr>\n",
        "    </table>\n",
        "    </body>"
       ],
       "metadata": {},
       "output_type": "pyout",
       "prompt_number": 25,
       "text": [
        "<IPython.core.display.HTML at 0x40d6890>"
       ]
      }
     ],
     "prompt_number": 25
    },
    {
     "cell_type": "markdown",
     "metadata": {
      "slideshow": {
       "slide_type": "subslide"
      }
     },
     "source": [
      "And for completeness let's try an unreasonabl high multiplicity:"
     ]
    },
    {
     "cell_type": "code",
     "collapsed": false,
     "input": [
      "b3lyp_tri_v5 = read(tri_graph_init)\n",
      "b3lyp_tri_v5.set_calculator(Gaussian(label='triang_graphene_v5', method='UB3LYP', basis='6-31G(d)', multiplicity=5, nosymmetry='nosymmetry'))\n",
      "b3lyp_tri_v5.calc.set_job(nodes=12, memory=12*1600, time=5)\n",
      "b3lyp_tri_v5.calc.description = 'UB3LYP, mult=5, nosymm'\n",
      "#b3lyp_tri_v5.calc.start()"
     ],
     "language": "python",
     "metadata": {},
     "outputs": [],
     "prompt_number": 26
    },
    {
     "cell_type": "code",
     "collapsed": false,
     "input": [
      "check_calcs([b3lyp_tri_v5])\n",
      "mols_to_html([b3lyp_tri_v5])"
     ],
     "language": "python",
     "metadata": {},
     "outputs": [
      {
       "html": [
        "\n",
        "           <script type=\"text/javascript\">\n",
        "           function view_function (event, file_n) {\n",
        "               if (event.ctrlKey && event.shiftKey){\n",
        "                   IPython.notebook.kernel.execute(\"cc_notebook_utils.pygview('\" + file_n + \".log')\");\n",
        "               }\n",
        "               else if (event.ctrlKey){\n",
        "                   IPython.notebook.kernel.execute(\"cc_notebook_utils.pygausssum('\" + file_n + \".log')\");\n",
        "               }\n",
        "               else if (event.shiftKey){\n",
        "                   IPython.notebook.kernel.execute(\"cc_notebook_utils.pyvogadro('\" + file_n + \".log')\");\n",
        "               }\n",
        "               else {\n",
        "                   IPython.notebook.kernel.execute(\"cc_notebook_utils.pyvim('\" + file_n + \".log')\");\n",
        "                   IPython.notebook.kernel.execute(\"print(file_n)\");\n",
        "               }\n",
        "           }\n",
        "           </script>\n",
        "    <style>\n",
        "    table\n",
        "    {\n",
        "        border-collapse:collapse;\n",
        "    }\n",
        "    td\n",
        "    {\n",
        "        padding:15px;\n",
        "    }\n",
        "    </style>\n",
        "    <body>\n",
        "    <table bgcolor=\"white\">\n",
        "    <col/><tr><td>triang_graphene_v5</td><td><a href = \"files/triang_graph/triang_graphene_v5.com\" target = \"_blank\">com</a></td><td><input type=\"button\" value=\"Smart Log\" id=\"triang_graphene_v5\" onclick=\"view_function(event, this.id)\" /></td><td>Success</td></tr>\n",
        "    </table>\n",
        "    </body>"
       ],
       "metadata": {},
       "output_type": "pyout",
       "prompt_number": 27,
       "text": [
        "<IPython.core.display.HTML at 0x3ca1610>"
       ]
      }
     ],
     "prompt_number": 27
    },
    {
     "cell_type": "code",
     "collapsed": false,
     "input": [
      "b3lyp_tri_v5_stable = copy.deepcopy(b3lyp_tri_v5)\n",
      "b3lyp_tri_v5_stable.calc.restart(stable='opt')\n",
      "b3lyp_tri_v5_stable.calc.description = 'UB3LYP, mult=5, nosymm, stable=opt'\n",
      "#b3lyp_tri_v5_stable.calc.start()"
     ],
     "language": "python",
     "metadata": {
      "slideshow": {
       "slide_type": "subslide"
      }
     },
     "outputs": [],
     "prompt_number": 28
    },
    {
     "cell_type": "code",
     "collapsed": false,
     "input": [
      "check_calcs([b3lyp_tri_v5_stable])\n",
      "mols_to_html([b3lyp_tri_v5_stable])"
     ],
     "language": "python",
     "metadata": {},
     "outputs": [
      {
       "html": [
        "\n",
        "           <script type=\"text/javascript\">\n",
        "           function view_function (event, file_n) {\n",
        "               if (event.ctrlKey && event.shiftKey){\n",
        "                   IPython.notebook.kernel.execute(\"cc_notebook_utils.pygview('\" + file_n + \".log')\");\n",
        "               }\n",
        "               else if (event.ctrlKey){\n",
        "                   IPython.notebook.kernel.execute(\"cc_notebook_utils.pygausssum('\" + file_n + \".log')\");\n",
        "               }\n",
        "               else if (event.shiftKey){\n",
        "                   IPython.notebook.kernel.execute(\"cc_notebook_utils.pyvogadro('\" + file_n + \".log')\");\n",
        "               }\n",
        "               else {\n",
        "                   IPython.notebook.kernel.execute(\"cc_notebook_utils.pyvim('\" + file_n + \".log')\");\n",
        "                   IPython.notebook.kernel.execute(\"print(file_n)\");\n",
        "               }\n",
        "           }\n",
        "           </script>\n",
        "    <style>\n",
        "    table\n",
        "    {\n",
        "        border-collapse:collapse;\n",
        "    }\n",
        "    td\n",
        "    {\n",
        "        padding:15px;\n",
        "    }\n",
        "    </style>\n",
        "    <body>\n",
        "    <table bgcolor=\"white\">\n",
        "    <col/><tr><td>triang_graphene_v5_restart_1</td><td><a href = \"files/triang_graph/triang_graphene_v5_restart_1.com\" target = \"_blank\">com</a></td><td><input type=\"button\" value=\"Smart Log\" id=\"triang_graphene_v5_restart_1\" onclick=\"view_function(event, this.id)\" /></td><td>Success</td></tr>\n",
        "    </table>\n",
        "    </body>"
       ],
       "metadata": {},
       "output_type": "pyout",
       "prompt_number": 29,
       "text": [
        "<IPython.core.display.HTML at 0x2dab490>"
       ]
      }
     ],
     "prompt_number": 29
    },
    {
     "cell_type": "code",
     "collapsed": false,
     "input": [
      "from collections import OrderedDict as OD\n",
      "\n",
      "datify = lambda m: OD([['Calc', m.calc.description],\n",
      "                       ['Energy', m.calc.energy_zero], \n",
      "                       ['Spin', m.calc.max_data.get('S2A')], \n",
      "                       ['Energy_delta', m.calc.energy_zero - b3lyp_tri_xqc.calc.energy_zero]])\n",
      "\n",
      "data = map(datify, [b3lyp_tri_xqc, \n",
      "                    b3lyp_tri_stable, \n",
      "                    b3lyp_tri_v2, \n",
      "                    b3lyp_tri_v2_stable, \n",
      "                    b3lyp_tri_v3, \n",
      "                    b3lyp_tri_v3_stable, \n",
      "                    b3lyp_tri_v4, \n",
      "                    b3lyp_tri_v4_stable, \n",
      "                    b3lyp_tri_v5, \n",
      "                    b3lyp_tri_v5_stable])\n",
      "\n",
      "ad_disp.html_multi_dict(data)"
     ],
     "language": "python",
     "metadata": {
      "slideshow": {
       "slide_type": "subslide"
      }
     },
     "outputs": [
      {
       "html": [
        "<table class=\"nowrap\"><tr>\n",
        "<th>\n",
        "Calc\n",
        "</th>\n",
        "<th>\n",
        "Energy\n",
        "</th>\n",
        "<th>\n",
        "Spin\n",
        "</th>\n",
        "<th>\n",
        "Energy_delta\n",
        "</th>\n",
        "<tr>\n",
        "<td><pre>\n",
        "'RB3LYP'\n",
        "</pre></td>\n",
        "<td><pre>\n",
        "-23008.773526396573\n",
        "</pre></td>\n",
        "<td><pre>\n",
        "None\n",
        "</pre></td>\n",
        "<td><pre>\n",
        "0.0\n",
        "</pre></td>\n",
        "</tr>\n",
        "<tr>\n",
        "<td><pre>\n",
        "'RB3LYP, stable=opt'\n",
        "</pre></td>\n",
        "<td><pre>\n",
        "-23009.50328704754\n",
        "</pre></td>\n",
        "<td><pre>\n",
        "0.317148\n",
        "</pre></td>\n",
        "<td><pre>\n",
        "-0.7297606509673642\n",
        "</pre></td>\n",
        "</tr>\n",
        "<tr>\n",
        "<td><pre>\n",
        "'UB3LYP, mult=1'\n",
        "</pre></td>\n",
        "<td><pre>\n",
        "-23009.463172008065\n",
        "</pre></td>\n",
        "<td><pre>\n",
        "0.288534\n",
        "</pre></td>\n",
        "<td><pre>\n",
        "-0.6896456114918692\n",
        "</pre></td>\n",
        "</tr>\n",
        "<tr>\n",
        "<td><pre>\n",
        "'UB3LYP, mult=1, stable=opt'\n",
        "</pre></td>\n",
        "<td><pre>\n",
        "-23009.50328704754\n",
        "</pre></td>\n",
        "<td><pre>\n",
        "0.317152\n",
        "</pre></td>\n",
        "<td><pre>\n",
        "-0.7297606509673642\n",
        "</pre></td>\n",
        "</tr>\n",
        "<tr>\n",
        "<td><pre>\n",
        "'UB3LYP, mult=3'\n",
        "</pre></td>\n",
        "<td><pre>\n",
        "-23009.805804296462\n",
        "</pre></td>\n",
        "<td><pre>\n",
        "2.00843\n",
        "</pre></td>\n",
        "<td><pre>\n",
        "-1.032277899888868\n",
        "</pre></td>\n",
        "</tr>\n",
        "<tr>\n",
        "<td><pre>\n",
        "'UB3LYP, mult=3, stable=opt'\n",
        "</pre></td>\n",
        "<td><pre>\n",
        "-23009.805804296462\n",
        "</pre></td>\n",
        "<td><pre>\n",
        "2.00843\n",
        "</pre></td>\n",
        "<td><pre>\n",
        "-1.032277899888868\n",
        "</pre></td>\n",
        "</tr>\n",
        "<tr>\n",
        "<td><pre>\n",
        "'UB3LYP, mult=3, nosymm'\n",
        "</pre></td>\n",
        "<td><pre>\n",
        "-23009.804974348895\n",
        "</pre></td>\n",
        "<td><pre>\n",
        "2.00843\n",
        "</pre></td>\n",
        "<td><pre>\n",
        "-1.0314479523221962\n",
        "</pre></td>\n",
        "</tr>\n",
        "<tr>\n",
        "<td><pre>\n",
        "'UB3LYP, mult=3, nosymm, stable=opt'\n",
        "</pre></td>\n",
        "<td><pre>\n",
        "-23009.804974348895\n",
        "</pre></td>\n",
        "<td><pre>\n",
        "2.00843\n",
        "</pre></td>\n",
        "<td><pre>\n",
        "-1.0314479523221962\n",
        "</pre></td>\n",
        "</tr>\n",
        "<tr>\n",
        "<td><pre>\n",
        "'UB3LYP, mult=5, nosymm'\n",
        "</pre></td>\n",
        "<td><pre>\n",
        "-23005.64902142866\n",
        "</pre></td>\n",
        "<td><pre>\n",
        "6.001369\n",
        "</pre></td>\n",
        "<td><pre>\n",
        "3.1245049679127987\n",
        "</pre></td>\n",
        "</tr>\n",
        "<tr>\n",
        "<td><pre>\n",
        "'UB3LYP, mult=5, nosymm, stable=opt'\n",
        "</pre></td>\n",
        "<td><pre>\n",
        "-23005.64902142866\n",
        "</pre></td>\n",
        "<td><pre>\n",
        "6.001369\n",
        "</pre></td>\n",
        "<td><pre>\n",
        "3.1245049679127987\n",
        "</pre></td>\n",
        "</tr>\n",
        "</table>"
       ],
       "metadata": {},
       "output_type": "pyout",
       "prompt_number": 37,
       "text": [
        "<IPython.core.display.HTML at 0x42f7150>"
       ]
      }
     ],
     "prompt_number": 37
    },
    {
     "cell_type": "code",
     "collapsed": false,
     "input": [
      "mols_to_html([b3lyp_tri_xqc, b3lyp_tri_stable, b3lyp_tri_v2, b3lyp_tri_v2_stable, b3lyp_tri_v3, b3lyp_tri_v3_stable, b3lyp_tri_v4, b3lyp_tri_v4_stable, b3lyp_tri_v5, b3lyp_tri_v5_stable])"
     ],
     "language": "python",
     "metadata": {
      "slideshow": {
       "slide_type": "subslide"
      }
     },
     "outputs": [
      {
       "html": [
        "\n",
        "           <script type=\"text/javascript\">\n",
        "           function view_function (event, file_n) {\n",
        "               if (event.ctrlKey && event.shiftKey){\n",
        "                   IPython.notebook.kernel.execute(\"cc_notebook_utils.pygview('\" + file_n + \".log')\");\n",
        "               }\n",
        "               else if (event.ctrlKey){\n",
        "                   IPython.notebook.kernel.execute(\"cc_notebook_utils.pygausssum('\" + file_n + \".log')\");\n",
        "               }\n",
        "               else if (event.shiftKey){\n",
        "                   IPython.notebook.kernel.execute(\"cc_notebook_utils.pyvogadro('\" + file_n + \".log')\");\n",
        "               }\n",
        "               else {\n",
        "                   IPython.notebook.kernel.execute(\"cc_notebook_utils.pyvim('\" + file_n + \".log')\");\n",
        "                   IPython.notebook.kernel.execute(\"print(file_n)\");\n",
        "               }\n",
        "           }\n",
        "           </script>\n",
        "    <style>\n",
        "    table\n",
        "    {\n",
        "        border-collapse:collapse;\n",
        "    }\n",
        "    td\n",
        "    {\n",
        "        padding:15px;\n",
        "    }\n",
        "    </style>\n",
        "    <body>\n",
        "    <table bgcolor=\"white\">\n",
        "    <col/><tr><td>triang_graphene_xqc</td><td><a href = \"files/triang_graph/triang_graphene_xqc.com\" target = \"_blank\">com</a></td><td><input type=\"button\" value=\"Smart Log\" id=\"triang_graphene_xqc\" onclick=\"view_function(event, this.id)\" /></td><td>Success</td></tr><tr><td>triang_graphene_xqc_stable_restart_1</td><td><a href = \"files/triang_graph/triang_graphene_xqc_stable_restart_1.com\" target = \"_blank\">com</a></td><td><input type=\"button\" value=\"Smart Log\" id=\"triang_graphene_xqc_stable_restart_1\" onclick=\"view_function(event, this.id)\" /></td><td>Success</td></tr><tr><td>triang_graphene_v2</td><td><a href = \"files/triang_graph/triang_graphene_v2.com\" target = \"_blank\">com</a></td><td><input type=\"button\" value=\"Smart Log\" id=\"triang_graphene_v2\" onclick=\"view_function(event, this.id)\" /></td><td>Success</td></tr><tr><td>triang_graphene_v2_restart_1</td><td><a href = \"files/triang_graph/triang_graphene_v2_restart_1.com\" target = \"_blank\">com</a></td><td><input type=\"button\" value=\"Smart Log\" id=\"triang_graphene_v2_restart_1\" onclick=\"view_function(event, this.id)\" /></td><td>Success</td></tr><tr><td>triang_graphene_v3</td><td><a href = \"files/triang_graph/triang_graphene_v3.com\" target = \"_blank\">com</a></td><td><input type=\"button\" value=\"Smart Log\" id=\"triang_graphene_v3\" onclick=\"view_function(event, this.id)\" /></td><td>Success</td></tr><tr><td>triang_graphene_v3_restart_1</td><td><a href = \"files/triang_graph/triang_graphene_v3_restart_1.com\" target = \"_blank\">com</a></td><td><input type=\"button\" value=\"Smart Log\" id=\"triang_graphene_v3_restart_1\" onclick=\"view_function(event, this.id)\" /></td><td>Success</td></tr><tr><td>triang_graphene_v4</td><td><a href = \"files/triang_graph/triang_graphene_v4.com\" target = \"_blank\">com</a></td><td><input type=\"button\" value=\"Smart Log\" id=\"triang_graphene_v4\" onclick=\"view_function(event, this.id)\" /></td><td>Success</td></tr><tr><td>triang_graphene_v4_restart_1</td><td><a href = \"files/triang_graph/triang_graphene_v4_restart_1.com\" target = \"_blank\">com</a></td><td><input type=\"button\" value=\"Smart Log\" id=\"triang_graphene_v4_restart_1\" onclick=\"view_function(event, this.id)\" /></td><td>Success</td></tr><tr><td>triang_graphene_v5</td><td><a href = \"files/triang_graph/triang_graphene_v5.com\" target = \"_blank\">com</a></td><td><input type=\"button\" value=\"Smart Log\" id=\"triang_graphene_v5\" onclick=\"view_function(event, this.id)\" /></td><td>Success</td></tr><tr><td>triang_graphene_v5_restart_1</td><td><a href = \"files/triang_graph/triang_graphene_v5_restart_1.com\" target = \"_blank\">com</a></td><td><input type=\"button\" value=\"Smart Log\" id=\"triang_graphene_v5_restart_1\" onclick=\"view_function(event, this.id)\" /></td><td>Success</td></tr>\n",
        "    </table>\n",
        "    </body>"
       ],
       "metadata": {},
       "output_type": "pyout",
       "prompt_number": 34,
       "text": [
        "<IPython.core.display.HTML at 0x3659650>"
       ]
      }
     ],
     "prompt_number": 34
    },
    {
     "cell_type": "markdown",
     "metadata": {},
     "source": [
      "If we run an unrestricted calculation but specify multiplicity=1 why is this different to a restricted calculation - why do we get some net spin (see calc.max_data['S2A'])? \n",
      "This is an error associated with unrestricted calcs, S2A attempts to correct for it but doesn't quite get to zero.\n",
      "\n",
      "Is there a keyword that allows guassian to pick the lowest energy multiplicity? \n",
      "No."
     ]
    },
    {
     "cell_type": "heading",
     "level": 3,
     "metadata": {
      "slideshow": {
       "slide_type": "slide"
      }
     },
     "source": [
      "Conclusions and Future work:"
     ]
    },
    {
     "cell_type": "code",
     "collapsed": false,
     "input": [
      "Do new formats of allow us to include implict knowledge only achievable by interning at different groups explicitly without further diluting scientific knowledge?\n",
      "   Notebook -> Mindmap?"
     ],
     "language": "python",
     "metadata": {
      "slideshow": {
       "slide_type": "slide"
      }
     },
     "outputs": []
    },
    {
     "cell_type": "code",
     "collapsed": false,
     "input": [
      "Several other relevant python packages covering molecular dynamics, chemoinformatics. Lots of possibilities."
     ],
     "language": "python",
     "metadata": {},
     "outputs": []
    },
    {
     "cell_type": "markdown",
     "metadata": {
      "slideshow": {
       "slide_type": "slide"
      }
     },
     "source": [
      "Thanks to supervisor Mike Bearpark and the rest of Bearpark photochemistry group.\n",
      "The EPSRC\n",
      "and to all of you."
     ]
    }
   ],
   "metadata": {}
  }
 ]
}